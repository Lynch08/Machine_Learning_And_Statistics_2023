{
 "cells": [
  {
   "cell_type": "markdown",
   "id": "81c13f6a-e313-4482-ad39-7359d75e0bf7",
   "metadata": {},
   "source": [
    "## Machine Learning\n",
    "\n",
    "****"
   ]
  },
  {
   "cell_type": "code",
   "execution_count": 2,
   "id": "3c7812c8-fb49-4add-baa5-7a46059a6375",
   "metadata": {},
   "outputs": [],
   "source": [
    "# statistical arrays\n",
    "import numpy as np\n",
    "\n",
    "#nureal networks\n",
    "import tensorflow.keras as keras"
   ]
  },
  {
   "cell_type": "markdown",
   "id": "14362efc-aefc-4a16-93a5-01dcfcbb3d02",
   "metadata": {},
   "source": [
    "### Single Nuron"
   ]
  },
  {
   "cell_type": "code",
   "execution_count": null,
   "id": "eefc0937-3ed4-45ad-9ea5-bdfd0d403592",
   "metadata": {},
   "outputs": [],
   "source": []
  }
 ],
 "metadata": {
  "kernelspec": {
   "display_name": "Python 3 (ipykernel)",
   "language": "python",
   "name": "python3"
  },
  "language_info": {
   "codemirror_mode": {
    "name": "ipython",
    "version": 3
   },
   "file_extension": ".py",
   "mimetype": "text/x-python",
   "name": "python",
   "nbconvert_exporter": "python",
   "pygments_lexer": "ipython3",
   "version": "3.9.12"
  }
 },
 "nbformat": 4,
 "nbformat_minor": 5
}
