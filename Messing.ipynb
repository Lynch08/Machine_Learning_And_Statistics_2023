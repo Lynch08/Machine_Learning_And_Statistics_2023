{
 "cells": [
  {
   "cell_type": "code",
   "execution_count": null,
   "id": "07ff51a5-fe0e-45c2-ae55-6d9245ebe1b5",
   "metadata": {},
   "outputs": [],
   "source": []
  },
  {
   "cell_type": "markdown",
   "id": "2254d262-132b-4ae0-ad61-fd2bf9ce5522",
   "metadata": {},
   "source": [
    "## Optimisation"
   ]
  },
  {
   "cell_type": "code",
   "execution_count": 18,
   "id": "e0c9d287-3937-451c-8b32-79f4a33a2181",
   "metadata": {},
   "outputs": [],
   "source": [
    "# Optimization\n",
    "import scipy.optimize as so\n",
    "\n",
    "# Numerical Arrays\n",
    "import numpy as np\n",
    "\n",
    "# Plotting\n",
    "import matplotlib.pyplot as plt"
   ]
  },
  {
   "cell_type": "code",
   "execution_count": 19,
   "id": "3b946724-4368-43a9-8a47-d0a2155cfdda",
   "metadata": {},
   "outputs": [
    {
     "data": {
      "text/plain": [
       "(array([ 0.,  1.,  2.,  3.,  4.,  5.,  6.,  7.,  8.,  9., 10., 11., 12.,\n",
       "        13., 14., 15., 16., 17., 18., 19., 20.]),\n",
       " array([  7.24455167,  20.6339928 ,  17.39294246,  23.56179762,\n",
       "         26.60331285,  37.05429674,  36.04871874,  38.01449661,\n",
       "         44.41440875,  58.56988362,  56.50266215,  64.43173514,\n",
       "         73.1414845 ,  75.39071267,  76.00779625,  86.73887795,\n",
       "         94.32014904,  90.75324546,  93.10294448, 106.51030763,\n",
       "        107.19486079]))"
      ]
     },
     "execution_count": 19,
     "metadata": {},
     "output_type": "execute_result"
    }
   ],
   "source": [
    "# Fix x values\n",
    "x = np.arange(0.0, 21.0, 1.0)\n",
    "\n",
    "# Fix y values\n",
    "y = 5.0 * x + 10.0 + np.random.normal(0.0, 5.0, x.size)\n",
    "\n",
    "# Print the values\n",
    "x, y"
   ]
  },
  {
   "cell_type": "code",
   "execution_count": 20,
   "id": "9e274716-d22a-47b6-a115-9a1a952b3c4e",
   "metadata": {},
   "outputs": [],
   "source": [
    "# Use minimize functuion in scipy.minimize\n",
    "# First we need a function to minimize\n",
    "#\n",
    "\n",
    "# Here is the cost function\n",
    "# Must take a SINGLE argument - but our cost function takes two(m and c)\n",
    "# Put in arrey called MC to get around this\n",
    "def cost(MC):\n",
    "    # Unpack valuses for MC\n",
    "    m, c = MC\n",
    "    # Data points for the function\n",
    "    cost = np.sum(( y- m * x - c)**2)\n",
    "    return cost"
   ]
  },
  {
   "cell_type": "code",
   "execution_count": 21,
   "id": "9e084b2c-3f39-444e-a7f5-0ee9dab26f60",
   "metadata": {},
   "outputs": [
    {
     "data": {
      "text/plain": [
       "308.265031364088"
      ]
     },
     "execution_count": 21,
     "metadata": {},
     "output_type": "execute_result"
    }
   ],
   "source": [
    "# Run a test\n",
    "cost((5.0, 10.0))"
   ]
  },
  {
   "cell_type": "code",
   "execution_count": 30,
   "id": "d998a8cd-4704-4a15-a390-1555a96427d8",
   "metadata": {},
   "outputs": [
    {
     "data": {
      "text/plain": [
       "      fun: 274.98552348356327\n",
       " hess_inv: array([[ 0.00064935, -0.00649351],\n",
       "       [-0.00649351,  0.08874461]])\n",
       "      jac: array([3.81469727e-06, 0.00000000e+00])\n",
       "  message: 'Optimization terminated successfully.'\n",
       "     nfev: 21\n",
       "      nit: 5\n",
       "     njev: 7\n",
       "   status: 0\n",
       "  success: True\n",
       "        x: array([4.98495446, 8.89489243])"
      ]
     },
     "execution_count": 30,
     "metadata": {},
     "output_type": "execute_result"
    }
   ],
   "source": [
    "# https://docs.scipy.org/doc/scipy/reference/generated/scipy.optimize.minimize.html\n",
    "result = so.minimize(cost, (3,3))\n",
    "\n",
    "# show the results\n",
    "result"
   ]
  },
  {
   "cell_type": "code",
   "execution_count": 31,
   "id": "cbe09c09-ed9b-4001-9e5f-0b1dae375d10",
   "metadata": {},
   "outputs": [
    {
     "data": {
      "text/plain": [
       "(4.9849544633216185, 8.894892429689694)"
      ]
     },
     "execution_count": 31,
     "metadata": {},
     "output_type": "execute_result"
    }
   ],
   "source": [
    "m_o, c_o = result.x\n",
    "\n",
    "m_o, c_o"
   ]
  },
  {
   "cell_type": "code",
   "execution_count": 34,
   "id": "f8f22028-83b6-4d40-999e-714c03632027",
   "metadata": {},
   "outputs": [
    {
     "data": {
      "text/plain": [
       "(4.9849544936555965, 8.894892107000969)"
      ]
     },
     "execution_count": 34,
     "metadata": {},
     "output_type": "execute_result"
    }
   ],
   "source": [
    "# analyical result\n",
    "m_a, c_a = np.polyfit(x, y, 1)\n",
    "m_a, c_a"
   ]
  },
  {
   "cell_type": "code",
   "execution_count": 35,
   "id": "02ce21cb-88f7-432e-be97-d612821bea8e",
   "metadata": {},
   "outputs": [
    {
     "data": {
      "text/plain": [
       "<function matplotlib.pyplot.show(close=None, block=None)>"
      ]
     },
     "execution_count": 35,
     "metadata": {},
     "output_type": "execute_result"
    },
    {
     "data": {
      "image/png": "[encoded data removed]",
      "text/plain": [
       "<Figure size 720x576 with 1 Axes>"
      ]
     },
     "metadata": {
      "needs_background": "light"
     },
     "output_type": "display_data"
    }
   ],
   "source": [
    "# Plot to best fit line from the optimization\n",
    "\n",
    "fig, ax = plt.subplots(figsize=(10,8))\n",
    "ax.plot(x, y, 'k.', label = \"Original Data\")\n",
    "ax.plot(x, m_o * x + c_o,'b-', label = 'Optimized line')\n",
    "#ax.plot(x, m_a * x + c_a,'r-', label = 'Analytical line')\n",
    "ax.legend()\n",
    "\n",
    "#show plot\n",
    "plt.show"
   ]
  },
  {
   "cell_type": "markdown",
   "id": "ae19c2f0-fc46-4d43-a016-7518c6adca38",
   "metadata": {},
   "source": [
    "### Curve Fitting\n",
    "\n",
    "***"
   ]
  },
  {
   "cell_type": "code",
   "execution_count": 52,
   "id": "24e37a50-c9c3-46bc-808a-c2ca176ce9cb",
   "metadata": {},
   "outputs": [],
   "source": [
    "# https://docs.scipy.org/doc/scipy/reference/generated/scipy.optimize.curve_fit.html\n",
    "# Curve_Fit\n",
    "# Create the model function\n",
    "\n",
    "def fun(x, m, c):\n",
    "    return m * x + c\n"
   ]
  },
  {
   "cell_type": "code",
   "execution_count": null,
   "id": "43adb795-c935-4d59-a585-20df331a003d",
   "metadata": {},
   "outputs": [],
   "source": []
  },
  {
   "cell_type": "code",
   "execution_count": 53,
   "id": "0726c6f4-dc0b-452f-95bb-9e584d070c94",
   "metadata": {},
   "outputs": [],
   "source": [
    "# Run curve_fit\n",
    "result = so.curve_fit(fun, x, y)"
   ]
  },
  {
   "cell_type": "code",
   "execution_count": 54,
   "id": "01012574-9117-4364-beea-f85d089ac07d",
   "metadata": {},
   "outputs": [
    {
     "data": {
      "text/plain": [
       "(array([4.98495449, 8.89489211]),\n",
       " array([[ 0.018796  , -0.18796003],\n",
       "        [-0.18796003,  2.56878703]]))"
      ]
     },
     "execution_count": 54,
     "metadata": {},
     "output_type": "execute_result"
    }
   ],
   "source": [
    "#show result\n",
    "result"
   ]
  },
  {
   "cell_type": "code",
   "execution_count": 55,
   "id": "5fea6908-426e-4911-8af4-05449672dd1a",
   "metadata": {},
   "outputs": [
    {
     "data": {
      "text/plain": [
       "(4.984954493919226, 8.894892112033492)"
      ]
     },
     "execution_count": 55,
     "metadata": {},
     "output_type": "execute_result"
    }
   ],
   "source": [
    "# Pull out Parameters\n",
    "m_f, c_f = result[0]\n",
    "\n",
    "# See values\n",
    "m_f, c_f "
   ]
  },
  {
   "cell_type": "code",
   "execution_count": 56,
   "id": "7e48950a-0120-4f2a-bcfa-83d93adb1194",
   "metadata": {},
   "outputs": [
    {
     "data": {
      "text/plain": [
       "<function matplotlib.pyplot.show(close=None, block=None)>"
      ]
     },
     "execution_count": 56,
     "metadata": {},
     "output_type": "execute_result"
    },
    {
     "data": {
      "image/png": "[encoded data removed]",
      "text/plain": [
       "<Figure size 720x576 with 1 Axes>"
      ]
     },
     "metadata": {
      "needs_background": "light"
     },
     "output_type": "display_data"
    }
   ],
   "source": [
    "# Plot to best fit line from the optimization\n",
    "\n",
    "fig, ax = plt.subplots(figsize=(10,8))\n",
    "ax.plot(x, y, 'k.', label = \"Original Data\")\n",
    "ax.plot(x, m_f * x + c_f,'b-', label = 'Curve fit line')\n",
    "#ax.plot(x, m_a * x + c_a,'r-', label = 'Analytical line')\n",
    "ax.legend()\n",
    "\n",
    "#show plot\n",
    "plt.show"
   ]
  },
  {
   "cell_type": "code",
   "execution_count": null,
   "id": "0c0171c0-9276-48ee-8c1c-bcf864f0eb5d",
   "metadata": {},
   "outputs": [],
   "source": []
  },
  {
   "cell_type": "markdown",
   "id": "1ac53bdd-94e7-440e-8c62-094142cf0e9f",
   "metadata": {},
   "source": [
    "### Parameters\n",
    "\n",
    "***"
   ]
  },
  {
   "cell_type": "code",
   "execution_count": 68,
   "id": "b2270a83-b846-4396-9bfb-7af3de4402ec",
   "metadata": {
    "tags": []
   },
   "outputs": [
    {
     "data": {
      "text/plain": [
       "array([ 0.        ,  0.20408163,  0.40816327,  0.6122449 ,  0.81632653,\n",
       "        1.02040816,  1.2244898 ,  1.42857143,  1.63265306,  1.83673469,\n",
       "        2.04081633,  2.24489796,  2.44897959,  2.65306122,  2.85714286,\n",
       "        3.06122449,  3.26530612,  3.46938776,  3.67346939,  3.87755102,\n",
       "        4.08163265,  4.28571429,  4.48979592,  4.69387755,  4.89795918,\n",
       "        5.10204082,  5.30612245,  5.51020408,  5.71428571,  5.91836735,\n",
       "        6.12244898,  6.32653061,  6.53061224,  6.73469388,  6.93877551,\n",
       "        7.14285714,  7.34693878,  7.55102041,  7.75510204,  7.95918367,\n",
       "        8.16326531,  8.36734694,  8.57142857,  8.7755102 ,  8.97959184,\n",
       "        9.18367347,  9.3877551 ,  9.59183673,  9.79591837, 10.        ])"
      ]
     },
     "execution_count": 68,
     "metadata": {},
     "output_type": "execute_result"
    }
   ],
   "source": [
    "# Generate a range of values\n",
    "x = np.linspace(0.0, 10.0, 50)\n",
    "x"
   ]
  },
  {
   "cell_type": "code",
   "execution_count": 73,
   "id": "9cc0f82a-efda-47da-815a-7de8ce71bd36",
   "metadata": {},
   "outputs": [
    {
     "data": {
      "text/plain": [
       "array([-1.55014998,  0.21290184,  0.2398    , -0.20038038, -0.38108531,\n",
       "        3.44795157,  0.8782378 ,  2.32179943,  5.18095419,  3.27690422,\n",
       "        6.79826486,  6.24200695,  7.38137098,  8.44302648, 10.03525601,\n",
       "       10.09659536, 13.03850618, 10.63064482, 13.65502618, 13.33837309,\n",
       "       13.38303847, 17.13954091, 16.14899677, 15.99533583, 18.22499924,\n",
       "       19.11972964, 19.56249379, 18.85001844, 22.00015589, 21.8399402 ,\n",
       "       22.17073149, 24.70689801, 23.89013533, 25.11827974, 25.48815262,\n",
       "       25.81508853, 28.16799374, 29.54366508, 30.21302676, 30.54555983,\n",
       "       31.20697084, 31.53380454, 32.09919264, 35.26972925, 32.41051914,\n",
       "       33.24616922, 34.83836906, 35.76915205, 37.1513685 , 38.49984501])"
      ]
     },
     "execution_count": 73,
     "metadata": {},
     "output_type": "execute_result"
    }
   ],
   "source": [
    "# Range of y values based on x\n",
    "                    #this adds in the \"noise\"\n",
    "y = 4.0 * x - 2.0 + np.random.normal(0.0, 1.0, len(x))\n",
    "y"
   ]
  },
  {
   "cell_type": "code",
   "execution_count": 74,
   "id": "2847ceed-eb85-4661-ad0d-15c91611923d",
   "metadata": {
    "tags": []
   },
   "outputs": [
    {
     "data": {
      "text/plain": [
       "[<matplotlib.lines.Line2D at 0x235da7d32b0>]"
      ]
     },
     "execution_count": 74,
     "metadata": {},
     "output_type": "execute_result"
    },
    {
     "data": {
      "image/png": "[encoded data removed]",
      "text/plain": [
       "<Figure size 864x432 with 1 Axes>"
      ]
     },
     "metadata": {
      "needs_background": "light"
     },
     "output_type": "display_data"
    }
   ],
   "source": [
    "# Create a plot\n",
    "fig, ax = plt.subplots(figsize = (12,6))\n",
    "\n",
    "# PLot x and y\n",
    "ax.plot(x,y, 'k.')"
   ]
  },
  {
   "cell_type": "code",
   "execution_count": 76,
   "id": "5c98c9ba-737e-45ba-bf8d-52b7d44f20d7",
   "metadata": {},
   "outputs": [
    {
     "data": {
      "text/plain": [
       "array([ 4.02593545, -2.06897917])"
      ]
     },
     "execution_count": 76,
     "metadata": {},
     "output_type": "execute_result"
    }
   ],
   "source": [
    "# use x and y to find original parameters used to create data\n",
    "params = np.polyfit(x, y, 1)\n",
    "params"
   ]
  },
  {
   "cell_type": "code",
   "execution_count": 78,
   "id": "29af7957-34d8-40e6-9c6a-5305ee65cb90",
   "metadata": {},
   "outputs": [
    {
     "data": {
      "text/plain": [
       "[<matplotlib.lines.Line2D at 0x235d9ed90d0>]"
      ]
     },
     "execution_count": 78,
     "metadata": {},
     "output_type": "execute_result"
    },
    {
     "data": {
      "image/png": "[encoded data removed]",
      "text/plain": [
       "<Figure size 864x432 with 1 Axes>"
      ]
     },
     "metadata": {
      "needs_background": "light"
     },
     "output_type": "display_data"
    }
   ],
   "source": [
    "# Create a plot\n",
    "fig, ax = plt.subplots(figsize = (12,6))\n",
    "\n",
    "# PLot x and y\n",
    "ax.plot(x,y, 'k.')\n",
    "\n",
    "# PLot x and params on x\n",
    "ax.plot(x, params[0] * x + params[1], 'r-')\n"
   ]
  },
  {
   "cell_type": "code",
   "execution_count": 84,
   "id": "afa362d6-f4d0-4b0d-a5a6-375c3c15934c",
   "metadata": {},
   "outputs": [
    {
     "data": {
      "text/plain": [
       "array([-0.01659074,  4.19184284, -2.33984838])"
      ]
     },
     "execution_count": 84,
     "metadata": {},
     "output_type": "execute_result"
    }
   ],
   "source": [
    "# use x and y to find original parameters used to create data\n",
    "params = np.polyfit(x, y, 2)\n",
    "params"
   ]
  },
  {
   "cell_type": "code",
   "execution_count": 85,
   "id": "f6ac2a17-36dd-4081-8095-3ced8e284e1f",
   "metadata": {},
   "outputs": [
    {
     "data": {
      "text/plain": [
       "[<matplotlib.lines.Line2D at 0x235dc0aee20>]"
      ]
     },
     "execution_count": 85,
     "metadata": {},
     "output_type": "execute_result"
    },
    {
     "data": {
      "image/png": "[encoded data removed]",
      "text/plain": [
       "<Figure size 864x432 with 1 Axes>"
      ]
     },
     "metadata": {
      "needs_background": "light"
     },
     "output_type": "display_data"
    }
   ],
   "source": [
    "# Create a plot\n",
    "fig, ax = plt.subplots(figsize = (12,6))\n",
    "\n",
    "# PLot x and y\n",
    "ax.plot(x,y, 'k.')\n",
    "\n",
    "# PLot x and params on x\n",
    "ax.plot(x, params[0] * x**2 + params[1]* x + params[2], 'b-')"
   ]
  },
  {
   "cell_type": "code",
   "execution_count": null,
   "id": "4d3d8dab-97b3-4f2b-ad5b-f403db4a3ce9",
   "metadata": {},
   "outputs": [],
   "source": []
  }
 ],
 "metadata": {
  "kernelspec": {
   "display_name": "Python 3 (ipykernel)",
   "language": "python",
   "name": "python3"
  },
  "language_info": {
   "codemirror_mode": {
    "name": "ipython",
    "version": 3
   },
   "file_extension": ".py",
   "mimetype": "text/x-python",
   "name": "python",
   "nbconvert_exporter": "python",
   "pygments_lexer": "ipython3",
   "version": "3.9.12"
  }
 },
 "nbformat": 4,
 "nbformat_minor": 5
}
