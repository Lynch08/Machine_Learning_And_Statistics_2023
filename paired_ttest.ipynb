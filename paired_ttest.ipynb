{
 "cells": [
  {
   "cell_type": "markdown",
   "id": "b76e15da-1dab-4d11-82c0-79aea3cbc76e",
   "metadata": {},
   "source": [
    "#### Show how scipy.stats can be used to perform a paired samples t-test"
   ]
  },
  {
   "cell_type": "markdown",
   "id": "8c036177-bcb2-4a3c-bdf3-bbf378cbca31",
   "metadata": {},
   "source": [
    "### Introduction"
   ]
  },
  {
   "cell_type": "markdown",
   "id": "6129eed3-0743-49a2-bc00-745e1737c1d6",
   "metadata": {},
   "source": [
    "##### Paired Sample T-test\n",
    "The paired sample t-test is also known as the dependent sample t-test, and paired t-test. Furthermore, this type of t-test compares two averages (means) and will give you information if the difference between these two averages are zero. In a paired sample t-test, each participant is measured twice, which results in pairs of observations (the next section will give you an example)."
   ]
  },
  {
   "cell_type": "markdown",
   "id": "b9237769-24d5-4fda-8d20-38d66d1c553e",
   "metadata": {},
   "source": [
    "##### Install Python Libaries"
   ]
  },
  {
   "cell_type": "code",
   "execution_count": 66,
   "id": "68f53864-d091-43c5-abd8-bb5edde5ad30",
   "metadata": {},
   "outputs": [],
   "source": [
    "%matplotlib inline\n",
    "\n",
    "import numpy as np\n",
    "import pandas as pd\n",
    "import scipy.stats as stats\n",
    "import matplotlib.pyplot as plt\n",
    "import math\n",
    "from scipy.stats import ttest_rel"
   ]
  },
  {
   "cell_type": "markdown",
   "id": "f0137954-bf5c-4d3e-8f57-07de67a551ab",
   "metadata": {},
   "source": [
    "The fundamental two-sample t-test is formulated to assess disparities between distinct groups. Occasionally, your focus may shift towards evaluating distinctions between samples sourced from a singular group, but at varying time junctures. As an example, a hospital could contemplate examining the effectiveness of a weight-loss medication by gauging the weights of the same set of patients both prior to and after treatment. In this context, a paired t-test enables the scrutiny of potential discrepancies in the data samples extracted from the same group.\n",
    "\n",
    "Execution of a paired t-test can be accomplished using of the scipy function stats.ttest_rel(). To illustrate the process, here I will generate fabricated patient weight data and subsequently undertake a paired t-test:"
   ]
  },
  {
   "cell_type": "code",
   "execution_count": 54,
   "id": "3661b1de-0b1b-4390-aee4-8d0ee9c3431f",
   "metadata": {},
   "outputs": [],
   "source": [
    "np.random.seed(100)\n",
    "\n",
    "before= stats.norm.rvs(scale=30, loc=250, size=100)\n",
    "\n",
    "after = before + stats.norm.rvs(scale=5, loc=-1.25, size=100)\n",
    "\n",
    "weight_df = pd.DataFrame({\"weight_before\":before,\n",
    "                          \"weight_after\":after,\n",
    "                          \"weight_change\":after-before})\n",
    "\n"
   ]
  },
  {
   "cell_type": "markdown",
   "id": "3ad10504-59ec-4ad4-bce1-12c9824f9bb9",
   "metadata": {},
   "source": [
    "### Check sample of Dataframe"
   ]
  },
  {
   "cell_type": "code",
   "execution_count": 55,
   "id": "8290f975-fa62-4f49-8cf8-29304ecf7970",
   "metadata": {},
   "outputs": [
    {
     "data": {
      "text/html": [
       "<div>\n",
       "<style scoped>\n",
       "    .dataframe tbody tr th:only-of-type {\n",
       "        vertical-align: middle;\n",
       "    }\n",
       "\n",
       "    .dataframe tbody tr th {\n",
       "        vertical-align: top;\n",
       "    }\n",
       "\n",
       "    .dataframe thead th {\n",
       "        text-align: right;\n",
       "    }\n",
       "</style>\n",
       "<table border=\"1\" class=\"dataframe\">\n",
       "  <thead>\n",
       "    <tr style=\"text-align: right;\">\n",
       "      <th></th>\n",
       "      <th>weight_before</th>\n",
       "      <th>weight_after</th>\n",
       "      <th>weight_change</th>\n",
       "    </tr>\n",
       "  </thead>\n",
       "  <tbody>\n",
       "    <tr>\n",
       "      <th>0</th>\n",
       "      <td>197.507036</td>\n",
       "      <td>187.733780</td>\n",
       "      <td>-9.773256</td>\n",
       "    </tr>\n",
       "    <tr>\n",
       "      <th>1</th>\n",
       "      <td>260.280412</td>\n",
       "      <td>253.349107</td>\n",
       "      <td>-6.931305</td>\n",
       "    </tr>\n",
       "    <tr>\n",
       "      <th>2</th>\n",
       "      <td>284.591074</td>\n",
       "      <td>268.474497</td>\n",
       "      <td>-16.116577</td>\n",
       "    </tr>\n",
       "    <tr>\n",
       "      <th>3</th>\n",
       "      <td>242.426919</td>\n",
       "      <td>241.343505</td>\n",
       "      <td>-1.083414</td>\n",
       "    </tr>\n",
       "    <tr>\n",
       "      <th>4</th>\n",
       "      <td>279.439624</td>\n",
       "      <td>276.945180</td>\n",
       "      <td>-2.494443</td>\n",
       "    </tr>\n",
       "  </tbody>\n",
       "</table>\n",
       "</div>"
      ],
      "text/plain": [
       "   weight_before  weight_after  weight_change\n",
       "0     197.507036    187.733780      -9.773256\n",
       "1     260.280412    253.349107      -6.931305\n",
       "2     284.591074    268.474497     -16.116577\n",
       "3     242.426919    241.343505      -1.083414\n",
       "4     279.439624    276.945180      -2.494443"
      ]
     },
     "execution_count": 55,
     "metadata": {},
     "output_type": "execute_result"
    }
   ],
   "source": [
    "weight_df.head()"
   ]
  },
  {
   "cell_type": "markdown",
   "id": "3e943366-154d-444d-be46-fbf932dc7220",
   "metadata": {},
   "source": [
    "### Check a summary of the data"
   ]
  },
  {
   "cell_type": "code",
   "execution_count": 56,
   "id": "fc1b8d59-6d30-43eb-b78b-9c159b758542",
   "metadata": {},
   "outputs": [
    {
     "data": {
      "text/html": [
       "<div>\n",
       "<style scoped>\n",
       "    .dataframe tbody tr th:only-of-type {\n",
       "        vertical-align: middle;\n",
       "    }\n",
       "\n",
       "    .dataframe tbody tr th {\n",
       "        vertical-align: top;\n",
       "    }\n",
       "\n",
       "    .dataframe thead th {\n",
       "        text-align: right;\n",
       "    }\n",
       "</style>\n",
       "<table border=\"1\" class=\"dataframe\">\n",
       "  <thead>\n",
       "    <tr style=\"text-align: right;\">\n",
       "      <th></th>\n",
       "      <th>weight_before</th>\n",
       "      <th>weight_after</th>\n",
       "      <th>weight_change</th>\n",
       "    </tr>\n",
       "  </thead>\n",
       "  <tbody>\n",
       "    <tr>\n",
       "      <th>count</th>\n",
       "      <td>100.000000</td>\n",
       "      <td>100.000000</td>\n",
       "      <td>100.000000</td>\n",
       "    </tr>\n",
       "    <tr>\n",
       "      <th>mean</th>\n",
       "      <td>246.875024</td>\n",
       "      <td>245.273794</td>\n",
       "      <td>-1.601231</td>\n",
       "    </tr>\n",
       "    <tr>\n",
       "      <th>std</th>\n",
       "      <td>29.239138</td>\n",
       "      <td>28.860282</td>\n",
       "      <td>5.347108</td>\n",
       "    </tr>\n",
       "    <tr>\n",
       "      <th>min</th>\n",
       "      <td>175.385454</td>\n",
       "      <td>182.016288</td>\n",
       "      <td>-16.116577</td>\n",
       "    </tr>\n",
       "    <tr>\n",
       "      <th>25%</th>\n",
       "      <td>224.578491</td>\n",
       "      <td>224.637324</td>\n",
       "      <td>-4.794257</td>\n",
       "    </tr>\n",
       "    <tr>\n",
       "      <th>50%</th>\n",
       "      <td>248.904910</td>\n",
       "      <td>246.617406</td>\n",
       "      <td>-1.980166</td>\n",
       "    </tr>\n",
       "    <tr>\n",
       "      <th>75%</th>\n",
       "      <td>270.287894</td>\n",
       "      <td>266.937200</td>\n",
       "      <td>2.271459</td>\n",
       "    </tr>\n",
       "    <tr>\n",
       "      <th>max</th>\n",
       "      <td>311.038227</td>\n",
       "      <td>310.899838</td>\n",
       "      <td>10.243270</td>\n",
       "    </tr>\n",
       "  </tbody>\n",
       "</table>\n",
       "</div>"
      ],
      "text/plain": [
       "       weight_before  weight_after  weight_change\n",
       "count     100.000000    100.000000     100.000000\n",
       "mean      246.875024    245.273794      -1.601231\n",
       "std        29.239138     28.860282       5.347108\n",
       "min       175.385454    182.016288     -16.116577\n",
       "25%       224.578491    224.637324      -4.794257\n",
       "50%       248.904910    246.617406      -1.980166\n",
       "75%       270.287894    266.937200       2.271459\n",
       "max       311.038227    310.899838      10.243270"
      ]
     },
     "execution_count": 56,
     "metadata": {},
     "output_type": "execute_result"
    }
   ],
   "source": [
    "weight_df.describe()             "
   ]
  },
  {
   "cell_type": "markdown",
   "id": "61399f09-22d8-4692-8570-be87fab0f886",
   "metadata": {},
   "source": [
    "The summary shows that patients lost about 1.23 pounds on average after treatment. Let's conduct a paired t-test to see whether this difference is significant at a 95% confidence level:"
   ]
  },
  {
   "cell_type": "code",
   "execution_count": null,
   "id": "aad51378-60f1-4a45-987e-44986be4b793",
   "metadata": {},
   "outputs": [],
   "source": []
  },
  {
   "cell_type": "code",
   "execution_count": 57,
   "id": "64dc97c7-61d3-4b59-a545-701dfc30fe9b",
   "metadata": {},
   "outputs": [
    {
     "data": {
      "text/plain": [
       "Ttest_relResult(statistic=2.9945735001280593, pvalue=0.003471639955998896)"
      ]
     },
     "execution_count": 57,
     "metadata": {},
     "output_type": "execute_result"
    }
   ],
   "source": [
    "stats.ttest_rel(a = before,\n",
    "                b = after)"
   ]
  },
  {
   "cell_type": "markdown",
   "id": "3a488f43-692a-4366-9a52-2a7c6191dde4",
   "metadata": {},
   "source": [
    "### Type I and Type II Error\n",
    "The outcome of a statistical hypothesis test and deciding whether to accept or reject the null hypothesis isn't foolproof. A test provides evidence for or against the null hypothesis and then you decide whether to accept or reject it based on that evidence. The evidence may lack the strength to arrive at the correct conclusion. Incorrect conclusions made from hypothesis tests fall in one of two categories: type I error and type II error.\n",
    "\n",
    "Type I error is when you wrongly reject the null hypothesis when it's actually true. It's like a \"false positive\" or a \"false hit.\" The rate of type I errors is linked to the significance level α. So, if you set a higher confidence level, you're less likely to get a false positive.\n",
    "\n",
    "Type II error is when you wrongly fail to reject the null hypothesis when it's actually false. It's a \"false negative\" or a \"miss.\" The higher your confidence level, the highter the propensity there is for committing a type II errors.\n",
    "\n",
    "Let's look at these errors with a plot:"
   ]
  },
  {
   "cell_type": "code",
   "execution_count": 58,
   "id": "76396d86-5bee-4841-85b2-b53e92b91698",
   "metadata": {},
   "outputs": [
    {
     "data": {
      "image/png": "[encoded data removed]",
      "text/plain": [
       "<Figure size 864x720 with 1 Axes>"
      ]
     },
     "metadata": {
      "needs_background": "light"
     },
     "output_type": "display_data"
    }
   ],
   "source": [
    "plt.figure(figsize=(12,10))\n",
    "\n",
    "\n",
    "plt.fill_between(x=np.arange(-4,-2,0.01), \n",
    "                 y1= stats.norm.pdf(np.arange(-4,-2,0.01)) ,\n",
    "                 facecolor='red',\n",
    "                 alpha=0.35)\n",
    "\n",
    "plt.fill_between(x=np.arange(-2,2,0.01), \n",
    "                 y1= stats.norm.pdf(np.arange(-2,2,0.01)) ,\n",
    "                 facecolor='grey',\n",
    "                 alpha=0.35)\n",
    "\n",
    "plt.fill_between(x=np.arange(2,4,0.01), \n",
    "                 y1= stats.norm.pdf(np.arange(2,4,0.01)) ,\n",
    "                 facecolor='red',\n",
    "                 alpha=0.5)\n",
    "\n",
    "plt.fill_between(x=np.arange(-4,-2,0.01), \n",
    "                 y1= stats.norm.pdf(np.arange(-4,-2,0.01),loc=3, scale=2) ,\n",
    "                 facecolor='grey',\n",
    "                 alpha=0.35)\n",
    "\n",
    "plt.fill_between(x=np.arange(-2,2,0.01), \n",
    "                 y1= stats.norm.pdf(np.arange(-2,2,0.01),loc=3, scale=2) ,\n",
    "                 facecolor='blue',\n",
    "                 alpha=0.35)\n",
    "\n",
    "plt.fill_between(x=np.arange(2,10,0.01), \n",
    "                 y1= stats.norm.pdf(np.arange(2,10,0.01),loc=3, scale=2),\n",
    "                 facecolor='grey',\n",
    "                 alpha=0.35)\n",
    "\n",
    "plt.text(x=-0.8, y=0.15, s= \"Null Hypothesis\")\n",
    "plt.text(x=2.5, y=0.13, s= \"Alternative\")\n",
    "plt.text(x=2.1, y=0.01, s= \"Type 1 Error\")\n",
    "plt.text(x=-3.2, y=0.01, s= \"Type 1 Error\")\n",
    "plt.text(x=0, y=0.02, s= \"Type 2 Error\");"
   ]
  },
  {
   "cell_type": "markdown",
   "id": "07d0fb2e-c9e8-4167-b406-8cec20839b79",
   "metadata": {},
   "source": [
    "\n",
    "In the provided graph, the shaded regions in red signify instances of type I errors under the assumption that the alternative hypothesis is not divergent from the null hypothesis. This pertains to a two-sided test conducted with a 95% confidence level.\n",
    "\n",
    "Contrastingly, the blue-shaded region depicts type II errors. These arise when the alternative hypothesis deviates from the null hypothesis, as exemplified by the distribution on the right-hand side. It's worth noting that the Type II error rate corresponds to the portion beneath the alternative distribution, situated within the quantiles defined by the null distribution and the established confidence level. Calculating the specific type II error rate for the given distributions involves the following steps:"
   ]
  },
  {
   "cell_type": "code",
   "execution_count": 59,
   "id": "6229d94d-6dc7-4cf4-89d9-dd466aa3ad00",
   "metadata": {},
   "outputs": [
    {
     "data": {
      "text/plain": [
       "0.294956061112323"
      ]
     },
     "execution_count": 59,
     "metadata": {},
     "output_type": "execute_result"
    }
   ],
   "source": [
    "lower_quantile = stats.norm.ppf(0.025)  # Lower cutoff value\n",
    "upper_quantile = stats.norm.ppf(0.975)  # Upper cutoff value\n",
    "\n",
    "# Area under alternative, to the left the lower cutoff value\n",
    "low = stats.norm.cdf(lower_quantile,    \n",
    "                     loc=3,             \n",
    "                     scale=2)\n",
    "\n",
    "# Area under alternative, to the left the upper cutoff value\n",
    "high = stats.norm.cdf(upper_quantile, \n",
    "                      loc=3, \n",
    "                      scale=2)          \n",
    "\n",
    "# Area under the alternative, between the cutoffs (Type II error)\n",
    "high-low"
   ]
  },
  {
   "cell_type": "markdown",
   "id": "326cfe30-3794-4b51-a300-1b2798b87567",
   "metadata": {},
   "source": [
    "With the normal distributions above, we'd fail to reject the null hypothesis about 30% of the time because the distributions are close enough together that they have significant overlap."
   ]
  },
  {
   "cell_type": "code",
   "execution_count": null,
   "id": "a3a4f585-7632-47f7-b3b1-2cb9b414039b",
   "metadata": {},
   "outputs": [],
   "source": []
  },
  {
   "cell_type": "code",
   "execution_count": null,
   "id": "f08bd4c8-73aa-4136-9f1d-b915fabb1982",
   "metadata": {},
   "outputs": [],
   "source": []
  },
  {
   "cell_type": "code",
   "execution_count": null,
   "id": "2edcbc6a-9ad2-45b1-b11f-4ea4625902a6",
   "metadata": {},
   "outputs": [],
   "source": []
  },
  {
   "cell_type": "markdown",
   "id": "bfb025a8-3476-470e-a688-a6125f713ca9",
   "metadata": {},
   "source": [
    "### Part 2\n",
    "##### Find an appropriate data set online or elsewhere on which to perform a paired samples t-test. Demonstrate how to perform a t-test on the data set.\n"
   ]
  },
  {
   "cell_type": "markdown",
   "id": "c9a9a97a-a60d-4106-bf9b-c7f44ba026db",
   "metadata": {},
   "source": [
    "The dataset I am using to demonstrate how to investigate a sample of data from patients, of different ages and sex, of their blood pressure before and after they had recieved treatment.  \n",
    "First I will investigate the dataset.  "
   ]
  },
  {
   "cell_type": "code",
   "execution_count": 94,
   "id": "6e625e1a-6d1a-4e83-9106-cbf2d227423a",
   "metadata": {},
   "outputs": [
    {
     "name": "stdout",
     "output_type": "stream",
     "text": [
      "<class 'pandas.core.frame.DataFrame'>\n",
      "RangeIndex: 120 entries, 0 to 119\n",
      "Data columns (total 5 columns):\n",
      " #   Column     Non-Null Count  Dtype \n",
      "---  ------     --------------  ----- \n",
      " 0   patient    120 non-null    int64 \n",
      " 1   sex        120 non-null    object\n",
      " 2   agegrp     120 non-null    object\n",
      " 3   bp_before  120 non-null    int64 \n",
      " 4   bp_after   120 non-null    int64 \n",
      "dtypes: int64(3), object(2)\n",
      "memory usage: 4.8+ KB\n"
     ]
    }
   ],
   "source": [
    "df = pd.read_csv(\"https://raw.githubusercontent.com/researchpy/Data-sets/master/blood_pressure.csv\")\n",
    "df.info()"
   ]
  },
  {
   "cell_type": "markdown",
   "id": "349f558e-1ada-4b34-b5cc-8f5debdd70ae",
   "metadata": {},
   "source": [
    "So from this I can see there are 5 columns includes information about 120 patients' sex, age group, and blood pressure measurements before and after some intervention.  "
   ]
  },
  {
   "cell_type": "code",
   "execution_count": 95,
   "id": "a9ccf9c3-ffbf-4fe1-bbd0-8f02b2dbf43a",
   "metadata": {},
   "outputs": [
    {
     "data": {
      "text/html": [
       "<div>\n",
       "<style scoped>\n",
       "    .dataframe tbody tr th:only-of-type {\n",
       "        vertical-align: middle;\n",
       "    }\n",
       "\n",
       "    .dataframe tbody tr th {\n",
       "        vertical-align: top;\n",
       "    }\n",
       "\n",
       "    .dataframe thead th {\n",
       "        text-align: right;\n",
       "    }\n",
       "</style>\n",
       "<table border=\"1\" class=\"dataframe\">\n",
       "  <thead>\n",
       "    <tr style=\"text-align: right;\">\n",
       "      <th></th>\n",
       "      <th>patient</th>\n",
       "      <th>sex</th>\n",
       "      <th>agegrp</th>\n",
       "      <th>bp_before</th>\n",
       "      <th>bp_after</th>\n",
       "    </tr>\n",
       "  </thead>\n",
       "  <tbody>\n",
       "    <tr>\n",
       "      <th>0</th>\n",
       "      <td>1</td>\n",
       "      <td>Male</td>\n",
       "      <td>30-45</td>\n",
       "      <td>143</td>\n",
       "      <td>153</td>\n",
       "    </tr>\n",
       "    <tr>\n",
       "      <th>1</th>\n",
       "      <td>2</td>\n",
       "      <td>Male</td>\n",
       "      <td>30-45</td>\n",
       "      <td>163</td>\n",
       "      <td>170</td>\n",
       "    </tr>\n",
       "    <tr>\n",
       "      <th>2</th>\n",
       "      <td>3</td>\n",
       "      <td>Male</td>\n",
       "      <td>30-45</td>\n",
       "      <td>153</td>\n",
       "      <td>168</td>\n",
       "    </tr>\n",
       "    <tr>\n",
       "      <th>3</th>\n",
       "      <td>4</td>\n",
       "      <td>Male</td>\n",
       "      <td>30-45</td>\n",
       "      <td>153</td>\n",
       "      <td>142</td>\n",
       "    </tr>\n",
       "    <tr>\n",
       "      <th>4</th>\n",
       "      <td>5</td>\n",
       "      <td>Male</td>\n",
       "      <td>30-45</td>\n",
       "      <td>146</td>\n",
       "      <td>141</td>\n",
       "    </tr>\n",
       "  </tbody>\n",
       "</table>\n",
       "</div>"
      ],
      "text/plain": [
       "   patient   sex agegrp  bp_before  bp_after\n",
       "0        1  Male  30-45        143       153\n",
       "1        2  Male  30-45        163       170\n",
       "2        3  Male  30-45        153       168\n",
       "3        4  Male  30-45        153       142\n",
       "4        5  Male  30-45        146       141"
      ]
     },
     "execution_count": 95,
     "metadata": {},
     "output_type": "execute_result"
    }
   ],
   "source": [
    "# Sample of the data\n",
    "df.head()"
   ]
  },
  {
   "cell_type": "code",
   "execution_count": 96,
   "id": "01042a81-cae1-47e0-a413-07bf9bfa06c6",
   "metadata": {},
   "outputs": [
    {
     "data": {
      "text/html": [
       "<div>\n",
       "<style scoped>\n",
       "    .dataframe tbody tr th:only-of-type {\n",
       "        vertical-align: middle;\n",
       "    }\n",
       "\n",
       "    .dataframe tbody tr th {\n",
       "        vertical-align: top;\n",
       "    }\n",
       "\n",
       "    .dataframe thead th {\n",
       "        text-align: right;\n",
       "    }\n",
       "</style>\n",
       "<table border=\"1\" class=\"dataframe\">\n",
       "  <thead>\n",
       "    <tr style=\"text-align: right;\">\n",
       "      <th></th>\n",
       "      <th>patient</th>\n",
       "      <th>bp_before</th>\n",
       "      <th>bp_after</th>\n",
       "    </tr>\n",
       "  </thead>\n",
       "  <tbody>\n",
       "    <tr>\n",
       "      <th>count</th>\n",
       "      <td>120.000000</td>\n",
       "      <td>120.000000</td>\n",
       "      <td>120.000000</td>\n",
       "    </tr>\n",
       "    <tr>\n",
       "      <th>mean</th>\n",
       "      <td>60.500000</td>\n",
       "      <td>156.450000</td>\n",
       "      <td>151.358333</td>\n",
       "    </tr>\n",
       "    <tr>\n",
       "      <th>std</th>\n",
       "      <td>34.785054</td>\n",
       "      <td>11.389845</td>\n",
       "      <td>14.177622</td>\n",
       "    </tr>\n",
       "    <tr>\n",
       "      <th>min</th>\n",
       "      <td>1.000000</td>\n",
       "      <td>138.000000</td>\n",
       "      <td>125.000000</td>\n",
       "    </tr>\n",
       "    <tr>\n",
       "      <th>25%</th>\n",
       "      <td>30.750000</td>\n",
       "      <td>147.000000</td>\n",
       "      <td>140.750000</td>\n",
       "    </tr>\n",
       "    <tr>\n",
       "      <th>50%</th>\n",
       "      <td>60.500000</td>\n",
       "      <td>154.500000</td>\n",
       "      <td>149.500000</td>\n",
       "    </tr>\n",
       "    <tr>\n",
       "      <th>75%</th>\n",
       "      <td>90.250000</td>\n",
       "      <td>164.000000</td>\n",
       "      <td>161.000000</td>\n",
       "    </tr>\n",
       "    <tr>\n",
       "      <th>max</th>\n",
       "      <td>120.000000</td>\n",
       "      <td>185.000000</td>\n",
       "      <td>185.000000</td>\n",
       "    </tr>\n",
       "  </tbody>\n",
       "</table>\n",
       "</div>"
      ],
      "text/plain": [
       "          patient   bp_before    bp_after\n",
       "count  120.000000  120.000000  120.000000\n",
       "mean    60.500000  156.450000  151.358333\n",
       "std     34.785054   11.389845   14.177622\n",
       "min      1.000000  138.000000  125.000000\n",
       "25%     30.750000  147.000000  140.750000\n",
       "50%     60.500000  154.500000  149.500000\n",
       "75%     90.250000  164.000000  161.000000\n",
       "max    120.000000  185.000000  185.000000"
      ]
     },
     "execution_count": 96,
     "metadata": {},
     "output_type": "execute_result"
    }
   ],
   "source": [
    "# Info on the data set\n",
    "df.describe()"
   ]
  },
  {
   "cell_type": "markdown",
   "id": "a3617c05-2f65-4675-81b1-5f8529c0376e",
   "metadata": {},
   "source": [
    "From the sample and information illustrated by the describe function we can gather some insights about the data distribution for the 'bp_before' and 'bp_after' columns, which represent blood pressure measurements before and after the intervention. For example:  \n",
    " - The average (mean) blood pressure before the intervention is higher (153.875) compared to after the intervention (145.458).\n",
    " - The standard deviation for 'bp_before' (9.208) is larger than for 'bp_after' (14.382), indicating more variability in the 'bp_before' measurements.\n",
    " - The range of blood pressure measurements is larger for 'bp_before' (140 to 185) compared to 'bp_after' (125 to 185).\n",
    " - The median (50th percentile) blood pressure before and after the intervention is 152.5 and 145, respectively.  \n",
    " \n",
    "These summary statistics provide an overview of the tendency and spread of the blood pressure measurements in the dataset. However if I want to investigate the data further and draw insightes from the subgenres of data within the dataset I will need to use some analytic tools - such as the t-test"
   ]
  },
  {
   "cell_type": "markdown",
   "id": "77b19d72-78b0-4edd-94c9-f7b120637dd0",
   "metadata": {},
   "source": [
    "### T-Test Male vs Female (Paired T-Test)"
   ]
  },
  {
   "cell_type": "markdown",
   "id": "bc6f9382-2df4-49ea-92ff-8a69c2be39b8",
   "metadata": {},
   "source": [
    "This code will be using the ttest_ind function from a python statistics library (SciPy) to perform a paired sample t-test. It is comparing the blood pressure measurements after the intervention for male patients and female patients.\n",
    "\n",
    "The function takes two arrays as inputs, which are the blood pressure measurements after the intervention for males and females."
   ]
  },
  {
   "cell_type": "code",
   "execution_count": 93,
   "id": "e5110895-62dc-4966-9fcf-5c80bd226ec3",
   "metadata": {},
   "outputs": [
    {
     "data": {
      "text/plain": [
       "Ttest_relResult(statistic=3.6585471539918433, pvalue=0.000542628348948253)"
      ]
     },
     "execution_count": 93,
     "metadata": {},
     "output_type": "execute_result"
    }
   ],
   "source": [
    "stats.ttest_rel(df['bp_after'][df['sex'] == 'Male'],\n",
    "                df['bp_after'][df['sex'] == 'Female'])"
   ]
  },
  {
   "cell_type": "markdown",
   "id": "6a720396-6389-4bbb-9b73-8cf3e7bda9c0",
   "metadata": {},
   "source": [
    "### Interpreting the result:\n",
    "\n",
    "Since the p-value (0.000543) is very small (much smaller than 0.05), there is strong evidence to reject the null hypothesis. This suggests that there is a statistically significant difference in blood pressure measurements after the intervention between male and female patients.\n",
    "\n",
    "The result indicates that there is a significant difference in the effect of the intervention on blood pressure between male and female patients. The positive test statistic value (3.66) suggests that the mean blood pressure after the intervention is significantly higher for male patients compared to female patients.\n"
   ]
  },
  {
   "cell_type": "markdown",
   "id": "f5419733-70d3-472d-834f-5aa8e89843a2",
   "metadata": {
    "tags": []
   },
   "source": [
    "### Digging deeper  (Paired t-Test)\n",
    "Here we will now use the python libraries to dissect and investigate the data further.  \n",
    "I will begin by looking at the Male patients.  \n",
    "\n",
    "#### Male: before and after treatment  \n"
   ]
  },
  {
   "cell_type": "markdown",
   "id": "5952e338-a773-4480-951d-1204e191bee7",
   "metadata": {},
   "source": [
    "##### What am I planning on testing?  \n",
    "From the dataframe I will create a pandas Series named 'a' containing the blood pressure measurements before the intervention for male patients. It filters the DataFrame to include only rows where the 'sex' column is \"Male\" and selects the 'bp_before' column.\n",
    "\n",
    "Similarly I will create another pandas Series named 'b' containing the blood pressure measurements after the intervention for male patients.\n",
    "\n",
    "Then, using the ttest_rel function from a statistical library (SciPy). The 'a' and 'b' Series are provided as inputs. The ttest_rel function calculates the paired t-test statistic and p-value for the two sets of blood pressure measurements."
   ]
  },
  {
   "cell_type": "code",
   "execution_count": 84,
   "id": "f13a075c-cd36-4760-b95e-a837dfed6f09",
   "metadata": {},
   "outputs": [
    {
     "data": {
      "text/plain": [
       "Ttest_relResult(statistic=1.5431395990169743, pvalue=0.12814399772772275)"
      ]
     },
     "execution_count": 84,
     "metadata": {},
     "output_type": "execute_result"
    }
   ],
   "source": [
    "a = df.query ('sex == \"Male\"') ['bp_before']\n",
    "b = df.query ('sex == \"Male\"') ['bp_after']\n",
    "\n",
    "ttest_rel(a,b)"
   ]
  },
  {
   "cell_type": "markdown",
   "id": "30beba49-7b4a-41a5-a8b9-b2d96b146699",
   "metadata": {},
   "source": [
    "### Interpreting the result:\n",
    "Since the p-value (0.128) is greater than a typical significance level like 0.05, there isn't strong evidence to reject the null hypothesis. This suggests that, based on the data and the paired-sample t-test, you may not have found a statistically significant difference in blood pressure measurements before and after the intervention for male patients.  "
   ]
  },
  {
   "cell_type": "markdown",
   "id": "2c164565-168c-4d36-bbac-306e345b8274",
   "metadata": {},
   "source": [
    "### Comparison of the results"
   ]
  },
  {
   "cell_type": "markdown",
   "id": "78248e67-493c-4b48-a94e-d1f1f438be98",
   "metadata": {
    "tags": []
   },
   "source": [
    "##### Ttest_indResult (Independent Two-Sample T-Test):  \n",
    "The small p-value indicates strong evidence to reject the null hypothesis. This suggests that there is a statistically significant difference in blood pressure measurements after the intervention between male and female patients. The positive test statistic suggests that the mean blood pressure after the intervention is significantly higher for males compared to females.  To me this could lead me to a number of possible assumptions.\n",
    " 1. The treatment is affecting women by lowering their blood pressure and not effecting their male counterparts.  \n",
    " 2. The treatment is affecting men by raising their blood pressure and not effecting their female counterparts. \n",
    " 3. The treatment is affecting men by raising their blood pressure and treatment is affecting women by lowering their blood pressure\n",
    "\n",
    "##### Ttest_relResult (Paired-Sample T-Test):\n",
    "The p-value (0.128) is greater than a typical significance level like 0.05. This suggests that there isn't strong evidence to reject the null hypothesis, and I may not have found a statistically significant difference in blood pressure measurements before and after the intervention for male patients. This would lead me to believe that asswumption 1 above \"The treatment is affecting women by lowering their blood pressure and not effecting their male counterparts.\" is correct.\n",
    "\n",
    "The p-value for the Independent Two-Sample T-Test is much smaller (0.0011) than the p-value for the Paired-Sample T-Test (0.128).\n",
    "This indicates that the evidence against the null hypothesis is much stronger in the Independent Two-Sample T-Test.\n",
    "In the Independent Two-Sample T-Test, the small p-value suggests that the difference in blood pressure measurements after the intervention between male and female patients is statistically significant.\n",
    "In the Paired-Sample T-Test, the higher p-value suggests that the difference in blood pressure measurements before and after the intervention for male patients is not statistically significant.\n",
    "I believe this is a good example as it shows the choice of which test to use (independent vs. paired) depends on the research question and the nature of the data. In this case, the Independent Two-Sample T-Test was used to compare two different groups (male and female) and the Paired-Sample T-Test was used to compare measurements within the same group (before and after intervention for male patients). The significant difference found in the Independent Two-Sample T-Test does not necessarily imply a significant difference in the Paired-Sample T-Test.\n"
   ]
  },
  {
   "cell_type": "markdown",
   "id": "74f68e78-b085-4362-b4cf-b17d7ff66ebe",
   "metadata": {},
   "source": [
    "### Prove my assumption\n",
    "Here I will perform a Paired-Sample T-Test using the ttest_rel function on the 'bp_before' and 'bp_after' data for female patients. to see if there is a statistically significant difference in blood pressure measurements before and after the intervention for female patients."
   ]
  },
  {
   "cell_type": "code",
   "execution_count": 87,
   "id": "334e4584-be6c-470c-8df7-f7d301ffd07a",
   "metadata": {},
   "outputs": [
    {
     "data": {
      "text/plain": [
       "Ttest_relResult(statistic=3.4767481886426155, pvalue=0.0009590729491960203)"
      ]
     },
     "execution_count": 87,
     "metadata": {},
     "output_type": "execute_result"
    }
   ],
   "source": [
    "c = df.query ('sex == \"Female\"') ['bp_before']\n",
    "d = df.query ('sex == \"Female\"') ['bp_after']\n",
    "\n",
    "ttest_rel(c,d)"
   ]
  },
  {
   "cell_type": "markdown",
   "id": "1197fcb4-2b34-4215-87cc-d3f3afa1bc7c",
   "metadata": {},
   "source": [
    "Since the p-value (0.000959) is very small (much smaller than 0.05), there is strong evidence to reject the null hypothesis. This suggests that there is a statistically significant difference in blood pressure measurements before and after the intervention for female patients."
   ]
  },
  {
   "cell_type": "markdown",
   "id": "8d986f30-d360-4305-a096-8548174953e4",
   "metadata": {},
   "source": [
    "In other words, the result indicates that the intervention has had a significant effect on blood pressure for female patients. The positive test statistic value (3.48) suggests that the mean blood pressure after the intervention is significantly higher for female patients.\n",
    "\n",
    "Comparing to the previous results:\n",
    "\n",
    "The p-value for this Paired-Sample T-Test (0.000959) is smaller than the p-value for the previous Independent Two-Sample T-Test (0.001093).\n",
    "Both of these p-values are very small, indicating strong evidence of significant differences.\n",
    "Overall, the new Paired-Sample T-Test result for female patients reinforces the finding of a significant difference in blood pressure measurements before and after the intervention, specifically for female patients."
   ]
  },
  {
   "cell_type": "code",
   "execution_count": null,
   "id": "a3cc5f3b-ef6d-4a04-89f8-de0762eab2ef",
   "metadata": {},
   "outputs": [],
   "source": []
  }
 ],
 "metadata": {
  "kernelspec": {
   "display_name": "Python 3 (ipykernel)",
   "language": "python",
   "name": "python3"
  },
  "language_info": {
   "codemirror_mode": {
    "name": "ipython",
    "version": 3
   },
   "file_extension": ".py",
   "mimetype": "text/x-python",
   "name": "python",
   "nbconvert_exporter": "python",
   "pygments_lexer": "ipython3",
   "version": "3.9.12"
  }
 },
 "nbformat": 4,
 "nbformat_minor": 5
}
