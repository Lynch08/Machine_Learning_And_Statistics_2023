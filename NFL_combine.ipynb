{
 "cells": [
  {
   "cell_type": "markdown",
   "id": "f0fe248c-6690-4e57-8547-08441c4bd240",
   "metadata": {},
   "source": [
    "### How Weight can Predict the Broad Jump of players in the NFL combine"
   ]
  },
  {
   "cell_type": "markdown",
   "id": "029ed408-322d-4b6c-af89-29201b9b0d20",
   "metadata": {},
   "source": [
    "In this section I am going to use linear regression on a csv file downloaded from kaggle[[1]]('https://www.kaggle.com/datasets/mrframm/nfl-2020-combine') that contains the data of the players that were invited to the 2020 NFL combine. I have tried doing regression models on NFL data before, however I never really got very far as there are so many variables that pridicting anything is a bit of a nightmare and it gets extremly complex very quickly. However for the purposes of this notebook and demonstration of simple regression I am going to clean a dataframe and simply determine if we can predict the Broad jump of a player based on his weight. (Broad jump is just another term for long jump...Americans)"
   ]
  },
  {
   "cell_type": "code",
   "execution_count": 1,
   "id": "9c26c96b-bb9a-4011-bf22-9d30d7b355c8",
   "metadata": {},
   "outputs": [],
   "source": [
    "# Import Pandas\n",
    "import pandas as pd\n",
    "\n",
    "# Plotting\n",
    "import matplotlib.pyplot as plt\n",
    "\n",
    "# Statistical arrays\n",
    "import numpy as np\n",
    "\n",
    "#Statistical tools\n",
    "import scipy.stats as ss\n",
    "\n",
    "# Optimization\n",
    "import scipy.optimize as so"
   ]
  },
  {
   "cell_type": "code",
   "execution_count": 2,
   "id": "416123d1-3c1a-45c0-8abc-11aafa6a02b7",
   "metadata": {},
   "outputs": [],
   "source": [
    "# Read in the data\n",
    "cb_data = pd.read_csv(\"NFL_Combine_2020.csv\")"
   ]
  },
  {
   "cell_type": "code",
   "execution_count": 3,
   "id": "9bdf2501-3055-4a34-bad3-939c9a392cb0",
   "metadata": {},
   "outputs": [
    {
     "data": {
      "text/html": [
       "<div>\n",
       "<style scoped>\n",
       "    .dataframe tbody tr th:only-of-type {\n",
       "        vertical-align: middle;\n",
       "    }\n",
       "\n",
       "    .dataframe tbody tr th {\n",
       "        vertical-align: top;\n",
       "    }\n",
       "\n",
       "    .dataframe thead th {\n",
       "        text-align: right;\n",
       "    }\n",
       "</style>\n",
       "<table border=\"1\" class=\"dataframe\">\n",
       "  <thead>\n",
       "    <tr style=\"text-align: right;\">\n",
       "      <th></th>\n",
       "      <th>Unnamed: 0</th>\n",
       "      <th>Player</th>\n",
       "      <th>Pos</th>\n",
       "      <th>Ht</th>\n",
       "      <th>Wt</th>\n",
       "      <th>40yd</th>\n",
       "      <th>Vertical</th>\n",
       "      <th>Bench</th>\n",
       "      <th>Broad Jump</th>\n",
       "      <th>3Cone</th>\n",
       "      <th>Shuttle</th>\n",
       "    </tr>\n",
       "  </thead>\n",
       "  <tbody>\n",
       "    <tr>\n",
       "      <th>332</th>\n",
       "      <td>332</td>\n",
       "      <td>D.J. Wonnum</td>\n",
       "      <td>DL</td>\n",
       "      <td>195</td>\n",
       "      <td>258</td>\n",
       "      <td>4.73</td>\n",
       "      <td>34.5</td>\n",
       "      <td>20.0</td>\n",
       "      <td>123.0</td>\n",
       "      <td>7.25</td>\n",
       "      <td>4.44</td>\n",
       "    </tr>\n",
       "    <tr>\n",
       "      <th>333</th>\n",
       "      <td>333</td>\n",
       "      <td>Dom Wood-Anderson</td>\n",
       "      <td>TE</td>\n",
       "      <td>193</td>\n",
       "      <td>261</td>\n",
       "      <td>4.92</td>\n",
       "      <td>35.0</td>\n",
       "      <td>NaN</td>\n",
       "      <td>119.0</td>\n",
       "      <td>NaN</td>\n",
       "      <td>NaN</td>\n",
       "    </tr>\n",
       "    <tr>\n",
       "      <th>334</th>\n",
       "      <td>334</td>\n",
       "      <td>David Woodward</td>\n",
       "      <td>LB</td>\n",
       "      <td>188</td>\n",
       "      <td>230</td>\n",
       "      <td>4.79</td>\n",
       "      <td>33.5</td>\n",
       "      <td>16.0</td>\n",
       "      <td>114.0</td>\n",
       "      <td>7.34</td>\n",
       "      <td>4.37</td>\n",
       "    </tr>\n",
       "    <tr>\n",
       "      <th>335</th>\n",
       "      <td>335</td>\n",
       "      <td>Chase Young</td>\n",
       "      <td>DL</td>\n",
       "      <td>195</td>\n",
       "      <td>264</td>\n",
       "      <td>NaN</td>\n",
       "      <td>NaN</td>\n",
       "      <td>NaN</td>\n",
       "      <td>NaN</td>\n",
       "      <td>NaN</td>\n",
       "      <td>NaN</td>\n",
       "    </tr>\n",
       "    <tr>\n",
       "      <th>336</th>\n",
       "      <td>336</td>\n",
       "      <td>Jabari Zuniga</td>\n",
       "      <td>DL</td>\n",
       "      <td>190</td>\n",
       "      <td>264</td>\n",
       "      <td>4.64</td>\n",
       "      <td>33.0</td>\n",
       "      <td>29.0</td>\n",
       "      <td>127.0</td>\n",
       "      <td>NaN</td>\n",
       "      <td>NaN</td>\n",
       "    </tr>\n",
       "  </tbody>\n",
       "</table>\n",
       "</div>"
      ],
      "text/plain": [
       "     Unnamed: 0             Player Pos   Ht   Wt  40yd  Vertical  Bench  \\\n",
       "332         332        D.J. Wonnum  DL  195  258  4.73      34.5   20.0   \n",
       "333         333  Dom Wood-Anderson  TE  193  261  4.92      35.0    NaN   \n",
       "334         334     David Woodward  LB  188  230  4.79      33.5   16.0   \n",
       "335         335        Chase Young  DL  195  264   NaN       NaN    NaN   \n",
       "336         336      Jabari Zuniga  DL  190  264  4.64      33.0   29.0   \n",
       "\n",
       "     Broad Jump  3Cone  Shuttle  \n",
       "332       123.0   7.25     4.44  \n",
       "333       119.0    NaN      NaN  \n",
       "334       114.0   7.34     4.37  \n",
       "335         NaN    NaN      NaN  \n",
       "336       127.0    NaN      NaN  "
      ]
     },
     "execution_count": 3,
     "metadata": {},
     "output_type": "execute_result"
    }
   ],
   "source": [
    "# Take a peek\n",
    "cb_data.tail()"
   ]
  },
  {
   "cell_type": "markdown",
   "id": "f9d76392-0707-49fa-9163-c28736d31791",
   "metadata": {},
   "source": [
    "First thing I notice in the data is that some of the players have not taken part in each event as there are empty cells from my data (NaNs). Many of these player (especially the top athletes) do not participate in the combine as they do not need to - example above is Chase Young - in 2019/2020 he was a top recruit coming out of college so he did not take part in any events. For the purposes of this excercise I am going the exclude the data of any player that did not take part in the broad jump events. "
   ]
  },
  {
   "cell_type": "code",
   "execution_count": 4,
   "id": "634df81b-bd72-4187-8346-75aebbc750e7",
   "metadata": {},
   "outputs": [
    {
     "name": "stdout",
     "output_type": "stream",
     "text": [
      "No. of rows before NaNs removed:  337\n",
      "No. of rows after NaNs removed:  239\n"
     ]
    }
   ],
   "source": [
    "# Get original row count\n",
    "print(\"No. of rows before NaNs removed: \", len(cb_data.index))\n",
    "\n",
    "# Drop rows containing NaNs in 'Wt' or 'Broad Jump' columns\n",
    "cb_data = cb_data.dropna(subset=['Wt', 'Broad Jump'])\n",
    "\n",
    "# Get Row Count of players after cleaning\n",
    "print(\"No. of rows after NaNs removed: \", len(cb_data.index))"
   ]
  },
  {
   "cell_type": "markdown",
   "id": "69d46b73-3283-4243-a7ef-9aab180cbbf2",
   "metadata": {},
   "source": [
    "Above I have removed the 98 players from the dataframe that did not have the neccessary data recorded for the investigation. "
   ]
  },
  {
   "cell_type": "code",
   "execution_count": 5,
   "id": "46674e01-f73a-4c04-a887-2123bfccb610",
   "metadata": {},
   "outputs": [
    {
     "data": {
      "text/html": [
       "<div>\n",
       "<style scoped>\n",
       "    .dataframe tbody tr th:only-of-type {\n",
       "        vertical-align: middle;\n",
       "    }\n",
       "\n",
       "    .dataframe tbody tr th {\n",
       "        vertical-align: top;\n",
       "    }\n",
       "\n",
       "    .dataframe thead th {\n",
       "        text-align: right;\n",
       "    }\n",
       "</style>\n",
       "<table border=\"1\" class=\"dataframe\">\n",
       "  <thead>\n",
       "    <tr style=\"text-align: right;\">\n",
       "      <th></th>\n",
       "      <th>Unnamed: 0</th>\n",
       "      <th>Player</th>\n",
       "      <th>Pos</th>\n",
       "      <th>Ht</th>\n",
       "      <th>Wt</th>\n",
       "      <th>40yd</th>\n",
       "      <th>Vertical</th>\n",
       "      <th>Bench</th>\n",
       "      <th>Broad Jump</th>\n",
       "      <th>3Cone</th>\n",
       "      <th>Shuttle</th>\n",
       "    </tr>\n",
       "  </thead>\n",
       "  <tbody>\n",
       "    <tr>\n",
       "      <th>0</th>\n",
       "      <td>0</td>\n",
       "      <td>Trey Adams</td>\n",
       "      <td>OL</td>\n",
       "      <td>203</td>\n",
       "      <td>318</td>\n",
       "      <td>5.60</td>\n",
       "      <td>24.5</td>\n",
       "      <td>NaN</td>\n",
       "      <td>92.0</td>\n",
       "      <td>NaN</td>\n",
       "      <td>NaN</td>\n",
       "    </tr>\n",
       "    <tr>\n",
       "      <th>1</th>\n",
       "      <td>1</td>\n",
       "      <td>Hakeem Adeniji</td>\n",
       "      <td>OL</td>\n",
       "      <td>193</td>\n",
       "      <td>302</td>\n",
       "      <td>5.17</td>\n",
       "      <td>34.0</td>\n",
       "      <td>26.0</td>\n",
       "      <td>115.0</td>\n",
       "      <td>NaN</td>\n",
       "      <td>NaN</td>\n",
       "    </tr>\n",
       "    <tr>\n",
       "      <th>3</th>\n",
       "      <td>3</td>\n",
       "      <td>Salvon Ahmed</td>\n",
       "      <td>RB</td>\n",
       "      <td>180</td>\n",
       "      <td>197</td>\n",
       "      <td>4.62</td>\n",
       "      <td>34.5</td>\n",
       "      <td>NaN</td>\n",
       "      <td>120.0</td>\n",
       "      <td>NaN</td>\n",
       "      <td>NaN</td>\n",
       "    </tr>\n",
       "    <tr>\n",
       "      <th>4</th>\n",
       "      <td>4</td>\n",
       "      <td>Brandon Aiyuk</td>\n",
       "      <td>WR</td>\n",
       "      <td>183</td>\n",
       "      <td>205</td>\n",
       "      <td>4.50</td>\n",
       "      <td>40.0</td>\n",
       "      <td>11.0</td>\n",
       "      <td>128.0</td>\n",
       "      <td>NaN</td>\n",
       "      <td>NaN</td>\n",
       "    </tr>\n",
       "    <tr>\n",
       "      <th>5</th>\n",
       "      <td>5</td>\n",
       "      <td>Cam Akers</td>\n",
       "      <td>RB</td>\n",
       "      <td>178</td>\n",
       "      <td>217</td>\n",
       "      <td>4.47</td>\n",
       "      <td>35.5</td>\n",
       "      <td>20.0</td>\n",
       "      <td>122.0</td>\n",
       "      <td>NaN</td>\n",
       "      <td>4.42</td>\n",
       "    </tr>\n",
       "    <tr>\n",
       "      <th>...</th>\n",
       "      <td>...</td>\n",
       "      <td>...</td>\n",
       "      <td>...</td>\n",
       "      <td>...</td>\n",
       "      <td>...</td>\n",
       "      <td>...</td>\n",
       "      <td>...</td>\n",
       "      <td>...</td>\n",
       "      <td>...</td>\n",
       "      <td>...</td>\n",
       "      <td>...</td>\n",
       "    </tr>\n",
       "    <tr>\n",
       "      <th>331</th>\n",
       "      <td>331</td>\n",
       "      <td>Charlie Woerner</td>\n",
       "      <td>TE</td>\n",
       "      <td>195</td>\n",
       "      <td>244</td>\n",
       "      <td>4.78</td>\n",
       "      <td>34.5</td>\n",
       "      <td>21.0</td>\n",
       "      <td>120.0</td>\n",
       "      <td>7.18</td>\n",
       "      <td>4.46</td>\n",
       "    </tr>\n",
       "    <tr>\n",
       "      <th>332</th>\n",
       "      <td>332</td>\n",
       "      <td>D.J. Wonnum</td>\n",
       "      <td>DL</td>\n",
       "      <td>195</td>\n",
       "      <td>258</td>\n",
       "      <td>4.73</td>\n",
       "      <td>34.5</td>\n",
       "      <td>20.0</td>\n",
       "      <td>123.0</td>\n",
       "      <td>7.25</td>\n",
       "      <td>4.44</td>\n",
       "    </tr>\n",
       "    <tr>\n",
       "      <th>333</th>\n",
       "      <td>333</td>\n",
       "      <td>Dom Wood-Anderson</td>\n",
       "      <td>TE</td>\n",
       "      <td>193</td>\n",
       "      <td>261</td>\n",
       "      <td>4.92</td>\n",
       "      <td>35.0</td>\n",
       "      <td>NaN</td>\n",
       "      <td>119.0</td>\n",
       "      <td>NaN</td>\n",
       "      <td>NaN</td>\n",
       "    </tr>\n",
       "    <tr>\n",
       "      <th>334</th>\n",
       "      <td>334</td>\n",
       "      <td>David Woodward</td>\n",
       "      <td>LB</td>\n",
       "      <td>188</td>\n",
       "      <td>230</td>\n",
       "      <td>4.79</td>\n",
       "      <td>33.5</td>\n",
       "      <td>16.0</td>\n",
       "      <td>114.0</td>\n",
       "      <td>7.34</td>\n",
       "      <td>4.37</td>\n",
       "    </tr>\n",
       "    <tr>\n",
       "      <th>336</th>\n",
       "      <td>336</td>\n",
       "      <td>Jabari Zuniga</td>\n",
       "      <td>DL</td>\n",
       "      <td>190</td>\n",
       "      <td>264</td>\n",
       "      <td>4.64</td>\n",
       "      <td>33.0</td>\n",
       "      <td>29.0</td>\n",
       "      <td>127.0</td>\n",
       "      <td>NaN</td>\n",
       "      <td>NaN</td>\n",
       "    </tr>\n",
       "  </tbody>\n",
       "</table>\n",
       "<p>239 rows × 11 columns</p>\n",
       "</div>"
      ],
      "text/plain": [
       "     Unnamed: 0             Player Pos   Ht   Wt  40yd  Vertical  Bench  \\\n",
       "0             0         Trey Adams  OL  203  318  5.60      24.5    NaN   \n",
       "1             1     Hakeem Adeniji  OL  193  302  5.17      34.0   26.0   \n",
       "3             3       Salvon Ahmed  RB  180  197  4.62      34.5    NaN   \n",
       "4             4      Brandon Aiyuk  WR  183  205  4.50      40.0   11.0   \n",
       "5             5          Cam Akers  RB  178  217  4.47      35.5   20.0   \n",
       "..          ...                ...  ..  ...  ...   ...       ...    ...   \n",
       "331         331    Charlie Woerner  TE  195  244  4.78      34.5   21.0   \n",
       "332         332        D.J. Wonnum  DL  195  258  4.73      34.5   20.0   \n",
       "333         333  Dom Wood-Anderson  TE  193  261  4.92      35.0    NaN   \n",
       "334         334     David Woodward  LB  188  230  4.79      33.5   16.0   \n",
       "336         336      Jabari Zuniga  DL  190  264  4.64      33.0   29.0   \n",
       "\n",
       "     Broad Jump  3Cone  Shuttle  \n",
       "0          92.0    NaN      NaN  \n",
       "1         115.0    NaN      NaN  \n",
       "3         120.0    NaN      NaN  \n",
       "4         128.0    NaN      NaN  \n",
       "5         122.0    NaN     4.42  \n",
       "..          ...    ...      ...  \n",
       "331       120.0   7.18     4.46  \n",
       "332       123.0   7.25     4.44  \n",
       "333       119.0    NaN      NaN  \n",
       "334       114.0   7.34     4.37  \n",
       "336       127.0    NaN      NaN  \n",
       "\n",
       "[239 rows x 11 columns]"
      ]
     },
     "execution_count": 5,
     "metadata": {},
     "output_type": "execute_result"
    }
   ],
   "source": [
    "#Look at a sample\n",
    "cb_data"
   ]
  },
  {
   "cell_type": "markdown",
   "id": "8e33ca77-6be0-4489-af10-4a2c734d8be5",
   "metadata": {},
   "source": [
    "### Plot the Data\n",
    "\n",
    "***"
   ]
  },
  {
   "cell_type": "markdown",
   "id": "d1671fa0-66e6-4de3-8b68-03ac6d24ecab",
   "metadata": {},
   "source": [
    "Here I am going to create a scatter plot of the data."
   ]
  },
  {
   "cell_type": "code",
   "execution_count": 6,
   "id": "6c06948a-a22d-41da-9342-ee2ddac7116c",
   "metadata": {
    "scrolled": true,
    "tags": []
   },
   "outputs": [],
   "source": [
    "# Create x and y data from data frame\n",
    "x = cb_data['Wt'].tolist()\n",
    "y = cb_data['Broad Jump'].tolist()\n"
   ]
  },
  {
   "cell_type": "code",
   "execution_count": 7,
   "id": "bb82bd48-f1ec-44ef-abbc-08c81a541647",
   "metadata": {},
   "outputs": [
    {
     "data": {
      "text/plain": [
       "Text(0, 0.5, 'Jump Height (cm)')"
      ]
     },
     "execution_count": 7,
     "metadata": {},
     "output_type": "execute_result"
    },
    {
     "data": {
      "image/png": "[encoded data removed]",
      "text/plain": [
       "<Figure size 864x432 with 1 Axes>"
      ]
     },
     "metadata": {
      "needs_background": "light"
     },
     "output_type": "display_data"
    }
   ],
   "source": [
    "# Scatter plot\n",
    "fig, ax = plt.subplots(figsize = (12,6))\n",
    "plt.scatter(x,y)\n",
    "plt.xlabel('Weight (lbs)')\n",
    "plt.ylabel(\"Jump Height (cm)\")"
   ]
  },
  {
   "cell_type": "markdown",
   "id": "b3367276-7ca9-4212-89d3-890f51f2c861",
   "metadata": {},
   "source": [
    "So here I can see that the data points are indicating a negative relationship between these two variables as the data points are on a downward trajectory from the top left to the bottom right of the plot. Or as the weight of a player increases, the shorter the jump tends to get.\n",
    "\n",
    "Below I will use the linregress tool in scipy to get the pvalue of the data[[2]]('https://docs.scipy.org/doc/scipy/reference/generated/scipy.stats.linregress.html'). This is to prove that the values of a players weight (x) is directly related to the players broadjump.  \n",
    "The linregress function in the scipy.stats module is a convenient tool for performing linear regression analysis on a set of data points, it calculates several important parameters of the linear regression model, including the slope, intercept, correlation coefficient (r-value), p-value, and standard error."
   ]
  },
  {
   "cell_type": "code",
   "execution_count": 8,
   "id": "2d2911b2-c1cd-418c-b531-2f4b4b6c9b54",
   "metadata": {},
   "outputs": [
    {
     "name": "stdout",
     "output_type": "stream",
     "text": [
      "LinregressResult(slope=-0.13852410700081397, intercept=151.89883891940303, rvalue=-0.6900714858660851, pvalue=3.930794374293921e-35, stderr=0.009437140221157788, intercept_stderr=2.28167911217884)\n"
     ]
    }
   ],
   "source": [
    "res = ss.linregress(x, y)\n",
    "print (res)"
   ]
  },
  {
   "cell_type": "markdown",
   "id": "41c5e3a5-a6de-42a8-ab2b-3b3c5695851c",
   "metadata": {},
   "source": [
    "After performing the linear regression analysis, the linregress function returns a LinregressResult object, which contains several statistical values that describe the linear regression model. Here I will go through some of the results we will use in our model. \n",
    "\n",
    "**pvalue:** This is the p-value associated with the null hypothesis that there is no significant linear relationship between the variables x and y. A small p-value (usually less than 0.05) indicates that the linear relationship is statistically significant. In the output, the pvalue is approximately 3.930794374293921e-35, which is extremely small (almost 0) and suggests a highly significant linear relationship.(This is not actually used in the model but the miniscule score gives creedence to generating a model.)\n",
    "\n",
    "**slope:** This is the slope of the linear regression line, which represents the change in the dependent variable (y) for a unit change in the independent variable (x). In the output, the slope is approximately -0.1385.\n",
    "\n",
    "**intercept:** This is the intercept of the linear regression line, which is the value of the dependent variable (y) when the independent variable (x) is zero. In the output, the intercept is approximately 151.8988.\n",
    "\n",
    "Now using the results above I will create a the preditive data to fit the line."
   ]
  },
  {
   "cell_type": "code",
   "execution_count": 9,
   "id": "7bc49153-9197-499f-ba24-2094d8887572",
   "metadata": {},
   "outputs": [
    {
     "data": {
      "text/plain": [
       "[<matplotlib.lines.Line2D at 0x14989186280>]"
      ]
     },
     "execution_count": 9,
     "metadata": {},
     "output_type": "execute_result"
    },
    {
     "data": {
      "image/png": "[encoded data removed]",
      "text/plain": [
       "<Figure size 864x432 with 1 Axes>"
      ]
     },
     "metadata": {
      "needs_background": "light"
     },
     "output_type": "display_data"
    }
   ],
   "source": [
    "# Creating predictive data\n",
    "y_pred = res.intercept + res.slope * np.array(x)\n",
    "\n",
    "# Create a plot\n",
    "fig, ax = plt.subplots(figsize = (12,6))\n",
    "\n",
    "# PLot x and y\n",
    "ax.plot(x,y, 'k.')\n",
    "\n",
    "# PLot x and predictive data(y_pred) on x\n",
    "ax.plot(x, y_pred)\n",
    "\n",
    "# x and y axis labels\n",
    "plt.xlabel('Weight (lbs)')\n",
    "plt.ylabel(\"Jump Height (cm)\")\n",
    "\n",
    "ax.plot(x,y_pred)"
   ]
  },
  {
   "cell_type": "markdown",
   "id": "a59e1044-0dc7-44a3-8587-4a6516d31253",
   "metadata": {},
   "source": [
    "### Linear Regression using the polyfit function\n",
    "Below I will do the same thing, except this time instead of creating a formula to fit the line, I will ask they polyfit function in the scipy library to do this for me. "
   ]
  },
  {
   "cell_type": "code",
   "execution_count": 10,
   "id": "4642e1e2-38e7-44e2-9be5-f5d6f519fe55",
   "metadata": {},
   "outputs": [
    {
     "data": {
      "text/plain": [
       "array([-1.38524107e-01,  1.51898839e+02])"
      ]
     },
     "execution_count": 10,
     "metadata": {},
     "output_type": "execute_result"
    }
   ],
   "source": [
    "# To use the polyfit function the data needs to be in numpy arrays\n",
    "x = np.asarray(x)\n",
    "y = np.asarray(y)\n",
    "\n",
    "# use x and y to find original parameters used to create data\n",
    "params = np.polyfit(x, y, 1)\n",
    "params"
   ]
  },
  {
   "cell_type": "markdown",
   "id": "ff7dfd94-5e7b-48f4-9f5f-d29690e94946",
   "metadata": {},
   "source": [
    "The first value -1.38524107e-01  is the slope of the linear regression line. This value indicates the rate of change of the dependent variable (y) with respect to a unit change in the independent variable (x). In this case, as expected since we saw this above, the negative value suggests a negative correlation between x and y, meaning that as x increases, y tends to decrease.\n",
    "\n",
    "The second value 1.51898839e+02 is the intercept of the linear regression line. It represents the value of the dependent variable (y) when the independent variable (x) is zero. In this case, it suggests that when x is zero, the predicted value of y is approximately 156.36.\n",
    "\n",
    "The e notation in the values represents scientific notation. For example, 1.38524107e-01 is equivalent to -0.138524107, and 1.51898839e+02 is equivalent to 151.898839.  \n",
    "You will notice these values are almost identical to the values returned to me when I ran the linregress function in the previous section (the slope and intercept outputs).  \n",
    "\n",
    "In summary, the params array provided represents the coefficients of the linear regression line that best fits the data points (x, y). \n",
    "Both functions are attempting to achieve the same goal—fitting a linear regression line to the data and extracting the slope and intercept of that line. The slight numerical differences in the results might be due to different algorithms or methods used by the linregress and polyfit functions to perform the regression, but the essence of what they are doing is the same.  \n",
    "The linear equation that describes this relationship is approximately:  \n",
    "**y=−0.1385x+151.8988**  \n",
    "This equation represents the best-fit line that has been determined through linear regression using my data. It indicates that for each unit increase in x, y is expected to decrease by approximately 0.1385 units, and when x is 0, y is expected to be approximately 151.8988.\n",
    "This equation can be used to make predictions based on the given data and the fitted linear model."
   ]
  },
  {
   "cell_type": "code",
   "execution_count": 11,
   "id": "6e403a5d-1cfd-416f-9d26-cc67ca1c03b9",
   "metadata": {},
   "outputs": [
    {
     "data": {
      "text/plain": [
       "Text(0, 0.5, 'Jump Height (cm)')"
      ]
     },
     "execution_count": 11,
     "metadata": {},
     "output_type": "execute_result"
    },
    {
     "data": {
      "image/png": "[encoded data removed]",
      "text/plain": [
       "<Figure size 864x432 with 1 Axes>"
      ]
     },
     "metadata": {
      "needs_background": "light"
     },
     "output_type": "display_data"
    }
   ],
   "source": [
    " # Create a plot\n",
    "fig, ax = plt.subplots(figsize = (12,6))\n",
    "\n",
    "# PLot x and y\n",
    "ax.plot(x,y, 'k.')\n",
    "\n",
    "\n",
    "# PLot x and params on x\n",
    "ax.plot(x, params[0] * x + params[1], 'r-')\n",
    "\n",
    "# Labels\n",
    "plt.xlabel('Weight (lbs)')\n",
    "plt.ylabel(\"Jump Height (cm)\")\n",
    "\n"
   ]
  },
  {
   "cell_type": "markdown",
   "id": "4543e909-2174-4e7b-871a-e3c37daa08fd",
   "metadata": {},
   "source": [
    "Now realistically some context has to be put on this data. Theses are professional athletes, in the real world with \"normal\" people who do not train for hours almost every day the data may have a lot more varience. Plus, these are people, there does come a point of diminishing returns where if a person does not weigh enough they will not have the strength or power/energy to jump. In the plot above we may even see that point at roughly 190-200 lbs. If we had a lager sample with lighter athletes, it is very possible that the data would have a more \"normal\" or bell curve distribution rather than linear.  \n",
    "Also in a larger sample that includes a broader range of individuals, including those who are not professional athletes, you might see more variation in the data. Again this variation could lead to a more bell-shaped distribution, reflecting the diverse range of physical abilities and training levels in the general population.  \n",
    "Considering these factors, it's important to remember approach data analysis and modeling with a nuanced understanding of the domain being studying. While linear regression can provide valuable insights, it's not always the best fit for every situation. Exploring alternative models, such as polynomial regression, quadratic regression, or other curve-fitting methods, could help capture more complex relationships that exist in real-world data."
   ]
  },
  {
   "cell_type": "markdown",
   "id": "377db2a0-bedf-4e6e-974c-4a6abde65b8c",
   "metadata": {},
   "source": [
    "Below I have created a graph that allows a polynomial of degree 3 (It is now a cubic polynomial. 3 is just a default - users can play with this) to the given data points (x, y). This means that the polynomial will have significantly more flexibility and complexity, and it will try to match the fluctuations and details in the data."
   ]
  },
  {
   "cell_type": "code",
   "execution_count": null,
   "id": "bcc143c9-4172-47a6-ad19-8f80b20029c8",
   "metadata": {},
   "outputs": [],
   "source": [
    "# Degrees of the polynomial(Freedom)\n",
    "deg = 3\n",
    "\n",
    "# Use x and y to try to find the original parameters\n",
    "params = np.polyfit(x, y, deg)\n",
    "\n",
    "# Create a plot\n",
    "fig, ax = plt.subplots(figsize = (12,6))\n",
    "\n",
    "#plot x and y\n",
    "ax.plot(x, y, 'k.')\n",
    "\n",
    "# PLot x and params on x\n",
    "ax.plot(x, np.polyval(params, x), 'b-')"
   ]
  },
  {
   "cell_type": "markdown",
   "id": "d588f34c-18b7-41b3-9190-da22db2ef699",
   "metadata": {},
   "source": [
    "When you increase the degree of the polynomial, it can capture intricate patterns and variations in the data, potentially resulting in a curve that passes very closely to each data point. However, there is a risk of overfitting, which means that the polynomial might capture noise in the data rather than the true underlying trend. This can lead to poor generalization when making predictions on new, unseen data.\n",
    "\n",
    "The choice of the polynomial degree should be based on the complexity of the underlying relationship in the data and the goals of the analysis. There is a trade-off between fitting the data well and avoiding overfitting. In many cases, lower-degree polynomials are preferred to avoid overfitting, unless there is strong justification for using a higher degree polynomial. In the investigation I have done above into the relationship between an athleates weight and length of broad jump we can see how expanding the degrees of the polynomial gives a lot of \"freedom\" and the plot becomse gibberish very quickly. In my opinion the straight line gives the best \"fit\" in this case. \n",
    "\n",
    "\n",
    "\n",
    "\n",
    "\n"
   ]
  },
  {
   "cell_type": "code",
   "execution_count": null,
   "id": "eabe473b-6004-4d92-9c71-9b944c38dbd6",
   "metadata": {},
   "outputs": [],
   "source": []
  },
  {
   "cell_type": "code",
   "execution_count": null,
   "id": "b146c325-332a-445d-942a-cb2f08da41fd",
   "metadata": {},
   "outputs": [],
   "source": []
  },
  {
   "cell_type": "code",
   "execution_count": null,
   "id": "53b1a4c6-0b21-4cab-94bb-b92f3961b86a",
   "metadata": {},
   "outputs": [],
   "source": []
  },
  {
   "cell_type": "code",
   "execution_count": null,
   "id": "1406d7cb-b8e2-440d-abab-7cd22f27386e",
   "metadata": {},
   "outputs": [],
   "source": []
  },
  {
   "cell_type": "code",
   "execution_count": null,
   "id": "992c5aa0-05d9-4b0b-941d-bbbf13915c20",
   "metadata": {},
   "outputs": [],
   "source": []
  },
  {
   "cell_type": "code",
   "execution_count": null,
   "id": "0a13f9a0-9827-4fa9-a77e-f29720feb4e4",
   "metadata": {},
   "outputs": [],
   "source": []
  }
 ],
 "metadata": {
  "kernelspec": {
   "display_name": "Python 3 (ipykernel)",
   "language": "python",
   "name": "python3"
  },
  "language_info": {
   "codemirror_mode": {
    "name": "ipython",
    "version": 3
   },
   "file_extension": ".py",
   "mimetype": "text/x-python",
   "name": "python",
   "nbconvert_exporter": "python",
   "pygments_lexer": "ipython3",
   "version": "3.9.12"
  }
 },
 "nbformat": 4,
 "nbformat_minor": 5
}
