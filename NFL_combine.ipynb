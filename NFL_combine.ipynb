{
 "cells": [
  {
   "cell_type": "markdown",
   "id": "f0fe248c-6690-4e57-8547-08441c4bd240",
   "metadata": {},
   "source": [
    "### How Weight can Predict the Broad Jump of players in the NFL combine"
   ]
  },
  {
   "cell_type": "markdown",
   "id": "029ed408-322d-4b6c-af89-29201b9b0d20",
   "metadata": {},
   "source": [
    "In this section I am going to use linear regression on a csv file downloaded from kaggle[[1]]('https://www.kaggle.com/datasets/mrframm/nfl-2020-combine') that contains the data of the players that were invited to the 2020 NFL combine. I have tried doing regression models on NFL data before, however I never really got very far as there are so many variables that pridicting anything is a bit of a nightmare and it gets extremly complex very quickly. However for the purposes of this notebook and demonstration of simple regression I am going to clean a dataframe and simply determine if we can predict the Broad jump of a player based on his weight. (Broad jump is just another term for long jump...Americans)"
   ]
  },
  {
   "cell_type": "code",
   "execution_count": 51,
   "id": "9c26c96b-bb9a-4011-bf22-9d30d7b355c8",
   "metadata": {},
   "outputs": [],
   "source": [
    "# Import Pandas\n",
    "import pandas as pd\n",
    "\n",
    "# Plotting\n",
    "import matplotlib.pyplot as plt\n",
    "\n",
    "# Statistical arrays\n",
    "import numpy as np\n",
    "\n",
    "#Statistical tools\n",
    "import scipy.stats as ss"
   ]
  },
  {
   "cell_type": "code",
   "execution_count": 52,
   "id": "416123d1-3c1a-45c0-8abc-11aafa6a02b7",
   "metadata": {},
   "outputs": [],
   "source": [
    "cb_data = pd.read_csv(\"NFL_Combine_2020.csv\")"
   ]
  },
  {
   "cell_type": "code",
   "execution_count": 53,
   "id": "9bdf2501-3055-4a34-bad3-939c9a392cb0",
   "metadata": {},
   "outputs": [
    {
     "data": {
      "text/html": [
       "<div>\n",
       "<style scoped>\n",
       "    .dataframe tbody tr th:only-of-type {\n",
       "        vertical-align: middle;\n",
       "    }\n",
       "\n",
       "    .dataframe tbody tr th {\n",
       "        vertical-align: top;\n",
       "    }\n",
       "\n",
       "    .dataframe thead th {\n",
       "        text-align: right;\n",
       "    }\n",
       "</style>\n",
       "<table border=\"1\" class=\"dataframe\">\n",
       "  <thead>\n",
       "    <tr style=\"text-align: right;\">\n",
       "      <th></th>\n",
       "      <th>Unnamed: 0</th>\n",
       "      <th>Player</th>\n",
       "      <th>Pos</th>\n",
       "      <th>Ht</th>\n",
       "      <th>Wt</th>\n",
       "      <th>40yd</th>\n",
       "      <th>Vertical</th>\n",
       "      <th>Bench</th>\n",
       "      <th>Broad Jump</th>\n",
       "      <th>3Cone</th>\n",
       "      <th>Shuttle</th>\n",
       "    </tr>\n",
       "  </thead>\n",
       "  <tbody>\n",
       "    <tr>\n",
       "      <th>332</th>\n",
       "      <td>332</td>\n",
       "      <td>D.J. Wonnum</td>\n",
       "      <td>DL</td>\n",
       "      <td>195</td>\n",
       "      <td>258</td>\n",
       "      <td>4.73</td>\n",
       "      <td>34.5</td>\n",
       "      <td>20.0</td>\n",
       "      <td>123.0</td>\n",
       "      <td>7.25</td>\n",
       "      <td>4.44</td>\n",
       "    </tr>\n",
       "    <tr>\n",
       "      <th>333</th>\n",
       "      <td>333</td>\n",
       "      <td>Dom Wood-Anderson</td>\n",
       "      <td>TE</td>\n",
       "      <td>193</td>\n",
       "      <td>261</td>\n",
       "      <td>4.92</td>\n",
       "      <td>35.0</td>\n",
       "      <td>NaN</td>\n",
       "      <td>119.0</td>\n",
       "      <td>NaN</td>\n",
       "      <td>NaN</td>\n",
       "    </tr>\n",
       "    <tr>\n",
       "      <th>334</th>\n",
       "      <td>334</td>\n",
       "      <td>David Woodward</td>\n",
       "      <td>LB</td>\n",
       "      <td>188</td>\n",
       "      <td>230</td>\n",
       "      <td>4.79</td>\n",
       "      <td>33.5</td>\n",
       "      <td>16.0</td>\n",
       "      <td>114.0</td>\n",
       "      <td>7.34</td>\n",
       "      <td>4.37</td>\n",
       "    </tr>\n",
       "    <tr>\n",
       "      <th>335</th>\n",
       "      <td>335</td>\n",
       "      <td>Chase Young</td>\n",
       "      <td>DL</td>\n",
       "      <td>195</td>\n",
       "      <td>264</td>\n",
       "      <td>NaN</td>\n",
       "      <td>NaN</td>\n",
       "      <td>NaN</td>\n",
       "      <td>NaN</td>\n",
       "      <td>NaN</td>\n",
       "      <td>NaN</td>\n",
       "    </tr>\n",
       "    <tr>\n",
       "      <th>336</th>\n",
       "      <td>336</td>\n",
       "      <td>Jabari Zuniga</td>\n",
       "      <td>DL</td>\n",
       "      <td>190</td>\n",
       "      <td>264</td>\n",
       "      <td>4.64</td>\n",
       "      <td>33.0</td>\n",
       "      <td>29.0</td>\n",
       "      <td>127.0</td>\n",
       "      <td>NaN</td>\n",
       "      <td>NaN</td>\n",
       "    </tr>\n",
       "  </tbody>\n",
       "</table>\n",
       "</div>"
      ],
      "text/plain": [
       "     Unnamed: 0             Player Pos   Ht   Wt  40yd  Vertical  Bench  \\\n",
       "332         332        D.J. Wonnum  DL  195  258  4.73      34.5   20.0   \n",
       "333         333  Dom Wood-Anderson  TE  193  261  4.92      35.0    NaN   \n",
       "334         334     David Woodward  LB  188  230  4.79      33.5   16.0   \n",
       "335         335        Chase Young  DL  195  264   NaN       NaN    NaN   \n",
       "336         336      Jabari Zuniga  DL  190  264  4.64      33.0   29.0   \n",
       "\n",
       "     Broad Jump  3Cone  Shuttle  \n",
       "332       123.0   7.25     4.44  \n",
       "333       119.0    NaN      NaN  \n",
       "334       114.0   7.34     4.37  \n",
       "335         NaN    NaN      NaN  \n",
       "336       127.0    NaN      NaN  "
      ]
     },
     "execution_count": 53,
     "metadata": {},
     "output_type": "execute_result"
    }
   ],
   "source": [
    "# Take a peek\n",
    "cb_data.tail()"
   ]
  },
  {
   "cell_type": "markdown",
   "id": "f9d76392-0707-49fa-9163-c28736d31791",
   "metadata": {},
   "source": [
    "First thing I notice in the data is that some of the players have not taken part in each event as there are empty cells from my data (NaNs). Many of these player (especially the top athleats) do not participate in the combine as they do not need to - example above is Chase Young - in 2019/2020 he was a top recruit coming out of college so he did not take part in any events. For the purposes of this excercise I am going the exclude the data of any player that did not take part in ALL events. "
   ]
  },
  {
   "cell_type": "code",
   "execution_count": 54,
   "id": "a87aa88c-1046-4a63-8c19-6e4d49e10166",
   "metadata": {
    "tags": []
   },
   "outputs": [
    {
     "name": "stdout",
     "output_type": "stream",
     "text": [
      "No. of rows before NaNs removed:  337\n",
      "No. of rows after NaNs removed:  101\n"
     ]
    }
   ],
   "source": [
    "print (\"No. of rows before NaNs removed: \", (len(cb_data.index)))\n",
    "#clean the NaNs\n",
    "cb_data = cb_data.dropna()\n",
    "\n",
    "print (\"No. of rows after NaNs removed: \", (len(cb_data.index)))"
   ]
  },
  {
   "cell_type": "code",
   "execution_count": 55,
   "id": "46674e01-f73a-4c04-a887-2123bfccb610",
   "metadata": {},
   "outputs": [
    {
     "data": {
      "text/html": [
       "<div>\n",
       "<style scoped>\n",
       "    .dataframe tbody tr th:only-of-type {\n",
       "        vertical-align: middle;\n",
       "    }\n",
       "\n",
       "    .dataframe tbody tr th {\n",
       "        vertical-align: top;\n",
       "    }\n",
       "\n",
       "    .dataframe thead th {\n",
       "        text-align: right;\n",
       "    }\n",
       "</style>\n",
       "<table border=\"1\" class=\"dataframe\">\n",
       "  <thead>\n",
       "    <tr style=\"text-align: right;\">\n",
       "      <th></th>\n",
       "      <th>Unnamed: 0</th>\n",
       "      <th>Player</th>\n",
       "      <th>Pos</th>\n",
       "      <th>Ht</th>\n",
       "      <th>Wt</th>\n",
       "      <th>40yd</th>\n",
       "      <th>Vertical</th>\n",
       "      <th>Bench</th>\n",
       "      <th>Broad Jump</th>\n",
       "      <th>3Cone</th>\n",
       "      <th>Shuttle</th>\n",
       "    </tr>\n",
       "  </thead>\n",
       "  <tbody>\n",
       "    <tr>\n",
       "      <th>6</th>\n",
       "      <td>6</td>\n",
       "      <td>Bradlee Anae</td>\n",
       "      <td>DL</td>\n",
       "      <td>190</td>\n",
       "      <td>257</td>\n",
       "      <td>4.93</td>\n",
       "      <td>31.0</td>\n",
       "      <td>25.0</td>\n",
       "      <td>115.0</td>\n",
       "      <td>7.44</td>\n",
       "      <td>4.43</td>\n",
       "    </tr>\n",
       "    <tr>\n",
       "      <th>10</th>\n",
       "      <td>10</td>\n",
       "      <td>Grayland Arnold</td>\n",
       "      <td>CB</td>\n",
       "      <td>175</td>\n",
       "      <td>186</td>\n",
       "      <td>4.59</td>\n",
       "      <td>33.0</td>\n",
       "      <td>12.0</td>\n",
       "      <td>120.0</td>\n",
       "      <td>7.01</td>\n",
       "      <td>4.30</td>\n",
       "    </tr>\n",
       "    <tr>\n",
       "      <th>12</th>\n",
       "      <td>12</td>\n",
       "      <td>Joe Bachie</td>\n",
       "      <td>LB</td>\n",
       "      <td>185</td>\n",
       "      <td>230</td>\n",
       "      <td>4.67</td>\n",
       "      <td>33.5</td>\n",
       "      <td>26.0</td>\n",
       "      <td>119.0</td>\n",
       "      <td>6.93</td>\n",
       "      <td>4.34</td>\n",
       "    </tr>\n",
       "    <tr>\n",
       "      <th>17</th>\n",
       "      <td>17</td>\n",
       "      <td>Essang Bassey</td>\n",
       "      <td>CB</td>\n",
       "      <td>175</td>\n",
       "      <td>191</td>\n",
       "      <td>4.46</td>\n",
       "      <td>39.5</td>\n",
       "      <td>12.0</td>\n",
       "      <td>128.0</td>\n",
       "      <td>6.95</td>\n",
       "      <td>4.13</td>\n",
       "    </tr>\n",
       "    <tr>\n",
       "      <th>18</th>\n",
       "      <td>18</td>\n",
       "      <td>Zack Baun</td>\n",
       "      <td>LB</td>\n",
       "      <td>188</td>\n",
       "      <td>238</td>\n",
       "      <td>4.65</td>\n",
       "      <td>32.5</td>\n",
       "      <td>24.0</td>\n",
       "      <td>115.0</td>\n",
       "      <td>7.00</td>\n",
       "      <td>4.31</td>\n",
       "    </tr>\n",
       "  </tbody>\n",
       "</table>\n",
       "</div>"
      ],
      "text/plain": [
       "    Unnamed: 0           Player Pos   Ht   Wt  40yd  Vertical  Bench  \\\n",
       "6            6     Bradlee Anae  DL  190  257  4.93      31.0   25.0   \n",
       "10          10  Grayland Arnold  CB  175  186  4.59      33.0   12.0   \n",
       "12          12       Joe Bachie  LB  185  230  4.67      33.5   26.0   \n",
       "17          17    Essang Bassey  CB  175  191  4.46      39.5   12.0   \n",
       "18          18        Zack Baun  LB  188  238  4.65      32.5   24.0   \n",
       "\n",
       "    Broad Jump  3Cone  Shuttle  \n",
       "6        115.0   7.44     4.43  \n",
       "10       120.0   7.01     4.30  \n",
       "12       119.0   6.93     4.34  \n",
       "17       128.0   6.95     4.13  \n",
       "18       115.0   7.00     4.31  "
      ]
     },
     "execution_count": 55,
     "metadata": {},
     "output_type": "execute_result"
    }
   ],
   "source": [
    "cb_data.head()"
   ]
  },
  {
   "cell_type": "markdown",
   "id": "8e33ca77-6be0-4489-af10-4a2c734d8be5",
   "metadata": {},
   "source": [
    "### Plot the Data\n",
    "\n",
    "***"
   ]
  },
  {
   "cell_type": "markdown",
   "id": "d1671fa0-66e6-4de3-8b68-03ac6d24ecab",
   "metadata": {},
   "source": [
    "Here I am going to create a scatter plot of the data."
   ]
  },
  {
   "cell_type": "code",
   "execution_count": 68,
   "id": "6c06948a-a22d-41da-9342-ee2ddac7116c",
   "metadata": {
    "scrolled": true,
    "tags": []
   },
   "outputs": [
    {
     "data": {
      "text/plain": [
       "[115.0,\n",
       " 120.0,\n",
       " 119.0,\n",
       " 128.0,\n",
       " 115.0,\n",
       " 123.0,\n",
       " 122.0,\n",
       " 121.0,\n",
       " 108.0,\n",
       " 119.0,\n",
       " 110.0,\n",
       " 115.0,\n",
       " 124.0,\n",
       " 111.0,\n",
       " 99.0,\n",
       " 109.0,\n",
       " 124.0,\n",
       " 111.0,\n",
       " 115.0,\n",
       " 125.0,\n",
       " 117.0,\n",
       " 127.0,\n",
       " 119.0,\n",
       " 113.0,\n",
       " 114.0,\n",
       " 133.0,\n",
       " 111.0,\n",
       " 112.0,\n",
       " 110.0,\n",
       " 126.0,\n",
       " 105.0,\n",
       " 124.0,\n",
       " 116.0,\n",
       " 132.0,\n",
       " 94.0,\n",
       " 98.0,\n",
       " 124.0,\n",
       " 124.0,\n",
       " 119.0,\n",
       " 136.0,\n",
       " 121.0,\n",
       " 125.0,\n",
       " 121.0,\n",
       " 111.0,\n",
       " 106.0,\n",
       " 124.0,\n",
       " 133.0,\n",
       " 131.0,\n",
       " 109.0,\n",
       " 118.0,\n",
       " 104.0,\n",
       " 119.0,\n",
       " 124.0,\n",
       " 123.0,\n",
       " 112.0,\n",
       " 109.0,\n",
       " 132.0,\n",
       " 113.0,\n",
       " 118.0,\n",
       " 122.0,\n",
       " 114.0,\n",
       " 93.0,\n",
       " 110.0,\n",
       " 121.0,\n",
       " 119.0,\n",
       " 138.0,\n",
       " 129.0,\n",
       " 106.0,\n",
       " 119.0,\n",
       " 125.0,\n",
       " 124.0,\n",
       " 113.0,\n",
       " 107.0,\n",
       " 121.0,\n",
       " 107.0,\n",
       " 123.0,\n",
       " 113.0,\n",
       " 124.0,\n",
       " 121.0,\n",
       " 116.0,\n",
       " 127.0,\n",
       " 118.0,\n",
       " 123.0,\n",
       " 109.0,\n",
       " 97.0,\n",
       " 126.0,\n",
       " 114.0,\n",
       " 120.0,\n",
       " 133.0,\n",
       " 122.0,\n",
       " 133.0,\n",
       " 117.0,\n",
       " 102.0,\n",
       " 101.0,\n",
       " 110.0,\n",
       " 121.0,\n",
       " 111.0,\n",
       " 121.0,\n",
       " 120.0,\n",
       " 123.0,\n",
       " 114.0]"
      ]
     },
     "execution_count": 68,
     "metadata": {},
     "output_type": "execute_result"
    }
   ],
   "source": [
    "# Create x and y data from data frame\n",
    "x = cb_data['Wt'].tolist()\n",
    "y = cb_data['Broad Jump'].tolist()\n",
    "y"
   ]
  },
  {
   "cell_type": "code",
   "execution_count": 57,
   "id": "bb82bd48-f1ec-44ef-abbc-08c81a541647",
   "metadata": {},
   "outputs": [
    {
     "data": {
      "text/plain": [
       "Text(0, 0.5, 'Jump Height (cm)')"
      ]
     },
     "execution_count": 57,
     "metadata": {},
     "output_type": "execute_result"
    },
    {
     "data": {
      "image/png": "[encoded data removed]",
      "text/plain": [
       "<Figure size 432x288 with 1 Axes>"
      ]
     },
     "metadata": {
      "needs_background": "light"
     },
     "output_type": "display_data"
    }
   ],
   "source": [
    "# Scatter plot\n",
    "plt.scatter(x,y)\n",
    "plt.xlabel('Weight (lbs)')\n",
    "plt.ylabel(\"Jump Height (cm)\")"
   ]
  },
  {
   "cell_type": "markdown",
   "id": "b3367276-7ca9-4212-89d3-890f51f2c861",
   "metadata": {},
   "source": [
    "So here I can see that the data points are indicating a negative rekationship between these two variables as the data points are on a downward trajectory from the top left to the bottom right of the plot.\n",
    "\n",
    "Below I will use the linregress tool in scipy to get the pvalue of the data[[2]]('https://docs.scipy.org/doc/scipy/reference/generated/scipy.stats.linregress.html'). This is to prove that the values of a players weight (x) is directly related to the players broadjump.  \n",
    "The linregress function in the scipy.stats module is a convenient tool for performing linear regression analysis on a set of data points, it calculates several important parameters of the linear regression model, including the slope, intercept, correlation coefficient (r-value), p-value, and standard error."
   ]
  },
  {
   "cell_type": "code",
   "execution_count": 83,
   "id": "2d2911b2-c1cd-418c-b531-2f4b4b6c9b54",
   "metadata": {},
   "outputs": [
    {
     "name": "stdout",
     "output_type": "stream",
     "text": [
      "LinregressResult(slope=-0.15541706775150319, intercept=156.36316548846753, rvalue=-0.7532944104659515, pvalue=1.0151183028305032e-19, stderr=0.013637453646258672, intercept_stderr=3.463785907596083)\n"
     ]
    }
   ],
   "source": [
    "res = ss.linregress(x, y)\n",
    "print (res)"
   ]
  },
  {
   "cell_type": "markdown",
   "id": "41c5e3a5-a6de-42a8-ab2b-3b3c5695851c",
   "metadata": {},
   "source": [
    "After performing the linear regression analysis, the linregress function returns a LinregressResult object, which contains several statistical values that describe the linear regression model. Here I will go through some of the results we will use in our model. \n",
    "\n",
    "**pvalue:** This is the p-value associated with the null hypothesis that there is no significant linear relationship between the variables x and y. A small p-value (usually less than 0.05) indicates that the linear relationship is statistically significant. In the output, the pvalue is approximately 1.0151e-19, which is extremely small (almost 0) and suggests a highly significant linear relationship.(This is not actually used in the model but the miniscule score gives creedence to generating a model.)\n",
    "\n",
    "**slope:** This is the slope of the linear regression line, which represents the change in the dependent variable (y) for a unit change in the independent variable (x). In the output, the slope is approximately -0.1554.\n",
    "\n",
    "**intercept:** This is the intercept of the linear regression line, which is the value of the dependent variable (y) when the independent variable (x) is zero. In the output, the intercept is approximately 156.3632.\n",
    "\n",
    "Now using the results above I will create a the preditive data to fit the line."
   ]
  },
  {
   "cell_type": "code",
   "execution_count": 91,
   "id": "7bc49153-9197-499f-ba24-2094d8887572",
   "metadata": {},
   "outputs": [
    {
     "data": {
      "text/plain": [
       "[<matplotlib.lines.Line2D at 0x1d5abd22580>]"
      ]
     },
     "execution_count": 91,
     "metadata": {},
     "output_type": "execute_result"
    },
    {
     "data": {
      "image/png": "[encoded data removed]",
      "text/plain": [
       "<Figure size 864x432 with 1 Axes>"
      ]
     },
     "metadata": {
      "needs_background": "light"
     },
     "output_type": "display_data"
    }
   ],
   "source": [
    "# Creating predictive data\n",
    "y_pred = res.intercept + res.slope * np.array(x)\n",
    "\n",
    "# Create a plot\n",
    "fig, ax = plt.subplots(figsize = (12,6))\n",
    "\n",
    "# PLot x and y\n",
    "ax.plot(x,y, 'k.')\n",
    "\n",
    "# PLot x and predictive data(y_pred) on x\n",
    "ax.plot(x, y_pred)\n",
    "\n",
    "# x and y axis labels\n",
    "plt.xlabel('Weight (lbs)')\n",
    "plt.ylabel(\"Jump Height (cm)\")\n",
    "\n",
    "ax.plot(x,y_pred)"
   ]
  },
  {
   "cell_type": "code",
   "execution_count": null,
   "id": "33c8d112-a26f-4d79-9feb-acf63310a6cd",
   "metadata": {},
   "outputs": [],
   "source": []
  },
  {
   "cell_type": "markdown",
   "id": "a59e1044-0dc7-44a3-8587-4a6516d31253",
   "metadata": {},
   "source": [
    "### Linear Regression using the polyfit function\n",
    "Below I will do the same thing, except this time instead of creating a formula to fit the line, I will ask they polyfit function in the scipy library to do this for me. "
   ]
  },
  {
   "cell_type": "code",
   "execution_count": 92,
   "id": "4642e1e2-38e7-44e2-9be5-f5d6f519fe55",
   "metadata": {},
   "outputs": [
    {
     "data": {
      "text/plain": [
       "array([-1.55417068e-01,  1.56363165e+02])"
      ]
     },
     "execution_count": 92,
     "metadata": {},
     "output_type": "execute_result"
    }
   ],
   "source": [
    "# To use the polyfit function the data needs to be in numpy arrays\n",
    "x = np.asarray(x)\n",
    "y = np.asarray(y)\n",
    "\n",
    "# use x and y to find original parameters used to create data\n",
    "params = np.polyfit(x, y, 1)\n",
    "params"
   ]
  },
  {
   "cell_type": "markdown",
   "id": "ff7dfd94-5e7b-48f4-9f5f-d29690e94946",
   "metadata": {},
   "source": [
    "The first value -1.55417068e-01 is the slope of the linear regression line. This value indicates the rate of change of the dependent variable (y) with respect to a unit change in the independent variable (x). In this case, as expected since we saw this above, the negative value suggests a negative correlation between x and y, meaning that as x increases, y tends to decrease.\n",
    "\n",
    "The second value 1.56363165e+02 is the intercept of the linear regression line. It represents the value of the dependent variable (y) when the independent variable (x) is zero. In this case, it suggests that when x is zero, the predicted value of y is approximately 156.36.\n",
    "\n",
    "The e notation in the values represents scientific notation. For example, -1.55417068e-01 is equivalent to -0.155417068, and 1.56363165e+02 is equivalent to 156.363165.  \n",
    "You will notice these values are almost identical to the values returned to me when I ran the linregress function in the previous section.\n",
    "\n",
    "In summary, the params array provided represents the coefficients of the linear regression line that best fits the data points (x, y). The linear equation that describes this relationship is approximately:\n",
    "y=−0.1554⋅x+156.363\n",
    "This equation can be used to make predictions based on the given data and the fitted linear model."
   ]
  },
  {
   "cell_type": "code",
   "execution_count": 89,
   "id": "6e403a5d-1cfd-416f-9d26-cc67ca1c03b9",
   "metadata": {},
   "outputs": [
    {
     "data": {
      "text/plain": [
       "[<matplotlib.lines.Line2D at 0x1d5a96eba30>]"
      ]
     },
     "execution_count": 89,
     "metadata": {},
     "output_type": "execute_result"
    },
    {
     "data": {
      "image/png": "[encoded data removed]",
      "text/plain": [
       "<Figure size 864x432 with 1 Axes>"
      ]
     },
     "metadata": {
      "needs_background": "light"
     },
     "output_type": "display_data"
    }
   ],
   "source": [
    " # Create a plot\n",
    "fig, ax = plt.subplots(figsize = (12,6))\n",
    "\n",
    "# PLot x and y\n",
    "ax.plot(x,y, 'k.')\n",
    "\n",
    "# PLot x and params on x\n",
    "ax.plot(x, params[0] * x + params[1], 'r-')"
   ]
  },
  {
   "cell_type": "code",
   "execution_count": 87,
   "id": "bcc143c9-4172-47a6-ad19-8f80b20029c8",
   "metadata": {},
   "outputs": [
    {
     "data": {
      "text/plain": [
       "[<matplotlib.lines.Line2D at 0x1d5abce54f0>]"
      ]
     },
     "execution_count": 87,
     "metadata": {},
     "output_type": "execute_result"
    },
    {
     "data": {
      "image/png": "[encoded data removed]",
      "text/plain": [
       "<Figure size 864x432 with 1 Axes>"
      ]
     },
     "metadata": {
      "needs_background": "light"
     },
     "output_type": "display_data"
    }
   ],
   "source": [
    "# Degrees of freedom\n",
    "deg = 3\n",
    "\n",
    "# Use x and y to try to find the original parameters\n",
    "params = np.polyfit(x, y, deg)\n",
    "\n",
    "# Create a plot\n",
    "fig, ax = plt.subplots(figsize = (12,6))\n",
    "\n",
    "#plot x and y\n",
    "ax.plot(x, y, 'k.')\n",
    "\n",
    "# PLot x and params on x\n",
    "ax.plot(x, np.polyval(params, x), 'b-')"
   ]
  },
  {
   "cell_type": "code",
   "execution_count": null,
   "id": "f8aeb485-3e0b-4c2f-af6c-03be5a804f6a",
   "metadata": {},
   "outputs": [],
   "source": []
  },
  {
   "cell_type": "code",
   "execution_count": null,
   "id": "eabe473b-6004-4d92-9c71-9b944c38dbd6",
   "metadata": {},
   "outputs": [],
   "source": []
  }
 ],
 "metadata": {
  "kernelspec": {
   "display_name": "Python 3 (ipykernel)",
   "language": "python",
   "name": "python3"
  },
  "language_info": {
   "codemirror_mode": {
    "name": "ipython",
    "version": 3
   },
   "file_extension": ".py",
   "mimetype": "text/x-python",
   "name": "python",
   "nbconvert_exporter": "python",
   "pygments_lexer": "ipython3",
   "version": "3.9.12"
  }
 },
 "nbformat": 4,
 "nbformat_minor": 5
}
