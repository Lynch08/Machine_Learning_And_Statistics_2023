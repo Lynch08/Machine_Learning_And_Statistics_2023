{
 "cells": [
  {
   "cell_type": "markdown",
   "id": "717d24c2-3097-40df-884c-642efbf20478",
   "metadata": {
    "tags": []
   },
   "source": [
    "### Linear Regression"
   ]
  },
  {
   "cell_type": "markdown",
   "id": "059cc42a-2f70-497f-95ef-c43ff007dd7a",
   "metadata": {},
   "source": [
    "### Introduction\n",
    "\n",
    "Simple linear regression serves as a tool to gauge the connection between two quantitative variables. This technique comes into play when you wish to uncover:\n",
    "\n",
    "**Strength of Relationship:** It reveals the intensity of the link between two variables, like how rainfall relates to soil erosion.\n",
    "\n",
    "**Dependent Variable Value Estimation:** If you're keen on determining the amount of soil erosion at a specific rainfall level, simple linear regression can provide an answer.\n",
    "\n",
    "These regression models explain the interplay between variables by fitting a line to observed data. Linear regression opts for a straight line, while other forms like logistic and nonlinear regression employ curved lines. Essentially, regression empowers you to gauge the way a dependent variable changes in response to shifts in independent variable(s).\n",
    "\n",
    "\n",
    "\n"
   ]
  },
  {
   "cell_type": "markdown",
   "id": "5fa89ed8-3ebf-45d4-bddb-f9ae1bca30ea",
   "metadata": {},
   "source": [
    "##### Assumptions of Simple Linear Regression\n",
    "\n",
    "The foundation of simple linear regression lies on a few assumptions. These include:\n",
    "\n",
    "**Homogeneity of Variance (Homoscedasticity):** The prediction error's size remains relatively constant across different independent variable values.\n",
    "\n",
    "**Independence of Observations:** The dataset's observations are collected using statistically valid methods, devoid of concealed relationships among them.\n",
    "\n",
    "**Normality:** The data conforms to a normal distribution.\n",
    "\n",
    "In addition, one more assumption is pivotal:\n",
    "\n",
    "**Linearity of Relationship:** The connection between the independent and dependent variables adheres to a linear pattern, manifesting as a straight line among data points rather than a curve or a grouping pattern.\n",
    "Should your data fail to meet the criteria of homoscedasticity or normality, a nonparametric test such as the Spearman rank test could serve as a suitable alternative. Furthermore, if your data contradicts the assumption of independent observations (say, due to repeated observations over time), a linear mixed-effects model might be a feasible approach, accounting for the extra structure within the data."
   ]
  },
  {
   "cell_type": "markdown",
   "id": "53f62519-18b6-4fb4-a499-0236e6dd72a4",
   "metadata": {},
   "source": [
    "##### Conducting a Simple Linear Regression\n",
    "\n",
    "Here's a snapshot of the process:\n",
    "\n",
    "**The Formula:** The formula for simple linear regression stands as follows:\n",
    "\n",
    "y = β0 + β1X + ε\n",
    "\n",
    " - y represents the predicted dependent variable value (y) for any given independent variable value (x).\n",
    " - β0 signifies the intercept – the forecasted y value when x equals 0.\n",
    " - β1 indicates the regression coefficient, indicating how y changes as x increases.\n",
    " - x stands as the independent variable, exerting its influence on y.\n",
    " - ε denotes the estimation error, revealing the extent of variation in the regression coefficient estimate.\n",
    "Finding the Best-Fit Line: Linear regression seeks the best-fit line by determining the regression coefficient (β1) that minimizes the overall model error (ε).\n",
    "\n",
    "Although manual execution of linear regression is doable, it tends to be an extremly boring and labour intensive task. Most individuals leverage statistical software such as the python packages sckit-learn or scipy to efficiently analyze their data.[[1]](https://www.scribbr.com/statistics/simple-linear-regression/)"
   ]
  },
  {
   "cell_type": "code",
   "execution_count": null,
   "id": "a8e659ef-c3ab-42b3-a3d7-aed4f598a84b",
   "metadata": {},
   "outputs": [],
   "source": []
  },
  {
   "cell_type": "code",
   "execution_count": null,
   "id": "c5c01c50-a02d-4510-b3c3-27ba5498787e",
   "metadata": {},
   "outputs": [],
   "source": []
  },
  {
   "cell_type": "code",
   "execution_count": null,
   "id": "92aed855-1cb0-4dcd-8162-fc15cb3e2f6f",
   "metadata": {},
   "outputs": [],
   "source": []
  },
  {
   "cell_type": "code",
   "execution_count": null,
   "id": "d69fe19a-ec91-4866-ba04-ed281ed7964a",
   "metadata": {},
   "outputs": [],
   "source": []
  },
  {
   "cell_type": "code",
   "execution_count": null,
   "id": "bba428b0-780a-4d38-82f8-1cf668a69180",
   "metadata": {},
   "outputs": [],
   "source": []
  },
  {
   "cell_type": "code",
   "execution_count": null,
   "id": "f38b17b2-55e2-4d61-a024-df687d3050ee",
   "metadata": {},
   "outputs": [],
   "source": []
  },
  {
   "cell_type": "markdown",
   "id": "d8f63372-f228-462b-b52d-2b7332fbf4da",
   "metadata": {},
   "source": [
    "1. https://www.scribbr.com/statistics/simple-linear-regression/"
   ]
  }
 ],
 "metadata": {
  "kernelspec": {
   "display_name": "Python 3 (ipykernel)",
   "language": "python",
   "name": "python3"
  },
  "language_info": {
   "codemirror_mode": {
    "name": "ipython",
    "version": 3
   },
   "file_extension": ".py",
   "mimetype": "text/x-python",
   "name": "python",
   "nbconvert_exporter": "python",
   "pygments_lexer": "ipython3",
   "version": "3.9.12"
  }
 },
 "nbformat": 4,
 "nbformat_minor": 5
}
