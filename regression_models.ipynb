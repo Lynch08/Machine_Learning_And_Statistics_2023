{
 "cells": [
  {
   "cell_type": "markdown",
   "id": "717d24c2-3097-40df-884c-642efbf20478",
   "metadata": {
    "tags": []
   },
   "source": [
    "### Linear Regression"
   ]
  },
  {
   "cell_type": "markdown",
   "id": "059cc42a-2f70-497f-95ef-c43ff007dd7a",
   "metadata": {},
   "source": [
    "### Introduction\n",
    "\n",
    "Simple linear regression serves as a tool to gauge the connection between two quantitative variables. This technique comes into play when you wish to uncover:\n",
    "\n",
    "**Strength of Relationship:** It reveals the intensity of the link between two variables, like how rainfall relates to soil erosion.\n",
    "\n",
    "**Dependent Variable Value Estimation:** If you're keen on determining the amount of soil erosion at a specific rainfall level, simple linear regression can provide an answer.\n",
    "\n",
    "These regression models explain the interplay between variables by fitting a line to observed data. Linear regression opts for a straight line, while other forms like logistic and nonlinear regression employ curved lines. Essentially, regression empowers you to gauge the way a dependent variable changes in response to shifts in independent variable(s).\n",
    "\n",
    "\n",
    "\n"
   ]
  },
  {
   "cell_type": "markdown",
   "id": "5fa89ed8-3ebf-45d4-bddb-f9ae1bca30ea",
   "metadata": {},
   "source": [
    "##### Assumptions of Simple Linear Regression\n",
    "\n",
    "***\n",
    "\n",
    "The foundation of simple linear regression lies on a few assumptions. These include:\n",
    "\n",
    "**Homogeneity of Variance (Homoscedasticity):** The prediction error's size remains relatively constant across different independent variable values.\n",
    "\n",
    "**Independence of Observations:** The dataset's observations are collected using statistically valid methods, devoid of concealed relationships among them.\n",
    "\n",
    "**Normality:** The data conforms to a normal distribution.\n",
    "\n",
    "**Linearity of Relationship:** The connection between the independent and dependent variables adheres to a linear pattern, manifesting as a straight line among data points rather than a curve or a grouping pattern.\n",
    "Should the data fail to meet the criteria of homoscedasticity or normality, a nonparametric test such as the Spearman rank test could serve as a suitable alternative. Furthermore, if the data contradicts the assumption of independent observations (say, due to repeated observations over time), a linear mixed-effects model might be a better approach, accounting for the extra structure within the data."
   ]
  },
  {
   "cell_type": "markdown",
   "id": "53f62519-18b6-4fb4-a499-0236e6dd72a4",
   "metadata": {},
   "source": [
    "##### Conducting a Simple Linear Regression\n",
    "\n",
    "Here's a snapshot of the process:\n",
    "\n",
    "**The Formula:** The formula for simple linear regression stands as follows:\n",
    "\n",
    "y = β0 + β1X + ε\n",
    "\n",
    " - y represents the predicted dependent variable value (y) for any given independent variable value (x).\n",
    " - β0 signifies the intercept – the forecasted y value when x equals 0.\n",
    " - β1 indicates the regression coefficient, indicating how y changes as x increases.\n",
    " - x stands as the independent variable, exerting its influence on y.\n",
    " - ε denotes the estimation error, revealing the extent of variation in the regression coefficient estimate.\n",
    "Finding the Best-Fit Line: Linear regression seeks the best-fit line by determining the regression coefficient (β1) that minimizes the overall model error (ε).\n",
    "\n",
    "Although manual execution of linear regression is doable, it tends to be an extremly boring and labour intensive task. Most individuals leverage statistical software such as the python packages sckit-learn or scipy to efficiently analyze their data.[[1]](https://www.scribbr.com/statistics/simple-linear-regression/)"
   ]
  },
  {
   "cell_type": "markdown",
   "id": "8b3627f5-c719-4240-9c51-9a1335fd722f",
   "metadata": {},
   "source": [
    "### How Weight can Predict the Broad Jump of players in the NFL combine"
   ]
  },
  {
   "cell_type": "markdown",
   "id": "33f2a797-ebbc-4cda-a758-bfb024651902",
   "metadata": {},
   "source": [
    "In this section I am going to use linear regression on a csv file downloaded from kaggle[[1]]('https://www.kaggle.com/datasets/mrframm/nfl-2020-combine') that contains the data of the players that were invited to the 2020 NFL combine. I have tried doing regression models on NFL data before, however I never really got very far as there are so many variables that pridicting anything is a bit of a nightmare and it gets extremly complex very quickly. However for the purposes of this notebook and demonstration of simple regression I am going to clean a dataframe and simply determine if we can predict the Broad jump of a player based on his weight. (Broad jump is just another term for long jump...Americans)"
   ]
  },
  {
   "cell_type": "code",
   "execution_count": 18,
   "id": "9c26c96b-bb9a-4011-bf22-9d30d7b355c8",
   "metadata": {},
   "outputs": [],
   "source": [
    "# Import Pandas\n",
    "import pandas as pd\n",
    "\n",
    "# Plotting\n",
    "import matplotlib.pyplot as plt\n",
    "\n",
    "# Statistical arrays\n",
    "import numpy as np\n",
    "\n",
    "#Statistical tools\n",
    "import scipy.stats as ss\n",
    "\n",
    "# Optimization\n",
    "import scipy.optimize as so"
   ]
  },
  {
   "cell_type": "code",
   "execution_count": 19,
   "id": "416123d1-3c1a-45c0-8abc-11aafa6a02b7",
   "metadata": {},
   "outputs": [],
   "source": [
    "# Read in the data\n",
    "cb_data = pd.read_csv(\"./Data/NFL_Combine_2020.csv\")"
   ]
  },
  {
   "cell_type": "code",
   "execution_count": 20,
   "id": "9bdf2501-3055-4a34-bad3-939c9a392cb0",
   "metadata": {},
   "outputs": [
    {
     "data": {
      "text/html": [
       "<div>\n",
       "<style scoped>\n",
       "    .dataframe tbody tr th:only-of-type {\n",
       "        vertical-align: middle;\n",
       "    }\n",
       "\n",
       "    .dataframe tbody tr th {\n",
       "        vertical-align: top;\n",
       "    }\n",
       "\n",
       "    .dataframe thead th {\n",
       "        text-align: right;\n",
       "    }\n",
       "</style>\n",
       "<table border=\"1\" class=\"dataframe\">\n",
       "  <thead>\n",
       "    <tr style=\"text-align: right;\">\n",
       "      <th></th>\n",
       "      <th>Unnamed: 0</th>\n",
       "      <th>Player</th>\n",
       "      <th>Pos</th>\n",
       "      <th>Ht</th>\n",
       "      <th>Wt</th>\n",
       "      <th>40yd</th>\n",
       "      <th>Vertical</th>\n",
       "      <th>Bench</th>\n",
       "      <th>Broad Jump</th>\n",
       "      <th>3Cone</th>\n",
       "      <th>Shuttle</th>\n",
       "    </tr>\n",
       "  </thead>\n",
       "  <tbody>\n",
       "    <tr>\n",
       "      <th>332</th>\n",
       "      <td>332</td>\n",
       "      <td>D.J. Wonnum</td>\n",
       "      <td>DL</td>\n",
       "      <td>195</td>\n",
       "      <td>258</td>\n",
       "      <td>4.73</td>\n",
       "      <td>34.5</td>\n",
       "      <td>20.0</td>\n",
       "      <td>123.0</td>\n",
       "      <td>7.25</td>\n",
       "      <td>4.44</td>\n",
       "    </tr>\n",
       "    <tr>\n",
       "      <th>333</th>\n",
       "      <td>333</td>\n",
       "      <td>Dom Wood-Anderson</td>\n",
       "      <td>TE</td>\n",
       "      <td>193</td>\n",
       "      <td>261</td>\n",
       "      <td>4.92</td>\n",
       "      <td>35.0</td>\n",
       "      <td>NaN</td>\n",
       "      <td>119.0</td>\n",
       "      <td>NaN</td>\n",
       "      <td>NaN</td>\n",
       "    </tr>\n",
       "    <tr>\n",
       "      <th>334</th>\n",
       "      <td>334</td>\n",
       "      <td>David Woodward</td>\n",
       "      <td>LB</td>\n",
       "      <td>188</td>\n",
       "      <td>230</td>\n",
       "      <td>4.79</td>\n",
       "      <td>33.5</td>\n",
       "      <td>16.0</td>\n",
       "      <td>114.0</td>\n",
       "      <td>7.34</td>\n",
       "      <td>4.37</td>\n",
       "    </tr>\n",
       "    <tr>\n",
       "      <th>335</th>\n",
       "      <td>335</td>\n",
       "      <td>Chase Young</td>\n",
       "      <td>DL</td>\n",
       "      <td>195</td>\n",
       "      <td>264</td>\n",
       "      <td>NaN</td>\n",
       "      <td>NaN</td>\n",
       "      <td>NaN</td>\n",
       "      <td>NaN</td>\n",
       "      <td>NaN</td>\n",
       "      <td>NaN</td>\n",
       "    </tr>\n",
       "    <tr>\n",
       "      <th>336</th>\n",
       "      <td>336</td>\n",
       "      <td>Jabari Zuniga</td>\n",
       "      <td>DL</td>\n",
       "      <td>190</td>\n",
       "      <td>264</td>\n",
       "      <td>4.64</td>\n",
       "      <td>33.0</td>\n",
       "      <td>29.0</td>\n",
       "      <td>127.0</td>\n",
       "      <td>NaN</td>\n",
       "      <td>NaN</td>\n",
       "    </tr>\n",
       "  </tbody>\n",
       "</table>\n",
       "</div>"
      ],
      "text/plain": [
       "     Unnamed: 0             Player Pos   Ht   Wt  40yd  Vertical  Bench  \\\n",
       "332         332        D.J. Wonnum  DL  195  258  4.73      34.5   20.0   \n",
       "333         333  Dom Wood-Anderson  TE  193  261  4.92      35.0    NaN   \n",
       "334         334     David Woodward  LB  188  230  4.79      33.5   16.0   \n",
       "335         335        Chase Young  DL  195  264   NaN       NaN    NaN   \n",
       "336         336      Jabari Zuniga  DL  190  264  4.64      33.0   29.0   \n",
       "\n",
       "     Broad Jump  3Cone  Shuttle  \n",
       "332       123.0   7.25     4.44  \n",
       "333       119.0    NaN      NaN  \n",
       "334       114.0   7.34     4.37  \n",
       "335         NaN    NaN      NaN  \n",
       "336       127.0    NaN      NaN  "
      ]
     },
     "execution_count": 20,
     "metadata": {},
     "output_type": "execute_result"
    }
   ],
   "source": [
    "# Take a peek\n",
    "cb_data.tail()"
   ]
  },
  {
   "cell_type": "markdown",
   "id": "0d3cf26f-213d-4a04-8d29-e3b35a05b179",
   "metadata": {},
   "source": [
    "First thing I notice in the data is that some of the players have not taken part in each event as there are empty cells from my data (NaNs). Many of these player (especially the top athletes) do not participate in the combine as they do not need to - example above is Chase Young - in 2019/2020 he was a top recruit coming out of college so he did not take part in any events. For the purposes of this excercise I am going the exclude the data of any player that did not take part in the broad jump events. "
   ]
  },
  {
   "cell_type": "code",
   "execution_count": 4,
   "id": "634df81b-bd72-4187-8346-75aebbc750e7",
   "metadata": {},
   "outputs": [
    {
     "name": "stdout",
     "output_type": "stream",
     "text": [
      "No. of rows before NaNs removed:  337\n",
      "No. of rows after NaNs removed:  239\n"
     ]
    }
   ],
   "source": [
    "# Get original row count\n",
    "print(\"No. of rows before NaNs removed: \", len(cb_data.index))\n",
    "\n",
    "# Drop rows containing NaNs in 'Wt' or 'Broad Jump' columns\n",
    "cb_data = cb_data.dropna(subset=['Wt', 'Broad Jump'])\n",
    "\n",
    "# Get Row Count of players after cleaning\n",
    "print(\"No. of rows after NaNs removed: \", len(cb_data.index))"
   ]
  },
  {
   "cell_type": "markdown",
   "id": "7cb10d67-2d25-4c9e-949e-28146f45a49f",
   "metadata": {},
   "source": [
    "Above I have removed the 98 players from the dataframe that did not have the neccessary data recorded for the investigation. "
   ]
  },
  {
   "cell_type": "code",
   "execution_count": 5,
   "id": "46674e01-f73a-4c04-a887-2123bfccb610",
   "metadata": {},
   "outputs": [
    {
     "data": {
      "text/html": [
       "<div>\n",
       "<style scoped>\n",
       "    .dataframe tbody tr th:only-of-type {\n",
       "        vertical-align: middle;\n",
       "    }\n",
       "\n",
       "    .dataframe tbody tr th {\n",
       "        vertical-align: top;\n",
       "    }\n",
       "\n",
       "    .dataframe thead th {\n",
       "        text-align: right;\n",
       "    }\n",
       "</style>\n",
       "<table border=\"1\" class=\"dataframe\">\n",
       "  <thead>\n",
       "    <tr style=\"text-align: right;\">\n",
       "      <th></th>\n",
       "      <th>Unnamed: 0</th>\n",
       "      <th>Player</th>\n",
       "      <th>Pos</th>\n",
       "      <th>Ht</th>\n",
       "      <th>Wt</th>\n",
       "      <th>40yd</th>\n",
       "      <th>Vertical</th>\n",
       "      <th>Bench</th>\n",
       "      <th>Broad Jump</th>\n",
       "      <th>3Cone</th>\n",
       "      <th>Shuttle</th>\n",
       "    </tr>\n",
       "  </thead>\n",
       "  <tbody>\n",
       "    <tr>\n",
       "      <th>0</th>\n",
       "      <td>0</td>\n",
       "      <td>Trey Adams</td>\n",
       "      <td>OL</td>\n",
       "      <td>203</td>\n",
       "      <td>318</td>\n",
       "      <td>5.60</td>\n",
       "      <td>24.5</td>\n",
       "      <td>NaN</td>\n",
       "      <td>92.0</td>\n",
       "      <td>NaN</td>\n",
       "      <td>NaN</td>\n",
       "    </tr>\n",
       "    <tr>\n",
       "      <th>1</th>\n",
       "      <td>1</td>\n",
       "      <td>Hakeem Adeniji</td>\n",
       "      <td>OL</td>\n",
       "      <td>193</td>\n",
       "      <td>302</td>\n",
       "      <td>5.17</td>\n",
       "      <td>34.0</td>\n",
       "      <td>26.0</td>\n",
       "      <td>115.0</td>\n",
       "      <td>NaN</td>\n",
       "      <td>NaN</td>\n",
       "    </tr>\n",
       "    <tr>\n",
       "      <th>3</th>\n",
       "      <td>3</td>\n",
       "      <td>Salvon Ahmed</td>\n",
       "      <td>RB</td>\n",
       "      <td>180</td>\n",
       "      <td>197</td>\n",
       "      <td>4.62</td>\n",
       "      <td>34.5</td>\n",
       "      <td>NaN</td>\n",
       "      <td>120.0</td>\n",
       "      <td>NaN</td>\n",
       "      <td>NaN</td>\n",
       "    </tr>\n",
       "    <tr>\n",
       "      <th>4</th>\n",
       "      <td>4</td>\n",
       "      <td>Brandon Aiyuk</td>\n",
       "      <td>WR</td>\n",
       "      <td>183</td>\n",
       "      <td>205</td>\n",
       "      <td>4.50</td>\n",
       "      <td>40.0</td>\n",
       "      <td>11.0</td>\n",
       "      <td>128.0</td>\n",
       "      <td>NaN</td>\n",
       "      <td>NaN</td>\n",
       "    </tr>\n",
       "    <tr>\n",
       "      <th>5</th>\n",
       "      <td>5</td>\n",
       "      <td>Cam Akers</td>\n",
       "      <td>RB</td>\n",
       "      <td>178</td>\n",
       "      <td>217</td>\n",
       "      <td>4.47</td>\n",
       "      <td>35.5</td>\n",
       "      <td>20.0</td>\n",
       "      <td>122.0</td>\n",
       "      <td>NaN</td>\n",
       "      <td>4.42</td>\n",
       "    </tr>\n",
       "    <tr>\n",
       "      <th>...</th>\n",
       "      <td>...</td>\n",
       "      <td>...</td>\n",
       "      <td>...</td>\n",
       "      <td>...</td>\n",
       "      <td>...</td>\n",
       "      <td>...</td>\n",
       "      <td>...</td>\n",
       "      <td>...</td>\n",
       "      <td>...</td>\n",
       "      <td>...</td>\n",
       "      <td>...</td>\n",
       "    </tr>\n",
       "    <tr>\n",
       "      <th>331</th>\n",
       "      <td>331</td>\n",
       "      <td>Charlie Woerner</td>\n",
       "      <td>TE</td>\n",
       "      <td>195</td>\n",
       "      <td>244</td>\n",
       "      <td>4.78</td>\n",
       "      <td>34.5</td>\n",
       "      <td>21.0</td>\n",
       "      <td>120.0</td>\n",
       "      <td>7.18</td>\n",
       "      <td>4.46</td>\n",
       "    </tr>\n",
       "    <tr>\n",
       "      <th>332</th>\n",
       "      <td>332</td>\n",
       "      <td>D.J. Wonnum</td>\n",
       "      <td>DL</td>\n",
       "      <td>195</td>\n",
       "      <td>258</td>\n",
       "      <td>4.73</td>\n",
       "      <td>34.5</td>\n",
       "      <td>20.0</td>\n",
       "      <td>123.0</td>\n",
       "      <td>7.25</td>\n",
       "      <td>4.44</td>\n",
       "    </tr>\n",
       "    <tr>\n",
       "      <th>333</th>\n",
       "      <td>333</td>\n",
       "      <td>Dom Wood-Anderson</td>\n",
       "      <td>TE</td>\n",
       "      <td>193</td>\n",
       "      <td>261</td>\n",
       "      <td>4.92</td>\n",
       "      <td>35.0</td>\n",
       "      <td>NaN</td>\n",
       "      <td>119.0</td>\n",
       "      <td>NaN</td>\n",
       "      <td>NaN</td>\n",
       "    </tr>\n",
       "    <tr>\n",
       "      <th>334</th>\n",
       "      <td>334</td>\n",
       "      <td>David Woodward</td>\n",
       "      <td>LB</td>\n",
       "      <td>188</td>\n",
       "      <td>230</td>\n",
       "      <td>4.79</td>\n",
       "      <td>33.5</td>\n",
       "      <td>16.0</td>\n",
       "      <td>114.0</td>\n",
       "      <td>7.34</td>\n",
       "      <td>4.37</td>\n",
       "    </tr>\n",
       "    <tr>\n",
       "      <th>336</th>\n",
       "      <td>336</td>\n",
       "      <td>Jabari Zuniga</td>\n",
       "      <td>DL</td>\n",
       "      <td>190</td>\n",
       "      <td>264</td>\n",
       "      <td>4.64</td>\n",
       "      <td>33.0</td>\n",
       "      <td>29.0</td>\n",
       "      <td>127.0</td>\n",
       "      <td>NaN</td>\n",
       "      <td>NaN</td>\n",
       "    </tr>\n",
       "  </tbody>\n",
       "</table>\n",
       "<p>239 rows × 11 columns</p>\n",
       "</div>"
      ],
      "text/plain": [
       "     Unnamed: 0             Player Pos   Ht   Wt  40yd  Vertical  Bench  \\\n",
       "0             0         Trey Adams  OL  203  318  5.60      24.5    NaN   \n",
       "1             1     Hakeem Adeniji  OL  193  302  5.17      34.0   26.0   \n",
       "3             3       Salvon Ahmed  RB  180  197  4.62      34.5    NaN   \n",
       "4             4      Brandon Aiyuk  WR  183  205  4.50      40.0   11.0   \n",
       "5             5          Cam Akers  RB  178  217  4.47      35.5   20.0   \n",
       "..          ...                ...  ..  ...  ...   ...       ...    ...   \n",
       "331         331    Charlie Woerner  TE  195  244  4.78      34.5   21.0   \n",
       "332         332        D.J. Wonnum  DL  195  258  4.73      34.5   20.0   \n",
       "333         333  Dom Wood-Anderson  TE  193  261  4.92      35.0    NaN   \n",
       "334         334     David Woodward  LB  188  230  4.79      33.5   16.0   \n",
       "336         336      Jabari Zuniga  DL  190  264  4.64      33.0   29.0   \n",
       "\n",
       "     Broad Jump  3Cone  Shuttle  \n",
       "0          92.0    NaN      NaN  \n",
       "1         115.0    NaN      NaN  \n",
       "3         120.0    NaN      NaN  \n",
       "4         128.0    NaN      NaN  \n",
       "5         122.0    NaN     4.42  \n",
       "..          ...    ...      ...  \n",
       "331       120.0   7.18     4.46  \n",
       "332       123.0   7.25     4.44  \n",
       "333       119.0    NaN      NaN  \n",
       "334       114.0   7.34     4.37  \n",
       "336       127.0    NaN      NaN  \n",
       "\n",
       "[239 rows x 11 columns]"
      ]
     },
     "execution_count": 5,
     "metadata": {},
     "output_type": "execute_result"
    }
   ],
   "source": [
    "#Look at a sample\n",
    "cb_data"
   ]
  },
  {
   "cell_type": "markdown",
   "id": "f946821a-8438-444b-987b-59417eccdb49",
   "metadata": {},
   "source": [
    "### Plot the Data\n",
    "\n",
    "***"
   ]
  },
  {
   "cell_type": "markdown",
   "id": "809f92a4-aabc-4a38-8abd-443d1b35d8d1",
   "metadata": {},
   "source": [
    "Here I am going to create a scatter plot of the data."
   ]
  },
  {
   "cell_type": "code",
   "execution_count": 6,
   "id": "6c06948a-a22d-41da-9342-ee2ddac7116c",
   "metadata": {
    "scrolled": true,
    "tags": []
   },
   "outputs": [],
   "source": [
    "# Create x and y data from data frame\n",
    "x = cb_data['Wt'].tolist()\n",
    "y = cb_data['Broad Jump'].tolist()\n"
   ]
  },
  {
   "cell_type": "code",
   "execution_count": 7,
   "id": "bb82bd48-f1ec-44ef-abbc-08c81a541647",
   "metadata": {},
   "outputs": [
    {
     "data": {
      "text/plain": [
       "Text(0, 0.5, 'Jump Height (cm)')"
      ]
     },
     "execution_count": 7,
     "metadata": {},
     "output_type": "execute_result"
    },
    {
     "data": {
      "image/png": "[encoded data removed]",
      "text/plain": [
       "<Figure size 864x432 with 1 Axes>"
      ]
     },
     "metadata": {
      "needs_background": "light"
     },
     "output_type": "display_data"
    }
   ],
   "source": [
    "# Scatter plot\n",
    "fig, ax = plt.subplots(figsize = (12,6))\n",
    "plt.scatter(x,y)\n",
    "plt.xlabel('Weight (lbs)')\n",
    "plt.ylabel(\"Jump Height (cm)\")"
   ]
  },
  {
   "cell_type": "markdown",
   "id": "fd06df6a-0e47-40a3-8ead-55c8eb367488",
   "metadata": {},
   "source": [
    "So here I can see that the data points are indicating a negative relationship between these two variables as the data points are on a downward trajectory from the top left to the bottom right of the plot. Or as the weight of a player increases, the shorter the jump tends to get.\n",
    "\n",
    "Below I will use the linregress tool in scipy to get the pvalue of the data[[2]]('https://docs.scipy.org/doc/scipy/reference/generated/scipy.stats.linregress.html'). This is to prove that the values of a players weight (x) is directly related to the players broadjump.  \n",
    "The linregress function in the scipy.stats module is a convenient tool for performing linear regression analysis on a set of data points, it calculates several important parameters of the linear regression model, including the slope, intercept, correlation coefficient (r-value), p-value, and standard error."
   ]
  },
  {
   "cell_type": "code",
   "execution_count": 8,
   "id": "2d2911b2-c1cd-418c-b531-2f4b4b6c9b54",
   "metadata": {},
   "outputs": [
    {
     "name": "stdout",
     "output_type": "stream",
     "text": [
      "LinregressResult(slope=-0.13852410700081397, intercept=151.89883891940303, rvalue=-0.6900714858660851, pvalue=3.930794374293921e-35, stderr=0.009437140221157788, intercept_stderr=2.28167911217884)\n"
     ]
    }
   ],
   "source": [
    "res = ss.linregress(x, y)\n",
    "print (res)"
   ]
  },
  {
   "cell_type": "markdown",
   "id": "9aabbde8-c86e-4161-afbd-ca93113aa9c1",
   "metadata": {},
   "source": [
    "After performing the linear regression analysis, the linregress function returns a LinregressResult object, which contains several statistical values that describe the linear regression model. Here I will go through some of the results we will use in our model. \n",
    "\n",
    "**pvalue:** This is the p-value associated with the null hypothesis that there is no significant linear relationship between the variables x and y. A small p-value (usually less than 0.05) indicates that the linear relationship is statistically significant. In the output, the pvalue is approximately 3.930794374293921e-35, which is extremely small (almost 0) and suggests a highly significant linear relationship.(This is not actually used in the model but the miniscule score gives creedence to generating a model.)\n",
    "\n",
    "**slope:** This is the slope of the linear regression line, which represents the change in the dependent variable (y) for a unit change in the independent variable (x). In the output, the slope is approximately -0.1385.\n",
    "\n",
    "**intercept:** This is the intercept of the linear regression line, which is the value of the dependent variable (y) when the independent variable (x) is zero. In the output, the intercept is approximately 151.8988.\n",
    "\n",
    "Now using the results above I will create a the preditive data to fit the line."
   ]
  },
  {
   "cell_type": "code",
   "execution_count": 9,
   "id": "7bc49153-9197-499f-ba24-2094d8887572",
   "metadata": {},
   "outputs": [
    {
     "data": {
      "text/plain": [
       "[<matplotlib.lines.Line2D at 0x14989186280>]"
      ]
     },
     "execution_count": 9,
     "metadata": {},
     "output_type": "execute_result"
    },
    {
     "data": {
      "image/png": "[encoded data removed]",
      "text/plain": [
       "<Figure size 864x432 with 1 Axes>"
      ]
     },
     "metadata": {
      "needs_background": "light"
     },
     "output_type": "display_data"
    }
   ],
   "source": [
    "# Creating predictive data\n",
    "y_pred = res.intercept + res.slope * np.array(x)\n",
    "\n",
    "# Create a plot\n",
    "fig, ax = plt.subplots(figsize = (12,6))\n",
    "\n",
    "# PLot x and y\n",
    "ax.plot(x,y, 'k.')\n",
    "\n",
    "# PLot x and predictive data(y_pred) on x\n",
    "ax.plot(x, y_pred)\n",
    "\n",
    "# x and y axis labels\n",
    "plt.xlabel('Weight (lbs)')\n",
    "plt.ylabel(\"Jump Height (cm)\")\n",
    "\n",
    "ax.plot(x,y_pred)"
   ]
  },
  {
   "cell_type": "markdown",
   "id": "5dbfb752-75fb-4a72-8b44-a8fea0e721ec",
   "metadata": {},
   "source": [
    "### Linear Regression using the polyfit function\n",
    "Below I will do the same thing, except this time instead of creating a formula to fit the line, I will ask they polyfit function in the scipy library to do this for me. "
   ]
  },
  {
   "cell_type": "code",
   "execution_count": 10,
   "id": "4642e1e2-38e7-44e2-9be5-f5d6f519fe55",
   "metadata": {},
   "outputs": [
    {
     "data": {
      "text/plain": [
       "array([-1.38524107e-01,  1.51898839e+02])"
      ]
     },
     "execution_count": 10,
     "metadata": {},
     "output_type": "execute_result"
    }
   ],
   "source": [
    "# To use the polyfit function the data needs to be in numpy arrays\n",
    "x = np.asarray(x)\n",
    "y = np.asarray(y)\n",
    "\n",
    "# use x and y to find original parameters used to create data\n",
    "params = np.polyfit(x, y, 1)\n",
    "params"
   ]
  },
  {
   "cell_type": "markdown",
   "id": "6629fa7d-6ef5-4da5-9877-e9a4a0372e57",
   "metadata": {},
   "source": [
    "The first value -1.38524107e-01  is the slope of the linear regression line. This value indicates the rate of change of the dependent variable (y) with respect to a unit change in the independent variable (x). In this case, as expected since we saw this above, the negative value suggests a negative correlation between x and y, meaning that as x increases, y tends to decrease.\n",
    "\n",
    "The second value 1.51898839e+02 is the intercept of the linear regression line. It represents the value of the dependent variable (y) when the independent variable (x) is zero. In this case, it suggests that when x is zero, the predicted value of y is approximately 156.36.\n",
    "\n",
    "The e notation in the values represents scientific notation. For example, 1.38524107e-01 is equivalent to -0.138524107, and 1.51898839e+02 is equivalent to 151.898839.  \n",
    "You will notice these values are almost identical to the values returned to me when I ran the linregress function in the previous section (the slope and intercept outputs).  \n",
    "\n",
    "In summary, the params array provided represents the coefficients of the linear regression line that best fits the data points (x, y). \n",
    "Both functions are attempting to achieve the same goal—fitting a linear regression line to the data and extracting the slope and intercept of that line. The slight numerical differences in the results might be due to different algorithms or methods used by the linregress and polyfit functions to perform the regression, but the essence of what they are doing is the same.  \n",
    "The linear equation that describes this relationship is approximately:  \n",
    "**y=−0.1385x+151.8988**  \n",
    "This equation represents the best-fit line that has been determined through linear regression using my data. It indicates that for each unit increase in x, y is expected to decrease by approximately 0.1385 units, and when x is 0, y is expected to be approximately 151.8988.\n",
    "This equation can be used to make predictions based on the given data and the fitted linear model."
   ]
  },
  {
   "cell_type": "code",
   "execution_count": 11,
   "id": "6e403a5d-1cfd-416f-9d26-cc67ca1c03b9",
   "metadata": {},
   "outputs": [
    {
     "data": {
      "text/plain": [
       "Text(0, 0.5, 'Jump Height (cm)')"
      ]
     },
     "execution_count": 11,
     "metadata": {},
     "output_type": "execute_result"
    },
    {
     "data": {
      "image/png": "[encoded data removed]",
      "text/plain": [
       "<Figure size 864x432 with 1 Axes>"
      ]
     },
     "metadata": {
      "needs_background": "light"
     },
     "output_type": "display_data"
    }
   ],
   "source": [
    " # Create a plot\n",
    "fig, ax = plt.subplots(figsize = (12,6))\n",
    "\n",
    "# PLot x and y\n",
    "ax.plot(x,y, 'k.')\n",
    "\n",
    "\n",
    "# PLot x and params on x\n",
    "ax.plot(x, params[0] * x + params[1], 'r-')\n",
    "\n",
    "# Labels\n",
    "plt.xlabel('Weight (lbs)')\n",
    "plt.ylabel(\"Jump Height (cm)\")\n",
    "\n"
   ]
  },
  {
   "cell_type": "markdown",
   "id": "7a16b4e9-9d9c-4036-84d9-ee9883b8fa27",
   "metadata": {},
   "source": [
    "Now realistically some context has to be put on this data. Theses are professional athletes, in the real world with \"normal\" people who do not train for hours almost every day the data may have a lot more varience. Plus, these are people, there does come a point of diminishing returns where if a person does not weigh enough they will not have the strength or power/energy to jump. In the plot above we may even see that point at roughly 190-200 lbs. If we had a lager sample with lighter athletes, it is very possible that the data would have a more \"normal\" or bell curve distribution rather than linear.  \n",
    "Also in a larger sample that includes a broader range of individuals, including those who are not professional athletes, you might see more variation in the data. Again this variation could lead to a more bell-shaped distribution, reflecting the diverse range of physical abilities and training levels in the general population.  \n",
    "Considering these factors, it's important to remember approach data analysis and modeling with a nuanced understanding of the domain being studying. While linear regression can provide valuable insights, it's not always the best fit for every situation. Exploring alternative models, such as polynomial regression, quadratic regression, or other curve-fitting methods, could help capture more complex relationships that exist in real-world data."
   ]
  },
  {
   "cell_type": "markdown",
   "id": "58df06ae-bda5-4dfc-8a6d-bd48c1b428a1",
   "metadata": {},
   "source": [
    "Below I have created a graph that allows a polynomial of degree 3 (It is now a cubic polynomial. 3 is just a default - users can play with this, just change the \"deg\" value below) to the given data points (x, y). This means that the polynomial will have significantly more flexibility and complexity, and it will try to match the fluctuations and details in the data."
   ]
  },
  {
   "cell_type": "code",
   "execution_count": 42,
   "id": "bcc143c9-4172-47a6-ad19-8f80b20029c8",
   "metadata": {},
   "outputs": [
    {
     "data": {
      "text/plain": [
       "[<matplotlib.lines.Line2D at 0x149901ed7c0>]"
      ]
     },
     "execution_count": 42,
     "metadata": {},
     "output_type": "execute_result"
    },
    {
     "data": {
      "image/png": "[encoded data removed]",
      "text/plain": [
       "<Figure size 864x432 with 1 Axes>"
      ]
     },
     "metadata": {
      "needs_background": "light"
     },
     "output_type": "display_data"
    }
   ],
   "source": [
    "# Degrees of the polynomial(Freedom)\n",
    "deg = 3\n",
    "\n",
    "# Use x and y to try to find the original parameters\n",
    "params = np.polyfit(x, y, deg)\n",
    "\n",
    "# Create a plot\n",
    "fig, ax = plt.subplots(figsize = (12,6))\n",
    "\n",
    "#plot x and y\n",
    "ax.plot(x, y, 'k.')\n",
    "\n",
    "# create temp x values\n",
    "xtmp = np.linspace (170.0, 400.0, 1000)\n",
    "\n",
    "# PLot x and params on x\n",
    "ax.plot(xtmp, np.polyval(params, xtmp), 'b-')"
   ]
  },
  {
   "cell_type": "markdown",
   "id": "ce7a8f57-6842-4b93-a440-1235af99ffa5",
   "metadata": {},
   "source": [
    "When you increase the degree of the polynomial, it can capture intricate patterns and variations in the data, potentially resulting in a curve that passes very closely to each data point. However, there is a risk of overfitting, which means that the polynomial might capture noise in the data rather than the true underlying trend. This can lead to poor generalization when making predictions on new, unseen data.\n",
    "\n",
    "The choice of the polynomial degree should be based on the complexity of the underlying relationship in the data and the goals of the analysis. There is a trade-off between fitting the data well and avoiding overfitting. In many cases, lower-degree polynomials are preferred to avoid overfitting, unless there is strong justification for using a higher degree polynomial.  \n",
    "In the investigation I have done above into the relationship between an athletes weight and length of broad jump we can see how expanding the degrees of the polynomial gives a little bit of a more accurate picture in some ways as we can see the curve start to trend down as it approaches the y-axis, however contrary to that the blue line looks like it is begging to trend back up in as it is going away from the x-axis, and the likelyhood of anyone, even a pro athlete being able to jump highter the closer they get to 375lbs is not realistic. That last data point is a bit of an outlier that may be throwing off the model - anyone that is 350 lbs and can jump over 110 cms is a outlier. An outlier in a stable of outliers.  \n",
    "In my opinion the cubic polynomial (deg = 3) gives the best \"fit\" as an illustration for a presentation, and also for analysis, as long as the presenter/analyset has a clear compreheshion and is able to explain the context and limitations of the data sample. \n",
    "\n",
    "\n",
    "\n",
    "\n",
    "\n"
   ]
  },
  {
   "cell_type": "code",
   "execution_count": null,
   "id": "a8e659ef-c3ab-42b3-a3d7-aed4f598a84b",
   "metadata": {},
   "outputs": [],
   "source": []
  },
  {
   "cell_type": "code",
   "execution_count": null,
   "id": "c5c01c50-a02d-4510-b3c3-27ba5498787e",
   "metadata": {},
   "outputs": [],
   "source": []
  },
  {
   "cell_type": "code",
   "execution_count": null,
   "id": "92aed855-1cb0-4dcd-8162-fc15cb3e2f6f",
   "metadata": {},
   "outputs": [],
   "source": []
  },
  {
   "cell_type": "markdown",
   "id": "6e7bab40-4aa2-4d90-b60b-67882727162a",
   "metadata": {},
   "source": [
    "### Refrences\n",
    "1. https://www.scribbr.com/statistics/simple-linear-regression/"
   ]
  },
  {
   "cell_type": "code",
   "execution_count": null,
   "id": "bba428b0-780a-4d38-82f8-1cf668a69180",
   "metadata": {},
   "outputs": [],
   "source": []
  },
  {
   "cell_type": "code",
   "execution_count": null,
   "id": "98281a54-3b5c-4faf-a6a3-b9715f94f77e",
   "metadata": {},
   "outputs": [],
   "source": []
  },
  {
   "cell_type": "code",
   "execution_count": null,
   "id": "ad9e8b10-3f6e-4732-ba45-d1a3f4fa3740",
   "metadata": {},
   "outputs": [],
   "source": []
  },
  {
   "cell_type": "code",
   "execution_count": null,
   "id": "e9c3f690-7be6-4523-907c-f84a3f172df4",
   "metadata": {},
   "outputs": [],
   "source": []
  }
 ],
 "metadata": {
  "kernelspec": {
   "display_name": "Python 3 (ipykernel)",
   "language": "python",
   "name": "python3"
  },
  "language_info": {
   "codemirror_mode": {
    "name": "ipython",
    "version": 3
   },
   "file_extension": ".py",
   "mimetype": "text/x-python",
   "name": "python",
   "nbconvert_exporter": "python",
   "pygments_lexer": "ipython3",
   "version": "3.9.12"
  }
 },
 "nbformat": 4,
 "nbformat_minor": 5
}
