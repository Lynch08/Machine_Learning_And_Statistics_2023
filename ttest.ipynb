{
 "cells": [
  {
   "cell_type": "markdown",
   "id": "ac8f5999",
   "metadata": {
    "tags": []
   },
   "source": [
    "\n",
    "<h1 style = \"color: # 001a79;\">Statistics Notebook</h1>\n",
    "\n",
    "<hr style = \"border-top: 1px solid #001a79;\" />"
   ]
  },
  {
   "cell_type": "markdown",
   "id": "4150fd4e-5392-40f7-a904-b263bb614fda",
   "metadata": {
    "jp-MarkdownHeadingCollapsed": true,
    "tags": []
   },
   "source": [
    "##### Introduction to the Notebook\n",
    "In this notebook we will look at different methods of statistcal learning and some methods and hypothesis used in statistical testing.  \n",
    "The intenton of this notebook is is to concentrate more on the applications of statistical methods (the why and how) and less on the mathematical details. Although of couse the two do come hand in hand in some cases I will be attempting to show when and why a certain method has been used rather than the mathimathical reasoning of how the method works. Luckily as I am using pythton in this notebook it has numerous libraries (most notably scipy and statsmodels) that have many of these methods built in - so the trick is really to know when they are valuable, how they work is important, but not neccessarily required. \n",
    "\n",
    "##### Introdution to Stats\n",
    "Statistical learning refers to a vast set of tools for understanding data.[[1]](https://hastie.su.domains/ISLR2/ISLRv2_website.pdf)  \n",
    "Statistics itself, is the science of collecting, analyzing, presenting, and interpreting data. Historically statistics were used often by governments to gain insights onto economic activities, census information being the main sources of the data. However over the last century the growth of data colletion has grown exponentially with a huge explosion of the volume of data being collected over the past 30 years due to advances in computing, both in industry and everyday life. The value of the data available is now being recognised and the need to turn the large amounts of data available in many applied fields into useful information has stimulated both theoretical and practical developments in statistics. [[2]](https://www.britannica.com/science/statistics)\n",
    "\n",
    "##### What is the difference between data and statistics?\n",
    "Statistics and Data are two terms which are going to be used throughout this notebook so I belive it is important for anybody reading this to understand what I mean when I use those terms.  \n",
    "While the terms ‘data’ and ‘statistics’ are often used interchangeably, there is an important distinction between them.  \n",
    "Data are individual pieces of factual information recorded and used for the purpose of analysis. Data is the raw information from which statistics are created.   Statistics are the results of data analysis - its interpretation and presentation. In other words some computation has taken place that provides some understanding of what the data means. Statistics are often, though they don’t have to be, presented in the form of a table, chart, or graph. [[3]](https://libguides.macalester.edu/c.php?g=527786&p=3608657)\n"
   ]
  },
  {
   "cell_type": "markdown",
   "id": "73a09aa8-84d5-44ec-817d-2c99251fce41",
   "metadata": {},
   "source": [
    "#### Importing Libaries\n",
    "\n",
    "Before I go any further I am going to begin importing the libraries I intend to use in this notebook - this will begin with some of the libraries I know I will be using such as Math, Numpy, Pandas, Scipy, Statmodels and of course matplotlib, it will most likey grow as the notebook develops."
   ]
  },
  {
   "cell_type": "code",
   "execution_count": 1,
   "id": "31552a7d-bf93-4b2c-8f51-c829447bdad6",
   "metadata": {},
   "outputs": [],
   "source": [
    "# Math Module\n",
    "import math\n",
    "\n",
    "# Numpy\n",
    "import numpy as np\n",
    "\n",
    "# Pandas\n",
    "import pandas as pd\n",
    "\n",
    "# Seaborn\n",
    "import seaborn as sns\n",
    "\n",
    "# Statistical Methods\n",
    "import scipy.stats as ss\n",
    "\n",
    "# Alt Stats package\n",
    "import statsmodels.stats.weightstats as stat\n",
    "\n",
    "# plotting\n",
    "import matplotlib.pyplot as plt\n",
    "\n",
    "import itertools\n",
    "\n"
   ]
  },
  {
   "cell_type": "markdown",
   "id": "8b7bae00-44cc-4935-895b-8308681f2fe5",
   "metadata": {
    "tags": []
   },
   "source": [
    "### An introduction to an example of statistical problem solving\n",
    "##### Lady Tasting Tea Problem"
   ]
  },
  {
   "cell_type": "markdown",
   "id": "2506c957-7753-442f-9577-a8fd43dd2860",
   "metadata": {},
   "source": [
    "<img src=\"Images\\TeaPot.jpg\" style=\"margin:auto\"/>"
   ]
  },
  {
   "cell_type": "markdown",
   "id": "9ee12734-3a16-4ca7-b2e6-a325d3c8b741",
   "metadata": {
    "jp-MarkdownHeadingCollapsed": true,
    "tags": []
   },
   "source": [
    "The Lady Tasting Tea problem was first described by Ronald A. Fisher in his book *The Design of Experiments*.  \n",
    "**A little background on Fisher:** Fisher was a British polymath who was active as a mathematician, statistician, biologist, geneticist, and academic. For his work in statistics, he has been described as \"a genius who almost single-handedly created the foundations for modern statistical science\"[[4]](https://en.wikipedia.org/wiki/Ronald_Fisher#cite_note-Hald98-7) and \"the single most important figure in 20th century statistics\".[[5]](https://en.wikipedia.org/wiki/Ronald_Fisher#cite_note-8)\n",
    "Fisher is seen by many as one of the founders of modern day data analytics and is also responsible for one of the most famous datasets used in machine learning called the Iris Dataset. \n",
    "Although Fisher is seen as somewhat of a *god* in the field of data analytics and statistics, according to some sources his views on eugenics and race are disputed - todays society may not have been as kind to his genius, but his questionable ethical morals(to say the least) are not for debate in this notebook, but I feel it is worth mentioning.  \n",
    "\n",
    "So back to a less contentious (but still worthy) debate - how to make a cup of tea.  \n",
    "He described the problem as follows.\n",
    "\n",
    "*\"A lady declares that by tasting a cup of tea made with milk she can discriminate whether the milk or the tea infusion was first added to the cup: We will consider the problem of designing an experiment by means of which this assertion can be tested. For this purpose let us first lay down a simple form of experiment with a view to studying its limitations and its characteristics, both those which appear to be essential to the experimental method, when well developed, and those which are not essential but auxiliary.*\n",
    "\n",
    "*Our experiment consists in mixing eight cups of tea, four in one way and four in the other, and presenting them to the subject for judgment in a random order. The subject has been told in advance of what the test will consist, namely that she will be asked to taste eight cups, that these shall be four of each kind, and that they shall be presented to her in a random order, that is in an order not determined arbitrarily by human choice, but by the actual manipulation of the physical apparatus used in games of chance, cards, dice, roulettes, etc., or, more expeditiously, from a published collection of random sampling numbers purporting to give the actual results of such manipulation. Her task is to divide the 8 cups into two sets of 4, agreeing, if possible, with the treatments received.\"*"
   ]
  },
  {
   "cell_type": "markdown",
   "id": "f244000e-4429-4761-98d5-1a764af5f74e",
   "metadata": {},
   "source": [
    "<img src=\"Images\\Ronald_Fisher.jpeg\" style=\"margin:auto\"/>"
   ]
  },
  {
   "cell_type": "markdown",
   "id": "abd8c0e5-5428-4897-82d7-5dc4d79612e5",
   "metadata": {},
   "source": [
    "###### <center>  Sir Ronald Aylmer Fisher (Photo from Rare Books & Special Collections, University of Adelaide)"
   ]
  },
  {
   "cell_type": "markdown",
   "id": "f2041017-a5ad-4065-97fa-eb13dd9bf8bb",
   "metadata": {},
   "source": [
    "## Number of Combinations"
   ]
  },
  {
   "cell_type": "markdown",
   "id": "a19fc868-550d-4651-a4b8-b7347f90ea77",
   "metadata": {},
   "source": [
    "Let us investigate the number of ways in which the lady can arrange the eight cups into two groups of four.\n",
    "\n",
    "The first group is the cups with milk first.\n",
    "\n",
    "The second group is the cups with tea first.\n",
    "\n",
    "Once we select four cups for the first group, the second group is made up of the remaining cups.\n",
    "\n",
    "So, we only really need to count how many different ways there are to select four cups from eight.\n",
    "\n",
    "\n",
    "To begin we give each of the eight cups a label from 0 to 7.\n",
    "\n",
    "Note that the cups have no order in the experiment, we are labelling them with integers simply for convenience."
   ]
  },
  {
   "cell_type": "code",
   "execution_count": 2,
   "id": "b6a91ac3-d6d1-4c89-b425-933dbf4bd511",
   "metadata": {},
   "outputs": [
    {
     "data": {
      "text/plain": [
       "[0, 1, 2, 3, 4, 5, 6, 7]"
      ]
     },
     "execution_count": 2,
     "metadata": {},
     "output_type": "execute_result"
    }
   ],
   "source": [
    "# The eight cups.\n",
    "cups = list(range(8))\n",
    "cups"
   ]
  },
  {
   "cell_type": "markdown",
   "id": "ccab212d-e644-4a78-887d-c99d779f8972",
   "metadata": {},
   "source": [
    "Suppose the subject is trying to pick the four cups with milk in first.\n",
    "\n",
    "If the subject is picking the cups randomly then they are randomly picking one of seventy different options.\n",
    "\n",
    "By randomly, we mean that they can not really tell which cups have the milk in first.\n",
    "\n",
    "Therefore they have only a probability of 1/70 of getting the right answer.\n",
    "\n",
    "The number of ways of selecting four **unordered** items from eight is given by the Choose function in mathematics.  \n",
    "**Unordered** is important here.\n",
    "For example if we have 8 numbers: 1,2,3,4,5,6,7,8  \n",
    "In an **unordered** selection 1,2,3,4 is the same choice as 4,3,2,1.  \n",
    "In an **orderd** selection 1,2,3,4 and 4,3,2,1 are 2 separate choices.   "
   ]
  },
  {
   "cell_type": "code",
   "execution_count": 3,
   "id": "82b78a42-8de0-4118-96af-0f8e8c423b3b",
   "metadata": {},
   "outputs": [
    {
     "data": {
      "text/plain": [
       "70.0"
      ]
     },
     "execution_count": 3,
     "metadata": {},
     "output_type": "execute_result"
    }
   ],
   "source": [
    "# This is the number of ways of selecting 4 objects from 8 (UNORDERED)\n",
    "(8*7*6*5)/(4*3*2*1)"
   ]
  },
  {
   "cell_type": "markdown",
   "id": "da10a490-61b3-4a34-9d7a-49d6b0ef9dda",
   "metadata": {},
   "source": [
    "These possibilities can be enumerated using the combinations function from the itertools Python package.\n",
    "\n",
    "It takes a list ***l*** of items and a number ***n***. It returns/generates each way of selecting ***n*** unordered items from ***l***."
   ]
  },
  {
   "cell_type": "code",
   "execution_count": 4,
   "id": "6c07fe6e-3019-49f0-83bd-e4e613159c92",
   "metadata": {},
   "outputs": [
    {
     "data": {
      "text/plain": [
       "[(0, 1, 2, 3),\n",
       " (0, 1, 2, 4),\n",
       " (0, 1, 2, 5),\n",
       " (0, 1, 2, 6),\n",
       " (0, 1, 2, 7),\n",
       " (0, 1, 3, 4),\n",
       " (0, 1, 3, 5),\n",
       " (0, 1, 3, 6),\n",
       " (0, 1, 3, 7),\n",
       " (0, 1, 4, 5),\n",
       " (0, 1, 4, 6),\n",
       " (0, 1, 4, 7),\n",
       " (0, 1, 5, 6),\n",
       " (0, 1, 5, 7),\n",
       " (0, 1, 6, 7),\n",
       " (0, 2, 3, 4),\n",
       " (0, 2, 3, 5),\n",
       " (0, 2, 3, 6),\n",
       " (0, 2, 3, 7),\n",
       " (0, 2, 4, 5),\n",
       " (0, 2, 4, 6),\n",
       " (0, 2, 4, 7),\n",
       " (0, 2, 5, 6),\n",
       " (0, 2, 5, 7),\n",
       " (0, 2, 6, 7),\n",
       " (0, 3, 4, 5),\n",
       " (0, 3, 4, 6),\n",
       " (0, 3, 4, 7),\n",
       " (0, 3, 5, 6),\n",
       " (0, 3, 5, 7),\n",
       " (0, 3, 6, 7),\n",
       " (0, 4, 5, 6),\n",
       " (0, 4, 5, 7),\n",
       " (0, 4, 6, 7),\n",
       " (0, 5, 6, 7),\n",
       " (1, 2, 3, 4),\n",
       " (1, 2, 3, 5),\n",
       " (1, 2, 3, 6),\n",
       " (1, 2, 3, 7),\n",
       " (1, 2, 4, 5),\n",
       " (1, 2, 4, 6),\n",
       " (1, 2, 4, 7),\n",
       " (1, 2, 5, 6),\n",
       " (1, 2, 5, 7),\n",
       " (1, 2, 6, 7),\n",
       " (1, 3, 4, 5),\n",
       " (1, 3, 4, 6),\n",
       " (1, 3, 4, 7),\n",
       " (1, 3, 5, 6),\n",
       " (1, 3, 5, 7),\n",
       " (1, 3, 6, 7),\n",
       " (1, 4, 5, 6),\n",
       " (1, 4, 5, 7),\n",
       " (1, 4, 6, 7),\n",
       " (1, 5, 6, 7),\n",
       " (2, 3, 4, 5),\n",
       " (2, 3, 4, 6),\n",
       " (2, 3, 4, 7),\n",
       " (2, 3, 5, 6),\n",
       " (2, 3, 5, 7),\n",
       " (2, 3, 6, 7),\n",
       " (2, 4, 5, 6),\n",
       " (2, 4, 5, 7),\n",
       " (2, 4, 6, 7),\n",
       " (2, 5, 6, 7),\n",
       " (3, 4, 5, 6),\n",
       " (3, 4, 5, 7),\n",
       " (3, 4, 6, 7),\n",
       " (3, 5, 6, 7),\n",
       " (4, 5, 6, 7)]"
      ]
     },
     "execution_count": 4,
     "metadata": {},
     "output_type": "execute_result"
    }
   ],
   "source": [
    "poss = list(itertools.combinations(cups, 4))\n",
    "poss"
   ]
  },
  {
   "cell_type": "markdown",
   "id": "e328412c-dcd2-49b4-a8cc-7c5af125e21a",
   "metadata": {},
   "source": [
    "Above any combination of the first iteration the list 0,1,2,3 is not found anywhere else on the list.  \n",
    "Eg. 0,1,2,3, and 1,0,2,3 and 3,0,2,1 and all other combinations of those 4 numbers are considerd the same choice."
   ]
  },
  {
   "cell_type": "markdown",
   "id": "3362d116-243d-425d-983f-e8e27b2fe2e2",
   "metadata": {
    "tags": []
   },
   "source": [
    "### Hypotheses"
   ]
  },
  {
   "cell_type": "markdown",
   "id": "b13bf81c-7261-4dd5-9154-167dc4f6142d",
   "metadata": {},
   "source": [
    "In his book, Fisher describes the *null hypothesis*.  \n",
    "It is the statement to be countered by the experiment.  \n",
    "In this case it is the hypothesis that the subject cannot tell the difference between a cup of tea that had milk in it first and one that had the tea in it first.\n",
    "\n",
    "**Null Hypothesis:** The subject can not tell if the cup had milk in it first or last.\n",
    "\n",
    "\n",
    "Once we collect the experimental data we evaluate how likely we were to see such data if the null hypothesis is true.  \n",
    "If it is very unlikely, then we may reject the null hypothesis.  \n",
    "Typically we have an alternative hypothesis that we suggest rejecting the null hypothesis is evidence for.\n",
    "\n",
    "**Alternative Hypothesis:** The subject can tell.\n",
    "\n",
    "Should the subject pick the correct four cups with milk in them first, there is only a 1 in 70 (~1.4%) chance of them having done that if they were simply guessing.  \n",
    "Fisher considered that unlikely enough to reject the null hypothesis if they manage it."
   ]
  },
  {
   "cell_type": "code",
   "execution_count": 5,
   "id": "7d4aa994-1408-441e-9ab8-b2bbbb2058bc",
   "metadata": {},
   "outputs": [
    {
     "data": {
      "text/plain": [
       "0.014285714285714285"
      ]
     },
     "execution_count": 5,
     "metadata": {},
     "output_type": "execute_result"
    }
   ],
   "source": [
    "# Only one of the 70 randomly selected possibilities is the desired result.\n",
    "1.0 / 70.0"
   ]
  },
  {
   "cell_type": "code",
   "execution_count": null,
   "id": "5d3736a7-e213-4d41-8998-223d13201009",
   "metadata": {},
   "outputs": [],
   "source": []
  },
  {
   "cell_type": "code",
   "execution_count": null,
   "id": "6bd99e39-e060-4158-a3d0-c0c1347412c6",
   "metadata": {},
   "outputs": [],
   "source": []
  },
  {
   "cell_type": "code",
   "execution_count": null,
   "id": "65477097-3501-4719-9a1f-69aa7305abd2",
   "metadata": {},
   "outputs": [],
   "source": []
  },
  {
   "cell_type": "code",
   "execution_count": null,
   "id": "c505d078-e31f-4d6d-8395-7fc3deec5f72",
   "metadata": {},
   "outputs": [],
   "source": []
  },
  {
   "cell_type": "code",
   "execution_count": null,
   "id": "5f737d2d-2348-44fb-a1f3-a789290031a9",
   "metadata": {},
   "outputs": [],
   "source": []
  },
  {
   "cell_type": "code",
   "execution_count": null,
   "id": "de073be6-2999-4baf-abf7-2db2026be0e5",
   "metadata": {},
   "outputs": [],
   "source": []
  },
  {
   "cell_type": "code",
   "execution_count": null,
   "id": "05b5daa2-1165-488f-9ee9-acdd82b432b3",
   "metadata": {},
   "outputs": [],
   "source": []
  }
 ],
 "metadata": {
  "kernelspec": {
   "display_name": "Python 3 (ipykernel)",
   "language": "python",
   "name": "python3"
  },
  "language_info": {
   "codemirror_mode": {
    "name": "ipython",
    "version": 3
   },
   "file_extension": ".py",
   "mimetype": "text/x-python",
   "name": "python",
   "nbconvert_exporter": "python",
   "pygments_lexer": "ipython3",
   "version": "3.9.12"
  }
 },
 "nbformat": 4,
 "nbformat_minor": 5
}
