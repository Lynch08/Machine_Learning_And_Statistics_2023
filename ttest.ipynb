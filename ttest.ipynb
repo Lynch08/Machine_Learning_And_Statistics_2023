{
 "cells": [
  {
   "cell_type": "markdown",
   "id": "ac8f5999",
   "metadata": {
    "tags": []
   },
   "source": [
    "\n",
    "<h1 style = \"color: # 001a79;\">Statistics Notebook</h1>\n",
    "\n",
    "<hr style = \"border-top: 1px solid #001a79;\" />"
   ]
  },
  {
   "cell_type": "markdown",
   "id": "4150fd4e-5392-40f7-a904-b263bb614fda",
   "metadata": {
    "jp-MarkdownHeadingCollapsed": true,
    "tags": []
   },
   "source": [
    "##### Introduction to the Notebook\n",
    "In this notebook we will look at different methods of statistcal learning and some methods and hypothesis used in statistical testing, with emphasis on the t-test.  \n",
    "The intenton of this notebook is is to concentrate more on the applications of statistical methods (the why and how) and less on the mathematical details. Although of couse the two do come hand in hand in some cases I will be attempting to show when and why a certain method has been used rather than the mathimathical reasoning of how the method works. Luckily as I am using pythton in this notebook it has numerous libraries (most notably scipy and statsmodels) that have many of these methods built in - so the trick is really to know when they are valuable, how they work is important, but not neccessarily required. \n",
    "\n",
    "##### Introdution to Stats\n",
    "Statistical learning refers to a vast set of tools for understanding data.[[1]](https://hastie.su.domains/ISLR2/ISLRv2_website.pdf)  \n",
    "Statistics itself, is the science of collecting, analyzing, presenting, and interpreting data. Historically statistics were used often by governments to gain insights onto economic activities, census information being the main sources of the data. However over the last century the growth of data colletion has grown exponentially with a huge explosion of the volume of data being collected over the past 30 years due to advances in computing, both in industry and everyday life. The value of the data available is now being recognised and the need to turn the large amounts of data available in many applied fields into useful information has stimulated both theoretical and practical developments in statistics. [[2]](https://www.britannica.com/science/statistics)\n",
    "\n",
    "##### What is the difference between data and statistics?\n",
    "Statistics and Data are two terms which are going to be used throughout this notebook so I belive it is important for anybody reading this to understand what I mean when I use those terms.  \n",
    "While the terms ‘data’ and ‘statistics’ are often used interchangeably, there is an important distinction between them.  \n",
    "Data are individual pieces of factual information recorded and used for the purpose of analysis. Data is the raw information from which statistics are created.   Statistics are the results of data analysis - its interpretation and presentation. In other words some computation has taken place that provides some understanding of what the data means. Statistics are often, though they don’t have to be, presented in the form of a table, chart, or graph. [[3]](https://libguides.macalester.edu/c.php?g=527786&p=3608657)\n"
   ]
  },
  {
   "cell_type": "markdown",
   "id": "73a09aa8-84d5-44ec-817d-2c99251fce41",
   "metadata": {},
   "source": [
    "#### Importing Libaries\n",
    "\n",
    "Before I go any further I am going to begin importing the libraries I intend to use in this notebook - this will begin with some of the libraries I know I will be using such as Math, Numpy, Pandas, Scipy, Statmodels and of course matplotlib, it will most likey grow as the notebook develops."
   ]
  },
  {
   "cell_type": "code",
   "execution_count": 1,
   "id": "31552a7d-bf93-4b2c-8f51-c829447bdad6",
   "metadata": {},
   "outputs": [],
   "source": [
    "# Math Module\n",
    "import math\n",
    "\n",
    "# Numpy\n",
    "import numpy as np\n",
    "\n",
    "# Pandas\n",
    "import pandas as pd\n",
    "\n",
    "# Seaborn\n",
    "import seaborn as sns\n",
    "\n",
    "# Statistical Methods\n",
    "import scipy.stats as ss\n",
    "\n",
    "# Alt Stats package\n",
    "import statsmodels.stats.weightstats as stat\n",
    "\n",
    "# plotting\n",
    "import matplotlib.pyplot as plt\n",
    "\n",
    "import itertools\n",
    "\n"
   ]
  },
  {
   "cell_type": "markdown",
   "id": "8b7bae00-44cc-4935-895b-8308681f2fe5",
   "metadata": {
    "tags": []
   },
   "source": [
    "### An introduction to an example of statistical problem solving\n",
    "##### Lady Tasting Tea Problem"
   ]
  },
  {
   "cell_type": "markdown",
   "id": "2506c957-7753-442f-9577-a8fd43dd2860",
   "metadata": {},
   "source": [
    "<img src=\"Images\\TeaPot.jpg\" style=\"margin:auto\"/>"
   ]
  },
  {
   "cell_type": "markdown",
   "id": "9ee12734-3a16-4ca7-b2e6-a325d3c8b741",
   "metadata": {
    "jp-MarkdownHeadingCollapsed": true,
    "tags": []
   },
   "source": [
    "The Lady Tasting Tea problem was first described by Ronald A. Fisher in his book *The Design of Experiments*.  \n",
    "**A little background on Fisher:** Fisher was a British polymath who was active as a mathematician, statistician, biologist, geneticist, and academic. For his work in statistics, he has been described as \"a genius who almost single-handedly created the foundations for modern statistical science\"[[4]](https://en.wikipedia.org/wiki/Ronald_Fisher#cite_note-Hald98-7) and \"the single most important figure in 20th century statistics\".[[5]](https://en.wikipedia.org/wiki/Ronald_Fisher#cite_note-8)\n",
    "Fisher is seen by many as one of the founders of modern day data analytics and is also responsible for one of the most famous datasets used in machine learning called the Iris Dataset. \n",
    "Although Fisher is seen as somewhat of a *god* in the field of data analytics and statistics, according to some sources his views on eugenics and race are disputed - todays society may not have been as kind to his genius, but his questionable ethical morals(to say the least) are not for debate in this notebook, but I feel it is worth mentioning.  \n",
    "\n",
    "So back to a less contentious (but still worthy) debate - how to make a cup of tea.  \n",
    "He described the problem as follows.\n",
    "\n",
    "*\"A lady declares that by tasting a cup of tea made with milk she can discriminate whether the milk or the tea infusion was first added to the cup: We will consider the problem of designing an experiment by means of which this assertion can be tested. For this purpose let us first lay down a simple form of experiment with a view to studying its limitations and its characteristics, both those which appear to be essential to the experimental method, when well developed, and those which are not essential but auxiliary.*\n",
    "\n",
    "*Our experiment consists in mixing eight cups of tea, four in one way and four in the other, and presenting them to the subject for judgment in a random order. The subject has been told in advance of what the test will consist, namely that she will be asked to taste eight cups, that these shall be four of each kind, and that they shall be presented to her in a random order, that is in an order not determined arbitrarily by human choice, but by the actual manipulation of the physical apparatus used in games of chance, cards, dice, roulettes, etc., or, more expeditiously, from a published collection of random sampling numbers purporting to give the actual results of such manipulation. Her task is to divide the 8 cups into two sets of 4, agreeing, if possible, with the treatments received.\"*"
   ]
  },
  {
   "cell_type": "markdown",
   "id": "f244000e-4429-4761-98d5-1a764af5f74e",
   "metadata": {},
   "source": [
    "<img src=\"Images\\Ronald_Fisher.jpeg\" style=\"margin:auto\"/>"
   ]
  },
  {
   "cell_type": "markdown",
   "id": "abd8c0e5-5428-4897-82d7-5dc4d79612e5",
   "metadata": {},
   "source": [
    "###### <center>  Sir Ronald Aylmer Fisher (Photo from Rare Books & Special Collections, University of Adelaide)"
   ]
  },
  {
   "cell_type": "markdown",
   "id": "f2041017-a5ad-4065-97fa-eb13dd9bf8bb",
   "metadata": {},
   "source": [
    "## Number of Combinations"
   ]
  },
  {
   "cell_type": "markdown",
   "id": "a19fc868-550d-4651-a4b8-b7347f90ea77",
   "metadata": {},
   "source": [
    "Let us investigate the number of ways in which the lady can arrange the eight cups into two groups of four.\n",
    "\n",
    "The first group is the cups with milk first.\n",
    "\n",
    "The second group is the cups with tea first.\n",
    "\n",
    "Once we select four cups for the first group, the second group is made up of the remaining cups.\n",
    "\n",
    "So, we only really need to count how many different ways there are to select four cups from eight.\n",
    "\n",
    "\n",
    "To begin we give each of the eight cups a label from 0 to 7.\n",
    "\n",
    "Note that the cups have no order in the experiment, we are labelling them with integers simply for convenience."
   ]
  },
  {
   "cell_type": "code",
   "execution_count": 2,
   "id": "b6a91ac3-d6d1-4c89-b425-933dbf4bd511",
   "metadata": {},
   "outputs": [
    {
     "data": {
      "text/plain": [
       "[0, 1, 2, 3, 4, 5, 6, 7]"
      ]
     },
     "execution_count": 2,
     "metadata": {},
     "output_type": "execute_result"
    }
   ],
   "source": [
    "# The eight cups.\n",
    "cups = list(range(8))\n",
    "cups"
   ]
  },
  {
   "cell_type": "markdown",
   "id": "ccab212d-e644-4a78-887d-c99d779f8972",
   "metadata": {},
   "source": [
    "Suppose the subject is trying to pick the four cups with milk in first.\n",
    "\n",
    "If the subject is picking the cups randomly then they are randomly picking one of seventy different options.\n",
    "\n",
    "By randomly, we mean that they can not really tell which cups have the milk in first.\n",
    "\n",
    "Therefore they have only a probability of 1/70 of getting the right answer.\n",
    "\n",
    "The number of ways of selecting four **unordered** items from eight is given by the Choose function in mathematics.  \n",
    "**Unordered** is important here.\n",
    "For example if we have 8 numbers: 1,2,3,4,5,6,7,8  \n",
    "In an **unordered** selection 1,2,3,4 is the same choice as 4,3,2,1.  \n",
    "In an **orderd** selection 1,2,3,4 and 4,3,2,1 are 2 separate choices.   "
   ]
  },
  {
   "cell_type": "code",
   "execution_count": 3,
   "id": "82b78a42-8de0-4118-96af-0f8e8c423b3b",
   "metadata": {},
   "outputs": [
    {
     "data": {
      "text/plain": [
       "70.0"
      ]
     },
     "execution_count": 3,
     "metadata": {},
     "output_type": "execute_result"
    }
   ],
   "source": [
    "# This is the number of ways of selecting 4 objects from 8 (UNORDERED)\n",
    "(8*7*6*5)/(4*3*2*1)"
   ]
  },
  {
   "cell_type": "markdown",
   "id": "da10a490-61b3-4a34-9d7a-49d6b0ef9dda",
   "metadata": {},
   "source": [
    "These possibilities can be enumerated using the combinations function from the itertools Python package.\n",
    "\n",
    "It takes a list ***l*** of items and a number ***n***. It returns/generates each way of selecting ***n*** unordered items from ***l***."
   ]
  },
  {
   "cell_type": "code",
   "execution_count": 4,
   "id": "6c07fe6e-3019-49f0-83bd-e4e613159c92",
   "metadata": {},
   "outputs": [
    {
     "data": {
      "text/plain": [
       "[(0, 1, 2, 3),\n",
       " (0, 1, 2, 4),\n",
       " (0, 1, 2, 5),\n",
       " (0, 1, 2, 6),\n",
       " (0, 1, 2, 7),\n",
       " (0, 1, 3, 4),\n",
       " (0, 1, 3, 5),\n",
       " (0, 1, 3, 6),\n",
       " (0, 1, 3, 7),\n",
       " (0, 1, 4, 5),\n",
       " (0, 1, 4, 6),\n",
       " (0, 1, 4, 7),\n",
       " (0, 1, 5, 6),\n",
       " (0, 1, 5, 7),\n",
       " (0, 1, 6, 7),\n",
       " (0, 2, 3, 4),\n",
       " (0, 2, 3, 5),\n",
       " (0, 2, 3, 6),\n",
       " (0, 2, 3, 7),\n",
       " (0, 2, 4, 5),\n",
       " (0, 2, 4, 6),\n",
       " (0, 2, 4, 7),\n",
       " (0, 2, 5, 6),\n",
       " (0, 2, 5, 7),\n",
       " (0, 2, 6, 7),\n",
       " (0, 3, 4, 5),\n",
       " (0, 3, 4, 6),\n",
       " (0, 3, 4, 7),\n",
       " (0, 3, 5, 6),\n",
       " (0, 3, 5, 7),\n",
       " (0, 3, 6, 7),\n",
       " (0, 4, 5, 6),\n",
       " (0, 4, 5, 7),\n",
       " (0, 4, 6, 7),\n",
       " (0, 5, 6, 7),\n",
       " (1, 2, 3, 4),\n",
       " (1, 2, 3, 5),\n",
       " (1, 2, 3, 6),\n",
       " (1, 2, 3, 7),\n",
       " (1, 2, 4, 5),\n",
       " (1, 2, 4, 6),\n",
       " (1, 2, 4, 7),\n",
       " (1, 2, 5, 6),\n",
       " (1, 2, 5, 7),\n",
       " (1, 2, 6, 7),\n",
       " (1, 3, 4, 5),\n",
       " (1, 3, 4, 6),\n",
       " (1, 3, 4, 7),\n",
       " (1, 3, 5, 6),\n",
       " (1, 3, 5, 7),\n",
       " (1, 3, 6, 7),\n",
       " (1, 4, 5, 6),\n",
       " (1, 4, 5, 7),\n",
       " (1, 4, 6, 7),\n",
       " (1, 5, 6, 7),\n",
       " (2, 3, 4, 5),\n",
       " (2, 3, 4, 6),\n",
       " (2, 3, 4, 7),\n",
       " (2, 3, 5, 6),\n",
       " (2, 3, 5, 7),\n",
       " (2, 3, 6, 7),\n",
       " (2, 4, 5, 6),\n",
       " (2, 4, 5, 7),\n",
       " (2, 4, 6, 7),\n",
       " (2, 5, 6, 7),\n",
       " (3, 4, 5, 6),\n",
       " (3, 4, 5, 7),\n",
       " (3, 4, 6, 7),\n",
       " (3, 5, 6, 7),\n",
       " (4, 5, 6, 7)]"
      ]
     },
     "execution_count": 4,
     "metadata": {},
     "output_type": "execute_result"
    }
   ],
   "source": [
    "poss = list(itertools.combinations(cups, 4))\n",
    "poss"
   ]
  },
  {
   "cell_type": "markdown",
   "id": "e328412c-dcd2-49b4-a8cc-7c5af125e21a",
   "metadata": {},
   "source": [
    "Above any combination of the first iteration the list 0,1,2,3 is not found anywhere else on the list.  \n",
    "Eg. 0,1,2,3, and 1,0,2,3 and 3,0,2,1 and all other combinations of those 4 numbers are considerd the same choice."
   ]
  },
  {
   "cell_type": "markdown",
   "id": "3362d116-243d-425d-983f-e8e27b2fe2e2",
   "metadata": {
    "tags": []
   },
   "source": [
    "### Hypotheses"
   ]
  },
  {
   "cell_type": "markdown",
   "id": "b13bf81c-7261-4dd5-9154-167dc4f6142d",
   "metadata": {},
   "source": [
    "In his book, Fisher describes the *null hypothesis*.  \n",
    "It is the statement to be countered by the experiment.  \n",
    "In this case it is the hypothesis that the subject cannot tell the difference between a cup of tea that had milk in it first and one that had the tea in it first.\n",
    "\n",
    "**Null Hypothesis:** The subject can not tell if the cup had milk in it first or last.\n",
    "\n",
    "\n",
    "Once we collect the experimental data we evaluate how likely we were to see such data if the null hypothesis is true.  \n",
    "If it is very unlikely, then we may reject the null hypothesis.  \n",
    "Typically we have an alternative hypothesis that we suggest rejecting the null hypothesis is evidence for.\n",
    "\n",
    "**Alternative Hypothesis:** The subject can tell.\n",
    "\n",
    "Should the subject pick the correct four cups with milk in them first, there is only a 1 in 70 (~1.4%) chance of them having done that if they were simply guessing.  \n",
    "Fisher considered that unlikely enough to reject the null hypothesis if they manage it."
   ]
  },
  {
   "cell_type": "code",
   "execution_count": 5,
   "id": "7d4aa994-1408-441e-9ab8-b2bbbb2058bc",
   "metadata": {},
   "outputs": [
    {
     "data": {
      "text/plain": [
       "0.014285714285714285"
      ]
     },
     "execution_count": 5,
     "metadata": {},
     "output_type": "execute_result"
    }
   ],
   "source": [
    "# Only one of the 70 randomly selected possibilities is the desired result.\n",
    "1.0 / 70.0"
   ]
  },
  {
   "cell_type": "markdown",
   "id": "504a05b4-b69a-49c7-bd95-fd18001e2bee",
   "metadata": {},
   "source": [
    "# Example 1\n",
    "<hr style = \"border-top: 1px solid #001a79;\" />\n",
    "\n",
    "The above investigation shows about a 1.4% chance of randomly selecting the correct cups. I will no alculate the minimum number of cups of tea required to ensure the probability of randomly selecting the correct cups is less than or equal to 1%."
   ]
  },
  {
   "cell_type": "markdown",
   "id": "aa316754-e317-43fb-950f-92df774a096d",
   "metadata": {},
   "source": [
    "This code is adapted from https://stackoverflow.com/a/4941932/17170567"
   ]
  },
  {
   "cell_type": "markdown",
   "id": "2c909771-50ca-402c-b48a-eaf73bd39bc3",
   "metadata": {},
   "source": [
    "##### Prove out the original Tea test\n",
    "<hr style = \"border-top: 1px solid #001a79;\" />\n",
    "\n",
    "Below I am going to check the math module checks to see that the comb function will return the same number of combinations from itertools that I had used above - expected result is 70."
   ]
  },
  {
   "cell_type": "code",
   "execution_count": 52,
   "id": "7ae6e642-61e3-44a9-b2c3-5e556cfa2d2f",
   "metadata": {},
   "outputs": [
    {
     "data": {
      "text/plain": [
       "70"
      ]
     },
     "execution_count": 52,
     "metadata": {},
     "output_type": "execute_result"
    }
   ],
   "source": [
    "#Number of ways of selecting 4 cups from 8\n",
    "math.comb(8,4)"
   ]
  },
  {
   "cell_type": "markdown",
   "id": "77080a7e-26ad-469e-9399-ce288ae41964",
   "metadata": {},
   "source": [
    "So now I know that I got the result I expeted I can prove that randomly choosing the correct combination has just over a 1.4% chance of occurence."
   ]
  },
  {
   "cell_type": "code",
   "execution_count": 53,
   "id": "78f672ef-654b-486f-b8dc-33c8a21a6d65",
   "metadata": {},
   "outputs": [
    {
     "data": {
      "text/plain": [
       "1.4285714285714286"
      ]
     },
     "execution_count": 53,
     "metadata": {},
     "output_type": "execute_result"
    }
   ],
   "source": [
    "# Proof\n",
    "(1.0 / math.comb(8, 4))*100"
   ]
  },
  {
   "cell_type": "markdown",
   "id": "1a30c86f-6235-4b29-a13e-ad5dc72cbc8c",
   "metadata": {},
   "source": [
    "##### Increase to 10 cups\n",
    "<hr style = \"border-top: 1px solid #001a79;\" />\n",
    "\n",
    "So now I am going to increase the number of cups to 10, as the more cups there are the more choices there are, which in turn will decrease the odds of the single correct choice occuring during a random selection."
   ]
  },
  {
   "cell_type": "code",
   "execution_count": 54,
   "id": "6902c5f6-30ac-4255-a2d0-8e3f85c9ecc5",
   "metadata": {},
   "outputs": [
    {
     "data": {
      "text/plain": [
       "252"
      ]
     },
     "execution_count": 54,
     "metadata": {},
     "output_type": "execute_result"
    }
   ],
   "source": [
    "#Number of ways of selecting 5 cups from 10\n",
    "math.comb(10,5)"
   ]
  },
  {
   "cell_type": "markdown",
   "id": "45fd37eb-604a-4fdd-b21b-8c2a85fab263",
   "metadata": {},
   "source": [
    "Here we see when we introduce 10 cups and require 5 are made with tea bag first and 5 with milk first, there are 252 combinations, far greater than the 70 combinations previously. This will greatly decrease the chance of the random selection being correct. Lets see."
   ]
  },
  {
   "cell_type": "code",
   "execution_count": 55,
   "id": "ad17d152-4813-4931-af85-c3110504384c",
   "metadata": {},
   "outputs": [
    {
     "data": {
      "text/plain": [
       "0.3968253968253968"
      ]
     },
     "execution_count": 55,
     "metadata": {},
     "output_type": "execute_result"
    }
   ],
   "source": [
    "#Probability of randomly selecting correct 5 cups is:\n",
    "(1.0 / math.comb(10, 5))*100"
   ]
  },
  {
   "cell_type": "markdown",
   "id": "32b0b895-a0ac-48f2-9e8e-5c0f7769462d",
   "metadata": {},
   "source": [
    "So if the experiment was done with 10 cups total, 5 with milk in first and 5 with tea in first the chance of selecting randomly is much less than 1% - it is actully just under 0.4% - It is possible that this is the correct answer."
   ]
  },
  {
   "cell_type": "markdown",
   "id": "3f130510-62ae-4f14-8291-fe45c3f993c7",
   "metadata": {},
   "source": [
    "##### Decrease to 9 cups\n",
    "<hr style = \"border-top: 1px solid #001a79;\" />\n",
    "\n",
    "The question is to find the **minimum** number of cups where the threshold is <= 1% so to I will now split the difference and develop the experiment to have 9 cups in total, 4 with milk first and 5 with tea first, or vice versa."
   ]
  },
  {
   "cell_type": "code",
   "execution_count": 56,
   "id": "3ba93911-e4ad-4189-8d6f-96bbe3ddcd8d",
   "metadata": {},
   "outputs": [
    {
     "data": {
      "text/plain": [
       "126"
      ]
     },
     "execution_count": 56,
     "metadata": {},
     "output_type": "execute_result"
    }
   ],
   "source": [
    "# Num of ways selecting 4 cups from 9\n",
    "math.comb(9, 4)"
   ]
  },
  {
   "cell_type": "code",
   "execution_count": 57,
   "id": "3197d7c2-865e-4bac-a807-3648570e923d",
   "metadata": {},
   "outputs": [
    {
     "data": {
      "text/plain": [
       "0.7936507936507936"
      ]
     },
     "execution_count": 57,
     "metadata": {},
     "output_type": "execute_result"
    }
   ],
   "source": [
    "# The Probability is then \n",
    "(1.0/math.comb(9, 4))*100"
   ]
  },
  {
   "cell_type": "markdown",
   "id": "52262db9-c1ca-48f2-b449-88077e714670",
   "metadata": {},
   "source": [
    "Also less than 1% - round to .8%"
   ]
  },
  {
   "cell_type": "code",
   "execution_count": 58,
   "id": "306ae906-494a-4317-bb37-4dd09ec404a7",
   "metadata": {},
   "outputs": [
    {
     "data": {
      "text/plain": [
       "0.7936507936507936"
      ]
     },
     "execution_count": 58,
     "metadata": {},
     "output_type": "execute_result"
    }
   ],
   "source": [
    "# Note the number of ways of selecting 5 cups from 9 is also 126\n",
    "# Proof\n",
    "(1.0/math.comb(9, 5))*100"
   ]
  },
  {
   "cell_type": "markdown",
   "id": "5682167f-098b-419a-b391-5c5fff8b59fb",
   "metadata": {},
   "source": [
    "##### The Correct Solution\n",
    "<hr style = \"border-top: 1px solid #001a79;\" />\n",
    "\n",
    "So of the 3 tests that I ran:  \n",
    "- 8 cups, choose 4, the chance of randomly chosing the correct selection is **1.42%**.  \n",
    "- 10 cups, choose 5, the chance of randomly chosing the correct selection is **0.39%**.   \n",
    "- 9 cups, choose 4 or 5, the chance of randomly chosing the correct selection is **0.79%**.  \n",
    "\n",
    "So we can definitively say that 9 cups is the minimum number of cups required so the chance of randomly making the correct selection is <=1%.  \n",
    " "
   ]
  },
  {
   "cell_type": "code",
   "execution_count": null,
   "id": "6bd99e39-e060-4158-a3d0-c0c1347412c6",
   "metadata": {},
   "outputs": [],
   "source": []
  },
  {
   "cell_type": "markdown",
   "id": "f8d4cc94-fd55-4d02-b735-4e6e575ff492",
   "metadata": {},
   "source": [
    "# Example 2\n",
    "<hr style = \"border-top: 1px solid #001a79;\" />\n",
    "\n",
    "##### Use scipy's version of Fishers Exact Test to simulate the Lady Tasting Tea Problem"
   ]
  },
  {
   "cell_type": "markdown",
   "id": "c3fc4a87-090f-4ce0-8c5b-619ba1077366",
   "metadata": {},
   "source": [
    "We know from the investigation above that the number of ways of selecting 4 cups from 8 is 70. \n",
    "Therefore the odds from a random selection the odds of choosing the 4 cups where the milk has been added first is 1/70 or 0.014285714285714285"
   ]
  },
  {
   "cell_type": "code",
   "execution_count": 59,
   "id": "0fad2eb9-74ae-4df2-a622-577468de900d",
   "metadata": {},
   "outputs": [
    {
     "data": {
      "text/plain": [
       "0.014285714285714285"
      ]
     },
     "execution_count": 59,
     "metadata": {},
     "output_type": "execute_result"
    }
   ],
   "source": [
    "# Show 1 divided by 70\n",
    "1/70"
   ]
  },
  {
   "cell_type": "markdown",
   "id": "26b7fc35-5139-4a73-b687-c396549cd7b5",
   "metadata": {},
   "source": [
    "Here I am going to create a table to visualise the data - the code here is adapated from: https://towardsdatascience.com/fishers-exact-test-from-scratch-with-python-2b907f29e593"
   ]
  },
  {
   "cell_type": "code",
   "execution_count": 60,
   "id": "51f80147-5b4f-4b93-95ad-ed83545902db",
   "metadata": {},
   "outputs": [
    {
     "data": {
      "text/html": [
       "<div>\n",
       "<style scoped>\n",
       "    .dataframe tbody tr th:only-of-type {\n",
       "        vertical-align: middle;\n",
       "    }\n",
       "\n",
       "    .dataframe tbody tr th {\n",
       "        vertical-align: top;\n",
       "    }\n",
       "\n",
       "    .dataframe thead th {\n",
       "        text-align: right;\n",
       "    }\n",
       "</style>\n",
       "<table border=\"1\" class=\"dataframe\">\n",
       "  <thead>\n",
       "    <tr style=\"text-align: right;\">\n",
       "      <th></th>\n",
       "      <th>Milk_Guess</th>\n",
       "      <th>Tea_Guess</th>\n",
       "    </tr>\n",
       "  </thead>\n",
       "  <tbody>\n",
       "    <tr>\n",
       "      <th>Milk_Poured</th>\n",
       "      <td>4</td>\n",
       "      <td>0</td>\n",
       "    </tr>\n",
       "    <tr>\n",
       "      <th>Tea_Poured</th>\n",
       "      <td>0</td>\n",
       "      <td>4</td>\n",
       "    </tr>\n",
       "  </tbody>\n",
       "</table>\n",
       "</div>"
      ],
      "text/plain": [
       "             Milk_Guess  Tea_Guess\n",
       "Milk_Poured           4          0\n",
       "Tea_Poured            0          4"
      ]
     },
     "execution_count": 60,
     "metadata": {},
     "output_type": "execute_result"
    }
   ],
   "source": [
    "#Create Table with Pandas\n",
    "ar=np.array([[4, 0],[0, 4]])    \n",
    "df=pd.DataFrame(ar, columns=[\"Milk_Guess\", \"Tea_Guess\"])\n",
    "df.index=[\"Milk_Poured\", \"Tea_Poured\"] \n",
    "df "
   ]
  },
  {
   "cell_type": "code",
   "execution_count": 61,
   "id": "c641568b-3c5b-4b64-b292-a90eae426365",
   "metadata": {},
   "outputs": [
    {
     "data": {
      "text/html": [
       "<div>\n",
       "<style scoped>\n",
       "    .dataframe tbody tr th:only-of-type {\n",
       "        vertical-align: middle;\n",
       "    }\n",
       "\n",
       "    .dataframe tbody tr th {\n",
       "        vertical-align: top;\n",
       "    }\n",
       "\n",
       "    .dataframe thead th {\n",
       "        text-align: right;\n",
       "    }\n",
       "</style>\n",
       "<table border=\"1\" class=\"dataframe\">\n",
       "  <thead>\n",
       "    <tr style=\"text-align: right;\">\n",
       "      <th></th>\n",
       "      <th>Milk_Guess</th>\n",
       "      <th>Tea_Guess</th>\n",
       "      <th>Row_Total</th>\n",
       "    </tr>\n",
       "  </thead>\n",
       "  <tbody>\n",
       "    <tr>\n",
       "      <th>Milk_Poured</th>\n",
       "      <td>4</td>\n",
       "      <td>0</td>\n",
       "      <td>4</td>\n",
       "    </tr>\n",
       "    <tr>\n",
       "      <th>Tea_Poured</th>\n",
       "      <td>0</td>\n",
       "      <td>4</td>\n",
       "      <td>4</td>\n",
       "    </tr>\n",
       "    <tr>\n",
       "      <th>Column_Total</th>\n",
       "      <td>4</td>\n",
       "      <td>4</td>\n",
       "      <td>8</td>\n",
       "    </tr>\n",
       "  </tbody>\n",
       "</table>\n",
       "</div>"
      ],
      "text/plain": [
       "              Milk_Guess  Tea_Guess  Row_Total\n",
       "Milk_Poured            4          0          4\n",
       "Tea_Poured             0          4          4\n",
       "Column_Total           4          4          8"
      ]
     },
     "execution_count": 61,
     "metadata": {},
     "output_type": "execute_result"
    }
   ],
   "source": [
    "# Add the marginal totals and the grand total\n",
    "df2=df.copy()\n",
    "df2.loc['Column_Total']= df2.sum(numeric_only=True, axis=0)\n",
    "df2.loc[:,'Row_Total'] = df2.sum(numeric_only=True, axis=1)\n",
    "df2"
   ]
  },
  {
   "cell_type": "markdown",
   "id": "cfddaed4-8fd2-4d92-9c29-56c7d4c590dd",
   "metadata": {},
   "source": [
    "First I want to calculate the expected values for each cell in our contingency table. The expected values represent the numbers that should be found in each cell of the table if there’s no association between the two variables “Guess” and “Poured”. For each cell we calculate its expected value by multiplying its respective Row_Total with its respective Column_Total and finally divide by the grand total. In this case that would be **(4/8) * (4/8) * 8** *or* **(4*4) / 8**"
   ]
  },
  {
   "cell_type": "code",
   "execution_count": 62,
   "id": "1283c3b1-55c7-4899-8343-468717902905",
   "metadata": {},
   "outputs": [
    {
     "data": {
      "text/plain": [
       "2.0"
      ]
     },
     "execution_count": 62,
     "metadata": {},
     "output_type": "execute_result"
    }
   ],
   "source": [
    "# Calculating Expected value in each cell\n",
    "(4*4) / 8"
   ]
  },
  {
   "cell_type": "markdown",
   "id": "b3bc1d2a-2035-4f62-b227-7c04cc6cd5e7",
   "metadata": {},
   "source": [
    "This test is a little obvious as with 4 choices out of 8 cups the odds at random would be you would get two right and two wrong, but if you used odd numbers or skewed the data by only filling 3 cups with milk first and 5 with tea first you would get floating numbers as your answers"
   ]
  },
  {
   "cell_type": "code",
   "execution_count": 63,
   "id": "ddc3a54d-929f-4cd7-9a96-95077577e48c",
   "metadata": {},
   "outputs": [
    {
     "data": {
      "text/html": [
       "<div>\n",
       "<style scoped>\n",
       "    .dataframe tbody tr th:only-of-type {\n",
       "        vertical-align: middle;\n",
       "    }\n",
       "\n",
       "    .dataframe tbody tr th {\n",
       "        vertical-align: top;\n",
       "    }\n",
       "\n",
       "    .dataframe thead th {\n",
       "        text-align: right;\n",
       "    }\n",
       "</style>\n",
       "<table border=\"1\" class=\"dataframe\">\n",
       "  <thead>\n",
       "    <tr style=\"text-align: right;\">\n",
       "      <th></th>\n",
       "      <th>Milk_Guess</th>\n",
       "      <th>Tea_Guess</th>\n",
       "    </tr>\n",
       "  </thead>\n",
       "  <tbody>\n",
       "    <tr>\n",
       "      <th>Milk_Poured</th>\n",
       "      <td>5</td>\n",
       "      <td>0</td>\n",
       "    </tr>\n",
       "    <tr>\n",
       "      <th>Tea_Poured</th>\n",
       "      <td>0</td>\n",
       "      <td>3</td>\n",
       "    </tr>\n",
       "  </tbody>\n",
       "</table>\n",
       "</div>"
      ],
      "text/plain": [
       "             Milk_Guess  Tea_Guess\n",
       "Milk_Poured           5          0\n",
       "Tea_Poured            0          3"
      ]
     },
     "execution_count": 63,
     "metadata": {},
     "output_type": "execute_result"
    }
   ],
   "source": [
    "#Create Table with Pandas\n",
    "ar=np.array([[5, 0],[0, 3]])    \n",
    "df=pd.DataFrame(ar, columns=[\"Milk_Guess\", \"Tea_Guess\"])\n",
    "df.index=[\"Milk_Poured\", \"Tea_Poured\"] \n",
    "df "
   ]
  },
  {
   "cell_type": "code",
   "execution_count": 64,
   "id": "c0990151-f60b-4b0a-be0a-2bf5c127398c",
   "metadata": {},
   "outputs": [
    {
     "data": {
      "text/html": [
       "<div>\n",
       "<style scoped>\n",
       "    .dataframe tbody tr th:only-of-type {\n",
       "        vertical-align: middle;\n",
       "    }\n",
       "\n",
       "    .dataframe tbody tr th {\n",
       "        vertical-align: top;\n",
       "    }\n",
       "\n",
       "    .dataframe thead th {\n",
       "        text-align: right;\n",
       "    }\n",
       "</style>\n",
       "<table border=\"1\" class=\"dataframe\">\n",
       "  <thead>\n",
       "    <tr style=\"text-align: right;\">\n",
       "      <th></th>\n",
       "      <th>Milk_Guess</th>\n",
       "      <th>Tea_Guess</th>\n",
       "      <th>Row_Total</th>\n",
       "    </tr>\n",
       "  </thead>\n",
       "  <tbody>\n",
       "    <tr>\n",
       "      <th>Milk_Poured</th>\n",
       "      <td>5</td>\n",
       "      <td>0</td>\n",
       "      <td>5</td>\n",
       "    </tr>\n",
       "    <tr>\n",
       "      <th>Tea_Poured</th>\n",
       "      <td>0</td>\n",
       "      <td>3</td>\n",
       "      <td>3</td>\n",
       "    </tr>\n",
       "    <tr>\n",
       "      <th>Column_Total</th>\n",
       "      <td>5</td>\n",
       "      <td>3</td>\n",
       "      <td>8</td>\n",
       "    </tr>\n",
       "  </tbody>\n",
       "</table>\n",
       "</div>"
      ],
      "text/plain": [
       "              Milk_Guess  Tea_Guess  Row_Total\n",
       "Milk_Poured            5          0          5\n",
       "Tea_Poured             0          3          3\n",
       "Column_Total           5          3          8"
      ]
     },
     "execution_count": 64,
     "metadata": {},
     "output_type": "execute_result"
    }
   ],
   "source": [
    "# Add the marginal totals and the grand total\n",
    "df2=df.copy()\n",
    "df2.loc['Column_Total']= df2.sum(numeric_only=True, axis=0)\n",
    "df2.loc[:,'Row_Total'] = df2.sum(numeric_only=True, axis=1)\n",
    "df2"
   ]
  },
  {
   "cell_type": "markdown",
   "id": "f6cbae07-70ae-44cb-ae72-956a37961297",
   "metadata": {},
   "source": [
    "Here when we multiply the respective Row_Total with its respective Column_Total and divide by the grand total the formula for the expected outcome for each figure would be (5/8) * (3/8) * 8 or (5*3) / 8"
   ]
  },
  {
   "cell_type": "code",
   "execution_count": 65,
   "id": "5429595c-d53c-496b-8f02-46efdf88fbc8",
   "metadata": {},
   "outputs": [
    {
     "data": {
      "text/plain": [
       "1.875"
      ]
     },
     "execution_count": 65,
     "metadata": {},
     "output_type": "execute_result"
    }
   ],
   "source": [
    "# Calculating Expected value in each cell\n",
    "(5*3) / 8"
   ]
  },
  {
   "cell_type": "markdown",
   "id": "e545bcbd-1ba6-4a45-8c59-ca1cd592ff32",
   "metadata": {},
   "source": [
    "So now we have the expected value for each cell (we are going back to the **(4*4) / 8** scenario as that was the original question).\n",
    "We will now try to use the fisher_exact method from scipy.stats to get the value of the chances of 4 random choices picking the all 4 of exact right cups (tea first is the correct way - I dont care what anyone says!!)"
   ]
  },
  {
   "cell_type": "code",
   "execution_count": 66,
   "id": "91681214-6d73-4d55-a101-09dbb2121ea7",
   "metadata": {},
   "outputs": [
    {
     "data": {
      "text/plain": [
       "<function scipy.stats.stats.fisher_exact(table, alternative='two-sided')>"
      ]
     },
     "execution_count": 66,
     "metadata": {},
     "output_type": "execute_result"
    }
   ],
   "source": [
    "# Run the Fisher_exact method\n",
    "ss.fisher_exact"
   ]
  },
  {
   "cell_type": "code",
   "execution_count": 67,
   "id": "345d2754-ec29-42cd-b923-033ad7e34e6f",
   "metadata": {},
   "outputs": [],
   "source": [
    "#This is my data\n",
    "data = [[4,0],[0,4]]"
   ]
  },
  {
   "cell_type": "code",
   "execution_count": 68,
   "id": "899a171d-26b9-4703-b8d4-2e2f0b4c2615",
   "metadata": {},
   "outputs": [
    {
     "data": {
      "text/plain": [
       "(inf, 0.028571428571428536)"
      ]
     },
     "execution_count": 68,
     "metadata": {},
     "output_type": "execute_result"
    }
   ],
   "source": [
    "# Running the fisher exact method using the data from my original table\n",
    "ss.fisher_exact(data)"
   ]
  },
  {
   "cell_type": "markdown",
   "id": "d0cb643d-217c-4e52-916d-18e0cb06018d",
   "metadata": {},
   "source": [
    "So here I was expecting to get the value of 1/70 or 0.014285714285714285 to be exact. However as you can see the figure produced from the code above does not match, however it is suspisiously almost exactly double what I expected (beyond 10 decimal places). So here I went back to the scipy.stats Fisher Exact Test documentation, see link here: https://docs.scipy.org/doc/scipy/reference/generated/scipy.stats.fisher_exact.html  \n",
    "From the documentation I could see that there were numerous values that defines the hypothesis using the \"alternative\" parameter.\n",
    "\n",
    " - ‘two-sided’: the odds ratio of the underlying population is not one **(THIS IS THE DEFAULT IF NO VALUE IS DECLARED)**\n",
    " - ‘less’: the odds ratio of the underlying population is less than one\n",
    " - ‘greater’: the odds ratio of the underlying population is greater than one\n",
    "\n",
    "Now we know that the formuala for the odds ratio is:\n",
    "\n",
    "<img src=\"Images\\odds_r.jpg\" style=\"margin:auto\"/>\n",
    "\n",
    "\n",
    "However, because we know the input data has a 0 input, this will return inf (infinty) for the odds ratio.  \n",
    "\n",
    "*\"If you have an infinite odds in the denominator, then your odds ratio is zero. If you have a zero odds in the denominator, then your odds ratio is infinite.\"* [[6]](http://blog.pmean.com/zero-or-infinity/) \n",
    "\n",
    "Now I am not a mathematian by any means, in my mind infinity is a kind of mythical unachievable entity, however from my limited understanding and research this is the clearest explanation I found: \n",
    "\n",
    "*\"Infinity is not a real number.  \n",
    "Infinity is a number, in other contexts. For example, in the Extended Real Numbers, it is a number. This set is of a huge importance for subjects like measure theory and integration theory. In the Ordinals or in the Cardinals (used extensively in set theory), infinity isn't just a number, it is an entire range of numbers.  \n",
    "And yes, in all of these systems, infinity is greater than one.\"*[[7]](https://math.stackexchange.com/questions/2387286/is-infinity-larger-than-1)\n",
    "\n",
    "If we take  this as true and look at the 3 paramaters, that would mean that the *\"greater\"* parameter should be applied to the data for this example of the Tea Test."
   ]
  },
  {
   "cell_type": "code",
   "execution_count": 69,
   "id": "50eaf9ea-7e8d-46dd-8104-b50f2aa21c58",
   "metadata": {},
   "outputs": [],
   "source": [
    "oddsr, p = ss.fisher_exact(data, alternative='greater')"
   ]
  },
  {
   "cell_type": "code",
   "execution_count": 70,
   "id": "c6fad806-7257-463f-bdd8-ea44c1d3c47f",
   "metadata": {},
   "outputs": [
    {
     "data": {
      "text/plain": [
       "(inf, 0.014285714285714268)"
      ]
     },
     "execution_count": 70,
     "metadata": {},
     "output_type": "execute_result"
    }
   ],
   "source": [
    "# Odds ratio returning infinity as expected and we are now returing the 0.014285... (1/70)\n",
    "oddsr, p"
   ]
  },
  {
   "cell_type": "markdown",
   "id": "a2f459f9-80a4-47ec-b055-db0212007fe0",
   "metadata": {},
   "source": [
    "# Citations"
   ]
  },
  {
   "cell_type": "markdown",
   "id": "2f222c8a-40aa-43ed-9b74-1ed3be096671",
   "metadata": {},
   "source": [
    "1. James, G., Witten, D., Hastie, T., & Tibshirani, R. (2021 - Second Edition). An Introduction to Statistical Learning. Springer New York, Page 1. https://www.statlearning.com/\n",
    "2. R. Anderson, D. (2022, September 20). Statistics. https://www.britannica.com/science/statistics\n",
    "3. Albertson, Aaron. “All Guides: Data Module #1: What Is Research Data?: Data and Statistics.” Libguides.macalester.edu, https://libguides.macalester.edu/c.php?g=527786&p=3608657.\n",
    "4. Hald, Anders (1998). A History of Mathematical Statistics. New York: Wiley. ISBN 978-0-471-17912-2.\n",
    "5. Efron, Bradley (1998), \"R. A. Fisher in the 21st century\", Statistical Science, 13 (2): 95–122, doi:10.1214/ss/1028905930"
   ]
  },
  {
   "cell_type": "code",
   "execution_count": null,
   "id": "1cad52f0-89d8-4781-8a52-0b7b48529352",
   "metadata": {},
   "outputs": [],
   "source": []
  },
  {
   "cell_type": "code",
   "execution_count": null,
   "id": "4e9b59e4-11a2-4bd4-85db-a521997033df",
   "metadata": {},
   "outputs": [],
   "source": []
  },
  {
   "cell_type": "code",
   "execution_count": null,
   "id": "b78c00da-4181-45a3-b137-88d1715386e8",
   "metadata": {},
   "outputs": [],
   "source": []
  },
  {
   "cell_type": "code",
   "execution_count": null,
   "id": "95fbde1d-f42e-49d4-af12-70be36b3bcac",
   "metadata": {},
   "outputs": [],
   "source": []
  },
  {
   "cell_type": "code",
   "execution_count": null,
   "id": "412511ea-8776-4a17-a642-9ef6f85faf56",
   "metadata": {},
   "outputs": [],
   "source": []
  },
  {
   "cell_type": "code",
   "execution_count": null,
   "id": "4d63be2c-43e5-41ce-9ef7-de91e313cc8a",
   "metadata": {},
   "outputs": [],
   "source": []
  },
  {
   "cell_type": "code",
   "execution_count": null,
   "id": "62d0893b-7409-4088-99eb-70a7030b2bea",
   "metadata": {},
   "outputs": [],
   "source": []
  },
  {
   "cell_type": "code",
   "execution_count": null,
   "id": "f5ce9a96-9bd4-450f-b174-ab65d875b172",
   "metadata": {},
   "outputs": [],
   "source": []
  },
  {
   "cell_type": "code",
   "execution_count": null,
   "id": "fe4b2e89-0828-4631-8394-c259eeedb68a",
   "metadata": {},
   "outputs": [],
   "source": []
  },
  {
   "cell_type": "markdown",
   "id": "8c1d7977-95d7-4404-a4f8-c0881fefcce8",
   "metadata": {},
   "source": [
    "# The t-Test\n",
    "\n",
    "**A *t-Test* is an inferential statistic used to determine if there is a significant difference between the means of two groups and how they are related.**  \n",
    "T-tests are used when the data sets follow a normal distribution and have unknown variances, like the data set recorded from flipping a coin 100 times.  \n",
    "\n",
    "##### Key Takeaways\n",
    " - A t-test is an inferential statistic used to determine if there is a statistically significant difference between the means of two variables.  \n",
    " - The t-test is a test used for hypothesis testing in statistics.  \n",
    " - Calculating a t-test requires three fundamental data values including the difference between the mean values from each data set, the standard deviation of each group, and the number of data values.  \n",
    " - T-tests can be dependent or independent.  \n",
    " \n",
    " ##### Assumptions of a **t-Test**\n",
    "Four assumptions are made while using a t-test.  \n",
    " - The data collected must follow a continuous or ordinal scale, such as the scores for an IQ test.  \n",
    " - The data is collected from a randomly selected portion of the total population.  \n",
    " - The data will result in a normal distribution of a bell-shaped curve.  \n",
    " - Equal or homogenous variance exists when the standard variations are equal.  \n",
    "[Investopedia](https://www.investopedia.com/terms/t/t-test.asp)"
   ]
  },
  {
   "cell_type": "markdown",
   "id": "9c56b09e-cb1e-4f75-9136-fb93aabdb507",
   "metadata": {},
   "source": [
    "### Simulated Data\n",
    "\n",
    "Here I am creating a fake dataset with specfic proparties to investigate numerical methods."
   ]
  },
  {
   "cell_type": "code",
   "execution_count": 2,
   "id": "e47231ca-b184-40cb-aed6-7c69eb43b32a",
   "metadata": {},
   "outputs": [
    {
     "data": {
      "text/html": [
       "<div>\n",
       "<style scoped>\n",
       "    .dataframe tbody tr th:only-of-type {\n",
       "        vertical-align: middle;\n",
       "    }\n",
       "\n",
       "    .dataframe tbody tr th {\n",
       "        vertical-align: top;\n",
       "    }\n",
       "\n",
       "    .dataframe thead th {\n",
       "        text-align: right;\n",
       "    }\n",
       "</style>\n",
       "<table border=\"1\" class=\"dataframe\">\n",
       "  <thead>\n",
       "    <tr style=\"text-align: right;\">\n",
       "      <th></th>\n",
       "      <th>Category</th>\n",
       "      <th>Value</th>\n",
       "    </tr>\n",
       "  </thead>\n",
       "  <tbody>\n",
       "    <tr>\n",
       "      <th>0</th>\n",
       "      <td>A</td>\n",
       "      <td>1.936552</td>\n",
       "    </tr>\n",
       "    <tr>\n",
       "      <th>1</th>\n",
       "      <td>A</td>\n",
       "      <td>1.199681</td>\n",
       "    </tr>\n",
       "    <tr>\n",
       "      <th>2</th>\n",
       "      <td>A</td>\n",
       "      <td>0.877803</td>\n",
       "    </tr>\n",
       "    <tr>\n",
       "      <th>3</th>\n",
       "      <td>A</td>\n",
       "      <td>1.886956</td>\n",
       "    </tr>\n",
       "    <tr>\n",
       "      <th>4</th>\n",
       "      <td>A</td>\n",
       "      <td>1.508017</td>\n",
       "    </tr>\n",
       "    <tr>\n",
       "      <th>...</th>\n",
       "      <td>...</td>\n",
       "      <td>...</td>\n",
       "    </tr>\n",
       "    <tr>\n",
       "      <th>75</th>\n",
       "      <td>B</td>\n",
       "      <td>1.422550</td>\n",
       "    </tr>\n",
       "    <tr>\n",
       "      <th>76</th>\n",
       "      <td>B</td>\n",
       "      <td>2.137528</td>\n",
       "    </tr>\n",
       "    <tr>\n",
       "      <th>77</th>\n",
       "      <td>B</td>\n",
       "      <td>2.113846</td>\n",
       "    </tr>\n",
       "    <tr>\n",
       "      <th>78</th>\n",
       "      <td>B</td>\n",
       "      <td>2.020863</td>\n",
       "    </tr>\n",
       "    <tr>\n",
       "      <th>79</th>\n",
       "      <td>B</td>\n",
       "      <td>2.207305</td>\n",
       "    </tr>\n",
       "  </tbody>\n",
       "</table>\n",
       "<p>80 rows × 2 columns</p>\n",
       "</div>"
      ],
      "text/plain": [
       "   Category     Value\n",
       "0         A  1.936552\n",
       "1         A  1.199681\n",
       "2         A  0.877803\n",
       "3         A  1.886956\n",
       "4         A  1.508017\n",
       "..      ...       ...\n",
       "75        B  1.422550\n",
       "76        B  2.137528\n",
       "77        B  2.113846\n",
       "78        B  2.020863\n",
       "79        B  2.207305\n",
       "\n",
       "[80 rows x 2 columns]"
      ]
     },
     "execution_count": 2,
     "metadata": {},
     "output_type": "execute_result"
    }
   ],
   "source": [
    "# Parameters for two different sets of numbers\n",
    "m_a, s_a, m_b, s_b = 1.2, 0.4, 2.0, 0.4\n",
    "\n",
    "# Sample size\n",
    "N=40\n",
    "\n",
    "# Create two lists of numbs nased on bell-shaped pabability curves.\n",
    "a = np.random.normal(loc = m_a, scale = s_a, size = N)\n",
    "b = np.random.normal(loc = m_b, scale = s_b, size = N)\n",
    "\n",
    "# Both Samples in one Dataframe(DF)\n",
    "df = pd.DataFrame({'Category': ['A'] * len(a) + ['B'] * len(b), 'Value':np.hstack([a,b])})\n",
    "\n",
    "# Look at the nums\n",
    "df\n"
   ]
  },
  {
   "cell_type": "markdown",
   "id": "a14aa1b8-5929-4697-9cf5-f6512f1e58b1",
   "metadata": {},
   "source": [
    "This has created a dataframe with 2 columns (Category and Value) - 40 of the numbers are **Category A** (Mean is 1.2(centered around 1.2) and scale is 0.4) and 40 are **Category B** (Mean is 2.0(centered around 2.0) and scale is 0.4). However it is difficult to draw any conclusions around this data so lets visualize it. "
   ]
  },
  {
   "cell_type": "markdown",
   "id": "cfb5e596-2173-4dcb-b4e8-7c3bb34f377f",
   "metadata": {},
   "source": [
    "### Visualisation\n",
    "\n",
    "Here I will use a catplot from the python package seaborn to show the overlap between the two sets of data. (**A** and **B**)"
   ]
  },
  {
   "cell_type": "code",
   "execution_count": 3,
   "id": "74ac316b-fcae-4cf2-8ba8-d60567289ad6",
   "metadata": {},
   "outputs": [
    {
     "data": {
      "text/plain": [
       "<seaborn.axisgrid.FacetGrid at 0x2570ce96190>"
      ]
     },
     "execution_count": 3,
     "metadata": {},
     "output_type": "execute_result"
    },
    {
     "data": {
      "image/png": "[encoded data removed]",
      "text/plain": [
       "<Figure size 360x360 with 1 Axes>"
      ]
     },
     "metadata": {
      "needs_background": "light"
     },
     "output_type": "display_data"
    }
   ],
   "source": [
    "# Display DF in Catplot\n",
    "sns.catplot(x = 'Category', y = \"Value\", jitter = False, data=df)"
   ]
  },
  {
   "cell_type": "markdown",
   "id": "0feccb57-ec71-4e66-aaac-420880a9a0ac",
   "metadata": {},
   "source": [
    "We can see from the catplot that the majority of the numbers from **A** are centered around 1.2(normal distribution - bell curve) and from **B** they are centered around 2.0 - this is as we would have expected, as that is how we set up the data.  \n",
    "We can see there is significent overlap betweent the 2 lines - mostly between the values of 1.4 and 1.8.  \n",
    "Now I know the data is different as I created it  - however it would be hard to convince my boss or whoever as to how significantly different it is based on the image above, as there is so much overlap.\n",
    "\n",
    "One way to show the diffence in this data (we are now assuming that we didnt create it - where/how A and B were created is \"unknown\") is by using a test called the t-Test.  (**Not Tea Test, t-Test!!**)"
   ]
  },
  {
   "cell_type": "markdown",
   "id": "3e0e91e8-d536-4f71-aba2-283f783144f4",
   "metadata": {},
   "source": [
    "#### t-Test Example using built in packages\n",
    "\n",
    "So first question is how did I know to run this test. Well I simply googled ***\"best test to compare 2 sets of data\".***  \n",
    "The first result i got was this: \n",
    "\n",
    "\n",
    "<img src=\"Images\\t_test_search.PNG\" style=\"margin:auto\"/>\n"
   ]
  },
  {
   "cell_type": "markdown",
   "id": "d07b611c-7498-4c4d-ab5c-0498a31f5825",
   "metadata": {},
   "source": [
    "From there I searched for the t-test in python and began to see was it applicable to my data.  \n",
    "From a brife search it was clear a lot or research and work had already been done on this topic.  \n",
    "It was now a matter of finding the correct type of **t-Test** that was relavent to me.\n",
    "\n",
    "There are a number of types of t-test:\n",
    " - ttest_ind: For two independent sets of data. **(This is the one I will be using)**\n",
    " - ttest_1samp:When there is only one sample of data.\n",
    " - ttest_rel: When the two data sets are related in some way."
   ]
  },
  {
   "cell_type": "markdown",
   "id": "47de1561-b4eb-4fe1-914e-48463d8b9820",
   "metadata": {},
   "source": [
    "Below I am going to run the **t-Test** using two different python libaries, just to confirm that the results are pretty much the same (May be slight discrpancy down past 9 or 10 decimal places depending on how the calculations are done in the background)."
   ]
  },
  {
   "cell_type": "code",
   "execution_count": 4,
   "id": "d61d4f83-1854-485d-a42f-431cf8a90866",
   "metadata": {},
   "outputs": [
    {
     "name": "stdout",
     "output_type": "stream",
     "text": [
      "t-value: -8.013286357255392\tp-value:8.869070901515163e-12\n",
      "P_scipy: 0.00\n"
     ]
    }
   ],
   "source": [
    "# Scipy.stats t-Test\n",
    "# See code and documentation here: https://docs.scipy.org/doc/scipy/reference/generated/scipy.stats.ttest_ind.html\n",
    "\n",
    "t_ss, p_ss = ss.ttest_ind(a, b)\n",
    "print(f\"t-value: {t_ss}\\tp-value:{p_ss}\")\n",
    "print(f\"P_scipy: {p_ss:0.2f}\")\n"
   ]
  },
  {
   "cell_type": "code",
   "execution_count": 5,
   "id": "a8be8c7e-a5e0-4a9c-935a-d8bc7964c09c",
   "metadata": {},
   "outputs": [
    {
     "name": "stdout",
     "output_type": "stream",
     "text": [
      "t-value:-8.013286357255392\tp-value: 8.869070901515163e-12\tDeg Free: 78.0\n",
      "P_statsmodels: 0.00\n"
     ]
    }
   ],
   "source": [
    "#Stats model version\n",
    "# See code and documentation here: https://www.statsmodels.org/stable/generated/statsmodels.stats.weightstats.ttest_ind.html#statsmodels.stats.weightstats.ttest_ind\n",
    "t_sm, p_sm, d_sm = stat.ttest_ind(a,b)\n",
    "print (f\"t-value:{t_sm}\\tp-value: {p_sm}\\tDeg Free: {d_sm}\")\n",
    "print(f\"P_statsmodels: {p_sm:0.2f}\")"
   ]
  },
  {
   "cell_type": "markdown",
   "id": "4be6f1e6-513d-4f31-b0a6-cb075590e513",
   "metadata": {},
   "source": [
    "Both retrun a t-value and p-value, the stats model function also returns a degree value(Degree value is the **Degrees of Freedom**, (Number of values in **a** + Number of values in **b**) - 2  In this case:(40+40)-2 = 78.\n",
    "\n",
    "So as we can see the results are the same up to around 10 decimal places for the t-value and the p-value.  "
   ]
  },
  {
   "cell_type": "markdown",
   "id": "515b58aa-7f06-4329-8699-315b2c6118a4",
   "metadata": {},
   "source": [
    "#### t-Test Example manually done"
   ]
  },
  {
   "cell_type": "code",
   "execution_count": 6,
   "id": "6c011a39-c4d4-4d33-8e6b-074f8acde86e",
   "metadata": {},
   "outputs": [],
   "source": [
    "# Calcualte the t statistic by hand\n",
    "\n",
    "#Lenghth of the arrays\n",
    "n1 = len(a)\n",
    "n2 = len(b)\n",
    "\n",
    "# Means of the samples\n",
    "m1 = np.mean(a)\n",
    "m2 = np.mean(b)\n",
    "\n",
    "# Sample Standard Deviations\n",
    "s1 = np.sqrt(np.sum((a - m1)**2) / (n1-1))\n",
    "s2 = np.sqrt(np.sum((b - m2)**2) / (n2-1))\n",
    "\n",
    "df = n1 + n2 - 2\n",
    "#print (df)"
   ]
  },
  {
   "cell_type": "code",
   "execution_count": 7,
   "id": "36f66fa1-348a-488f-93dc-844ee9a3986b",
   "metadata": {},
   "outputs": [
    {
     "data": {
      "text/plain": [
       "-8.013286357255392"
      ]
     },
     "execution_count": 7,
     "metadata": {},
     "output_type": "execute_result"
    }
   ],
   "source": [
    "\n",
    "sp2 = ((n1 - 1) * s1**2 + (n2 - 1) * s2**2) / df\n",
    "t = (m1-m2) / (np.sqrt(sp2)* np.sqrt(1.0/n1 + 1.0/n2))\n",
    "t"
   ]
  },
  {
   "cell_type": "markdown",
   "id": "2e83388c-f4a2-4b38-a9e0-e64867e2f102",
   "metadata": {},
   "source": [
    "### Populations (Set of Numbers)\n",
    "t-Tests perform calculations aon the samples from two populations to test whether the populations are likely similar.  \n",
    "\n",
    "In the real world we only see the samples and we cannot see the populations"
   ]
  },
  {
   "cell_type": "code",
   "execution_count": 8,
   "id": "56836693-f09f-4812-9749-c4b5c6402161",
   "metadata": {},
   "outputs": [
    {
     "data": {
      "image/png": "[encoded data removed]",
      "text/plain": [
       "<Figure size 720x432 with 1 Axes>"
      ]
     },
     "metadata": {
      "needs_background": "light"
     },
     "output_type": "display_data"
    }
   ],
   "source": [
    "# Creatate a plot with the following values\n",
    "x = np.linspace(-2.0, 4.0, 1000)\n",
    "\n",
    "# Plot 2 different populations on one axis\n",
    "y_a = ss.norm.pdf(x, m_a, s_a)\n",
    "y_b = ss.norm.pdf(x, m_b, s_b)\n",
    "\n",
    "fig, ax = plt.subplots(figsize = (10,6))\n",
    "\n",
    "ax.plot(x, y_a)\n",
    "ax.plot(x, y_b)\n",
    "\n",
    "plt.show()"
   ]
  },
  {
   "cell_type": "markdown",
   "id": "74c1f626-c6eb-4274-91ea-1d6316054aed",
   "metadata": {},
   "source": [
    "### Critical Value\n",
    "\n",
    "The critical value is used to make a decision regarding the calculation of the *t* statistic from the samples.\n",
    "\n",
    "If the probability of seeing such a *t* value given the hypothesis that there is no difference between the means is low, then the data is suggesting that you should reject the hypothesis"
   ]
  },
  {
   "cell_type": "code",
   "execution_count": 9,
   "id": "1a288286-dc7b-4abb-bf4e-a87fbb528908",
   "metadata": {},
   "outputs": [
    {
     "data": {
      "image/png": "[encoded data removed]",
      "text/plain": [
       "<Figure size 720x432 with 1 Axes>"
      ]
     },
     "metadata": {
      "needs_background": "light"
     },
     "output_type": "display_data"
    }
   ],
   "source": [
    "# Build the plot as an example\n",
    "\n",
    "x_t = np.linspace(-4.0, 4.0, 1000)\n",
    "t = ss.t.pdf(x_t, d_sm)\n",
    "tf = pd.DataFrame({'x':x_t, 't': t})\n",
    "\n",
    "tcrit = abs(ss.t.pdf(0.025, d_sm))\n",
    "one = tf[tf['x']>= tcrit]\n",
    "two = tf[tf['x']<= -tcrit]\n",
    "\n",
    "fig, ax = plt.subplots(figsize=(10,6))\n",
    "\n",
    "ax.plot(x_t, t)\n",
    "ax.fill_between(one['x'], one['t'], 0, facecolor = 'red')\n",
    "ax.fill_between(two['x'], two['t'], 0, facecolor = 'red')\n",
    "\n",
    "plt.show()\n"
   ]
  },
  {
   "cell_type": "markdown",
   "id": "e937a446-8706-4460-8698-3bdace6f4ff1",
   "metadata": {},
   "source": [
    "### Type 1 Errors - False Positives\n"
   ]
  },
  {
   "cell_type": "code",
   "execution_count": 10,
   "id": "f6ef5802-ced3-4320-9ab9-6a9b6c7a5755",
   "metadata": {},
   "outputs": [
    {
     "name": "stdout",
     "output_type": "stream",
     "text": [
      "4.94%\n"
     ]
    }
   ],
   "source": [
    "# Run 10000 t-tests where the means are equal\n",
    "# We should make the \"wrong\" decision (reject the hypothesis)(100*critical) per cent of the time.\n",
    "\n",
    "trials = 10000\n",
    "N = 100\n",
    "m_a, m_b, s = 2.0, 2.0, 0.3\n",
    "rejects = 0\n",
    "critical = 0.05\n",
    "\n",
    "for i in range(trials):\n",
    "    a = np.random.normal(loc = m_a, scale = s, size = N)\n",
    "    b = np.random.normal(loc = m_b, scale = s, size = N)\n",
    "    if ss.ttest_ind(a, b)[1] <= critical:\n",
    "        rejects = rejects + 1\n",
    "\n",
    "typei = 100.0 *(rejects / trials)\n",
    "print (f\"{typei:0.2f}%\")"
   ]
  },
  {
   "cell_type": "markdown",
   "id": "9a1c7e01-3f96-4c4f-b30d-a1be1c34cff8",
   "metadata": {},
   "source": [
    "### Type 2 errors - False negatives\n",
    "The chance of a false negative is harder to quantify.\n",
    "\n",
    "It depends how close the means are."
   ]
  },
  {
   "cell_type": "code",
   "execution_count": 11,
   "id": "016cecc9-2762-4741-8dde-e4cb1a3a7eed",
   "metadata": {},
   "outputs": [
    {
     "name": "stdout",
     "output_type": "stream",
     "text": [
      "34.90%\n"
     ]
    }
   ],
   "source": [
    "trials = 10000\n",
    "N = 100\n",
    "m_a, m_b, s = 2.0, 2.1, 0.3\n",
    "dont = 0\n",
    "critical = 0.05\n",
    "\n",
    "for i in range(trials):\n",
    "    a = np.random.normal(loc = m_a, scale = s, size = N)\n",
    "    b = np.random.normal(loc = m_b, scale = s, size = N)\n",
    "    if ss.ttest_ind(a, b)[1] > critical:\n",
    "        dont = dont + 1\n",
    "\n",
    "typeii = 100.0 *(dont / trials)\n",
    "print (f\"{typeii:0.2f}%\")"
   ]
  },
  {
   "cell_type": "markdown",
   "id": "08163c85-f86b-4e9a-a9a5-298a84b1b3b1",
   "metadata": {},
   "source": [
    "### Paired Samples\n",
    "\n",
    "Here we try a slightly different *t* test on repeated measures"
   ]
  },
  {
   "cell_type": "code",
   "execution_count": 12,
   "id": "ff2725a3-d71a-4867-ab34-2471ad7d5760",
   "metadata": {},
   "outputs": [
    {
     "data": {
      "text/html": [
       "<div>\n",
       "<style scoped>\n",
       "    .dataframe tbody tr th:only-of-type {\n",
       "        vertical-align: middle;\n",
       "    }\n",
       "\n",
       "    .dataframe tbody tr th {\n",
       "        vertical-align: top;\n",
       "    }\n",
       "\n",
       "    .dataframe thead th {\n",
       "        text-align: right;\n",
       "    }\n",
       "</style>\n",
       "<table border=\"1\" class=\"dataframe\">\n",
       "  <thead>\n",
       "    <tr style=\"text-align: right;\">\n",
       "      <th></th>\n",
       "      <th>Unnamed: 0</th>\n",
       "      <th>extra</th>\n",
       "      <th>group</th>\n",
       "      <th>ID</th>\n",
       "    </tr>\n",
       "  </thead>\n",
       "  <tbody>\n",
       "    <tr>\n",
       "      <th>0</th>\n",
       "      <td>1</td>\n",
       "      <td>0.7</td>\n",
       "      <td>1</td>\n",
       "      <td>1</td>\n",
       "    </tr>\n",
       "    <tr>\n",
       "      <th>1</th>\n",
       "      <td>2</td>\n",
       "      <td>-1.6</td>\n",
       "      <td>1</td>\n",
       "      <td>2</td>\n",
       "    </tr>\n",
       "    <tr>\n",
       "      <th>2</th>\n",
       "      <td>3</td>\n",
       "      <td>-0.2</td>\n",
       "      <td>1</td>\n",
       "      <td>3</td>\n",
       "    </tr>\n",
       "    <tr>\n",
       "      <th>3</th>\n",
       "      <td>4</td>\n",
       "      <td>-1.2</td>\n",
       "      <td>1</td>\n",
       "      <td>4</td>\n",
       "    </tr>\n",
       "    <tr>\n",
       "      <th>4</th>\n",
       "      <td>5</td>\n",
       "      <td>-0.1</td>\n",
       "      <td>1</td>\n",
       "      <td>5</td>\n",
       "    </tr>\n",
       "    <tr>\n",
       "      <th>5</th>\n",
       "      <td>6</td>\n",
       "      <td>3.4</td>\n",
       "      <td>1</td>\n",
       "      <td>6</td>\n",
       "    </tr>\n",
       "    <tr>\n",
       "      <th>6</th>\n",
       "      <td>7</td>\n",
       "      <td>3.7</td>\n",
       "      <td>1</td>\n",
       "      <td>7</td>\n",
       "    </tr>\n",
       "    <tr>\n",
       "      <th>7</th>\n",
       "      <td>8</td>\n",
       "      <td>0.8</td>\n",
       "      <td>1</td>\n",
       "      <td>8</td>\n",
       "    </tr>\n",
       "    <tr>\n",
       "      <th>8</th>\n",
       "      <td>9</td>\n",
       "      <td>0.0</td>\n",
       "      <td>1</td>\n",
       "      <td>9</td>\n",
       "    </tr>\n",
       "    <tr>\n",
       "      <th>9</th>\n",
       "      <td>10</td>\n",
       "      <td>2.0</td>\n",
       "      <td>1</td>\n",
       "      <td>10</td>\n",
       "    </tr>\n",
       "    <tr>\n",
       "      <th>10</th>\n",
       "      <td>11</td>\n",
       "      <td>1.9</td>\n",
       "      <td>2</td>\n",
       "      <td>1</td>\n",
       "    </tr>\n",
       "    <tr>\n",
       "      <th>11</th>\n",
       "      <td>12</td>\n",
       "      <td>0.8</td>\n",
       "      <td>2</td>\n",
       "      <td>2</td>\n",
       "    </tr>\n",
       "    <tr>\n",
       "      <th>12</th>\n",
       "      <td>13</td>\n",
       "      <td>1.1</td>\n",
       "      <td>2</td>\n",
       "      <td>3</td>\n",
       "    </tr>\n",
       "    <tr>\n",
       "      <th>13</th>\n",
       "      <td>14</td>\n",
       "      <td>0.1</td>\n",
       "      <td>2</td>\n",
       "      <td>4</td>\n",
       "    </tr>\n",
       "    <tr>\n",
       "      <th>14</th>\n",
       "      <td>15</td>\n",
       "      <td>-0.1</td>\n",
       "      <td>2</td>\n",
       "      <td>5</td>\n",
       "    </tr>\n",
       "    <tr>\n",
       "      <th>15</th>\n",
       "      <td>16</td>\n",
       "      <td>4.4</td>\n",
       "      <td>2</td>\n",
       "      <td>6</td>\n",
       "    </tr>\n",
       "    <tr>\n",
       "      <th>16</th>\n",
       "      <td>17</td>\n",
       "      <td>5.5</td>\n",
       "      <td>2</td>\n",
       "      <td>7</td>\n",
       "    </tr>\n",
       "    <tr>\n",
       "      <th>17</th>\n",
       "      <td>18</td>\n",
       "      <td>1.6</td>\n",
       "      <td>2</td>\n",
       "      <td>8</td>\n",
       "    </tr>\n",
       "    <tr>\n",
       "      <th>18</th>\n",
       "      <td>19</td>\n",
       "      <td>4.6</td>\n",
       "      <td>2</td>\n",
       "      <td>9</td>\n",
       "    </tr>\n",
       "    <tr>\n",
       "      <th>19</th>\n",
       "      <td>20</td>\n",
       "      <td>3.4</td>\n",
       "      <td>2</td>\n",
       "      <td>10</td>\n",
       "    </tr>\n",
       "  </tbody>\n",
       "</table>\n",
       "</div>"
      ],
      "text/plain": [
       "    Unnamed: 0  extra  group  ID\n",
       "0            1    0.7      1   1\n",
       "1            2   -1.6      1   2\n",
       "2            3   -0.2      1   3\n",
       "3            4   -1.2      1   4\n",
       "4            5   -0.1      1   5\n",
       "5            6    3.4      1   6\n",
       "6            7    3.7      1   7\n",
       "7            8    0.8      1   8\n",
       "8            9    0.0      1   9\n",
       "9           10    2.0      1  10\n",
       "10          11    1.9      2   1\n",
       "11          12    0.8      2   2\n",
       "12          13    1.1      2   3\n",
       "13          14    0.1      2   4\n",
       "14          15   -0.1      2   5\n",
       "15          16    4.4      2   6\n",
       "16          17    5.5      2   7\n",
       "17          18    1.6      2   8\n",
       "18          19    4.6      2   9\n",
       "19          20    3.4      2  10"
      ]
     },
     "execution_count": 12,
     "metadata": {},
     "output_type": "execute_result"
    }
   ],
   "source": [
    "dfsleep = pd.read_csv(\"https://vincentarelbundock.github.io/Rdatasets/csv/datasets/sleep.csv\")\n",
    "dfsleep"
   ]
  },
  {
   "cell_type": "code",
   "execution_count": 13,
   "id": "523d833c-a15a-4df1-91ff-078ac323bbfc",
   "metadata": {},
   "outputs": [
    {
     "data": {
      "text/plain": [
       "array([ 0.7, -1.6, -0.2, -1.2, -0.1,  3.4,  3.7,  0.8,  0. ,  2. ])"
      ]
     },
     "execution_count": 13,
     "metadata": {},
     "output_type": "execute_result"
    }
   ],
   "source": [
    "drugA = dfsleep[dfsleep[\"group\"]==1]\n",
    "drugA = drugA.sort_values(\"ID\")\n",
    "drugA = drugA[\"extra\"].to_numpy()\n",
    "drugA"
   ]
  },
  {
   "cell_type": "code",
   "execution_count": 14,
   "id": "9ac53bc5-872b-4ef7-ab17-c72744c7bdb2",
   "metadata": {},
   "outputs": [
    {
     "data": {
      "text/plain": [
       "array([ 1.9,  0.8,  1.1,  0.1, -0.1,  4.4,  5.5,  1.6,  4.6,  3.4])"
      ]
     },
     "execution_count": 14,
     "metadata": {},
     "output_type": "execute_result"
    }
   ],
   "source": [
    "drugB = dfsleep[dfsleep[\"group\"]==2]\n",
    "drugB = drugB.sort_values(\"ID\")\n",
    "drugB = drugB[\"extra\"].to_numpy()\n",
    "drugB"
   ]
  },
  {
   "cell_type": "code",
   "execution_count": 15,
   "id": "c759203b-8f0e-445a-9a73-bbf691a8550b",
   "metadata": {},
   "outputs": [
    {
     "data": {
      "text/plain": [
       "Ttest_relResult(statistic=-4.062127683382037, pvalue=0.00283289019738427)"
      ]
     },
     "execution_count": 15,
     "metadata": {},
     "output_type": "execute_result"
    }
   ],
   "source": [
    "ss.ttest_rel(drugA, drugB)"
   ]
  },
  {
   "cell_type": "code",
   "execution_count": 16,
   "id": "fe3ebffa-2b22-4aea-8e78-ca4be8c90d22",
   "metadata": {},
   "outputs": [
    {
     "data": {
      "text/plain": [
       "Ttest_1sampResult(statistic=4.062127683382037, pvalue=0.00283289019738427)"
      ]
     },
     "execution_count": 16,
     "metadata": {},
     "output_type": "execute_result"
    }
   ],
   "source": [
    "ss.ttest_1samp(drugB-drugA, 0)"
   ]
  },
  {
   "cell_type": "code",
   "execution_count": 17,
   "id": "3dd3f40f-e502-46e8-8562-f2a6d53dea49",
   "metadata": {},
   "outputs": [
    {
     "data": {
      "text/plain": [
       "(4.062127683382037, 0.00283289019738427, 9.0)"
      ]
     },
     "execution_count": 17,
     "metadata": {},
     "output_type": "execute_result"
    }
   ],
   "source": [
    "stat.DescrStatsW(drugB-drugA).ttest_mean(0)"
   ]
  },
  {
   "cell_type": "code",
   "execution_count": null,
   "id": "9144066b-86e0-4083-b355-881e18889b52",
   "metadata": {},
   "outputs": [],
   "source": []
  },
  {
   "cell_type": "markdown",
   "id": "ff8e4d3c-cfa1-4a39-88d9-78c556df3fa7",
   "metadata": {},
   "source": [
    "### Problems with multiple *t-Tests*\n",
    "\n",
    "Suppose we want to compare 3 groups - can 3 *t-Tests* be run in parallel"
   ]
  },
  {
   "cell_type": "code",
   "execution_count": 18,
   "id": "d56ee55f-3a18-4fdb-a628-e65eeef1afd1",
   "metadata": {},
   "outputs": [
    {
     "data": {
      "text/plain": [
       "<seaborn.axisgrid.FacetGrid at 0x2570d78d400>"
      ]
     },
     "execution_count": 18,
     "metadata": {},
     "output_type": "execute_result"
    },
    {
     "data": {
      "image/png": "[encoded data removed]",
      "text/plain": [
       "<Figure size 360x360 with 1 Axes>"
      ]
     },
     "metadata": {
      "needs_background": "light"
     },
     "output_type": "display_data"
    }
   ],
   "source": [
    "#Size of each sample\n",
    "N=100\n",
    "\n",
    "#Create 3 Samples\n",
    "sampA = np.random.normal(1.0, 0.2, N)\n",
    "sampB = np.random.normal(1.0, 0.2, N)\n",
    "sampC = np.random.normal(2.0, 0.2, N)\n",
    "\n",
    "#Put Samples in a single df\n",
    "sample = ['A'] * N + ['B'] * N + ['C'] * N\n",
    "values = np.hstack([sampA, sampB, sampC])\n",
    "dfsamps = pd.DataFrame({'Sample': sample, 'Value': values})\n",
    "\n",
    "# Visualise samples\n",
    "sns.catplot(x = 'Sample', y = 'Value', jitter = False, data = dfsamps)"
   ]
  },
  {
   "cell_type": "code",
   "execution_count": 19,
   "id": "6aac188a-b249-4804-9815-d2a388f4e179",
   "metadata": {},
   "outputs": [
    {
     "name": "stdout",
     "output_type": "stream",
     "text": [
      "p_AB: 0.10 \tp_AC: 0.00 \tp_BC: 0.00\n"
     ]
    }
   ],
   "source": [
    "# t-Tests\n",
    "t_AB, p_AB = ss.ttest_ind(sampA, sampB)\n",
    "t_AC, p_AC = ss.ttest_ind(sampA, sampC)\n",
    "t_BC, p_BC = ss.ttest_ind(sampB, sampC)\n",
    "\n",
    "print(f\"p_AB: {p_AB:.2f} \\tp_AC: {p_AC:.2f} \\tp_BC: {p_BC:.2f}\")"
   ]
  },
  {
   "cell_type": "code",
   "execution_count": 20,
   "id": "7f6f25fb-0dff-486e-b201-4d883d04cb15",
   "metadata": {},
   "outputs": [
    {
     "name": "stdout",
     "output_type": "stream",
     "text": [
      "False Positive Rate: 12.0%\n"
     ]
    }
   ],
   "source": [
    "# Run 1000 tests, remembering the Type I errors\n",
    "\n",
    "falsepos = 0\n",
    "\n",
    "for i in range (1000):\n",
    "    A = np.random.normal(1.0, 0.2, N)\n",
    "    B = np.random.normal(1.0, 0.2, N)\n",
    "    C = np.random.normal(1.0, 0.2, N)\n",
    "    t_AB, p_AB = ss.ttest_ind(A, B)\n",
    "    t_AC, p_AC = ss.ttest_ind(A, C)\n",
    "    t_BC, p_BC = ss.ttest_ind(B, C)\n",
    "    if p_AB <= 0.05 or p_AC <= 0.05 or p_BC <= 0.05:\n",
    "        falsepos = falsepos + 1\n",
    "\n",
    "print (f\"False Positive Rate: {falsepos / 10}%\")"
   ]
  },
  {
   "cell_type": "markdown",
   "id": "bdf81252-b7c6-4e02-8df5-a2ce5e15c111",
   "metadata": {},
   "source": [
    "As you can see even with the critical value at 5% we are still getting false positisve at a much higher rate (I ran this around 20 times and it returned at a rate between 10.6-13.9% (mostly around the 11.5% mark)"
   ]
  },
  {
   "cell_type": "markdown",
   "id": "378efa62-ed4a-429a-9d94-454d1985418d",
   "metadata": {},
   "source": [
    "### Analysis of Varience (ANOVA)\n",
    "\n",
    "ANOVA can be used to avoid a higher Type 1 Error Rate"
   ]
  },
  {
   "cell_type": "code",
   "execution_count": 21,
   "id": "b5eb3f62-9796-43ba-b20f-2ee54e148ab2",
   "metadata": {},
   "outputs": [
    {
     "name": "stdout",
     "output_type": "stream",
     "text": [
      "F:830.34 P:0.00\n"
     ]
    }
   ],
   "source": [
    "F, P = ss.f_oneway(sampA, sampB, sampC)\n",
    "print(f\"F:{F:.2f} P:{P:.2f}\")"
   ]
  },
  {
   "cell_type": "code",
   "execution_count": 22,
   "id": "3524fbae-85af-44d7-8205-05be82a7959e",
   "metadata": {},
   "outputs": [
    {
     "name": "stdout",
     "output_type": "stream",
     "text": [
      "4.69%\n"
     ]
    }
   ],
   "source": [
    "# Let's run 10000 ANOVAs where the population means are equal.\n",
    "# We should make the wrong decision (reject the hypothesis) (100 * critical) percent of the time.\n",
    "# We expect to incorrectly reject the null hypothesis 5% of the time.\n",
    "\n",
    "# The number of trials to run.\n",
    "trials = 10000\n",
    "# The number of values in each sample.\n",
    "N = 100\n",
    "# Population 1 mean, population 2 mean, population 3 mean, standard deviation in both.\n",
    "mean1, mean2, mean3, stddev = 2.0, 2.0, 2.0, 0.3\n",
    "# Critical probability value.\n",
    "critical = 0.05\n",
    "\n",
    "# Running total of type I errors commited.\n",
    "rejects = 0\n",
    "\n",
    "# Loop throguh trials.\n",
    "for i in range(trials):\n",
    "    # Generate sample 1.\n",
    "    sample1 = np.random.normal(loc=mean1, scale=stddev, size=N)\n",
    "    # Generate sample 2.\n",
    "    sample2 = np.random.normal(loc=mean2, scale=stddev, size=N)\n",
    "    # Generate sample 3.\n",
    "    sample3 = np.random.normal(loc=mean3, scale=stddev, size=N)\n",
    "    # Run the test.\n",
    "    F, p = ss.f_oneway(sample1, sample2, sample3)\n",
    "    # If any is less than critical, reject.\n",
    "    if p <= critical:\n",
    "        rejects = rejects + 1\n",
    "\n",
    "# Print results.\n",
    "typei = 100.0 * (rejects / trials)\n",
    "print(f\"{typei:0.2f}%\")"
   ]
  },
  {
   "cell_type": "code",
   "execution_count": null,
   "id": "c505d078-e31f-4d6d-8395-7fc3deec5f72",
   "metadata": {},
   "outputs": [],
   "source": []
  },
  {
   "cell_type": "code",
   "execution_count": null,
   "id": "5f737d2d-2348-44fb-a1f3-a789290031a9",
   "metadata": {},
   "outputs": [],
   "source": []
  },
  {
   "cell_type": "code",
   "execution_count": null,
   "id": "de073be6-2999-4baf-abf7-2db2026be0e5",
   "metadata": {},
   "outputs": [],
   "source": []
  },
  {
   "cell_type": "code",
   "execution_count": null,
   "id": "05b5daa2-1165-488f-9ee9-acdd82b432b3",
   "metadata": {},
   "outputs": [],
   "source": []
  }
 ],
 "metadata": {
  "kernelspec": {
   "display_name": "Python 3 (ipykernel)",
   "language": "python",
   "name": "python3"
  },
  "language_info": {
   "codemirror_mode": {
    "name": "ipython",
    "version": 3
   },
   "file_extension": ".py",
   "mimetype": "text/x-python",
   "name": "python",
   "nbconvert_exporter": "python",
   "pygments_lexer": "ipython3",
   "version": "3.9.12"
  }
 },
 "nbformat": 4,
 "nbformat_minor": 5
}
